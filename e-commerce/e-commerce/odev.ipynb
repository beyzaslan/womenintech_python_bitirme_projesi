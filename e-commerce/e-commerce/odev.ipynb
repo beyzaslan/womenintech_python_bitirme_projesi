{
 "cells": [
  {
   "cell_type": "code",
   "execution_count": 217,
   "metadata": {},
   "outputs": [],
   "source": [
    "import pandas as  pd #pandas kütüphanesi import edildi. \n",
    "import numpy as np\n",
    "import datetime as dt\n",
    "import matplotlib.pyplot as plt\n",
    "import seaborn as sns #seaborn kütüphanesi görselleştirme için import edildi.\n",
    "sns.set()"
   ]
  },
  {
   "cell_type": "markdown",
   "metadata": {},
   "source": [
    "----------------------**customers_dataset.csv hakkında bilgiler**--------------------------"
   ]
  },
  {
   "cell_type": "code",
   "execution_count": 218,
   "metadata": {},
   "outputs": [
    {
     "data": {
      "text/html": [
       "<div>\n",
       "<style scoped>\n",
       "    .dataframe tbody tr th:only-of-type {\n",
       "        vertical-align: middle;\n",
       "    }\n",
       "\n",
       "    .dataframe tbody tr th {\n",
       "        vertical-align: top;\n",
       "    }\n",
       "\n",
       "    .dataframe thead th {\n",
       "        text-align: right;\n",
       "    }\n",
       "</style>\n",
       "<table border=\"1\" class=\"dataframe\">\n",
       "  <thead>\n",
       "    <tr style=\"text-align: right;\">\n",
       "      <th></th>\n",
       "      <th>customer_id</th>\n",
       "      <th>customer_unique_id</th>\n",
       "      <th>customer_zip_code_prefix</th>\n",
       "      <th>customer_city</th>\n",
       "      <th>customer_state</th>\n",
       "    </tr>\n",
       "  </thead>\n",
       "  <tbody>\n",
       "    <tr>\n",
       "      <th>0</th>\n",
       "      <td>06b8999e2fba1a1fbc88172c00ba8bc7</td>\n",
       "      <td>861eff4711a542e4b93843c6dd7febb0</td>\n",
       "      <td>14409</td>\n",
       "      <td>franca</td>\n",
       "      <td>SP</td>\n",
       "    </tr>\n",
       "    <tr>\n",
       "      <th>1</th>\n",
       "      <td>18955e83d337fd6b2def6b18a428ac77</td>\n",
       "      <td>290c77bc529b7ac935b93aa66c333dc3</td>\n",
       "      <td>9790</td>\n",
       "      <td>sao bernardo do campo</td>\n",
       "      <td>SP</td>\n",
       "    </tr>\n",
       "    <tr>\n",
       "      <th>2</th>\n",
       "      <td>4e7b3e00288586ebd08712fdd0374a03</td>\n",
       "      <td>060e732b5b29e8181a18229c7b0b2b5e</td>\n",
       "      <td>1151</td>\n",
       "      <td>sao paulo</td>\n",
       "      <td>SP</td>\n",
       "    </tr>\n",
       "    <tr>\n",
       "      <th>3</th>\n",
       "      <td>b2b6027bc5c5109e529d4dc6358b12c3</td>\n",
       "      <td>259dac757896d24d7702b9acbbff3f3c</td>\n",
       "      <td>8775</td>\n",
       "      <td>mogi das cruzes</td>\n",
       "      <td>SP</td>\n",
       "    </tr>\n",
       "    <tr>\n",
       "      <th>4</th>\n",
       "      <td>4f2d8ab171c80ec8364f7c12e35b23ad</td>\n",
       "      <td>345ecd01c38d18a9036ed96c73b8d066</td>\n",
       "      <td>13056</td>\n",
       "      <td>campinas</td>\n",
       "      <td>SP</td>\n",
       "    </tr>\n",
       "  </tbody>\n",
       "</table>\n",
       "</div>"
      ],
      "text/plain": [
       "                        customer_id                customer_unique_id  \\\n",
       "0  06b8999e2fba1a1fbc88172c00ba8bc7  861eff4711a542e4b93843c6dd7febb0   \n",
       "1  18955e83d337fd6b2def6b18a428ac77  290c77bc529b7ac935b93aa66c333dc3   \n",
       "2  4e7b3e00288586ebd08712fdd0374a03  060e732b5b29e8181a18229c7b0b2b5e   \n",
       "3  b2b6027bc5c5109e529d4dc6358b12c3  259dac757896d24d7702b9acbbff3f3c   \n",
       "4  4f2d8ab171c80ec8364f7c12e35b23ad  345ecd01c38d18a9036ed96c73b8d066   \n",
       "\n",
       "   customer_zip_code_prefix          customer_city customer_state  \n",
       "0                     14409                 franca             SP  \n",
       "1                      9790  sao bernardo do campo             SP  \n",
       "2                      1151              sao paulo             SP  \n",
       "3                      8775        mogi das cruzes             SP  \n",
       "4                     13056               campinas             SP  "
      ]
     },
     "execution_count": 218,
     "metadata": {},
     "output_type": "execute_result"
    }
   ],
   "source": [
    "df1 = pd.read_csv(\"customers_dataset.csv\", engine='python') # veri setimizi çektik.\n",
    "df1.head()"
   ]
  },
  {
   "cell_type": "code",
   "execution_count": 219,
   "metadata": {},
   "outputs": [],
   "source": [
    "df1.rename(columns={\"customer_id\" :\"MusteriNo\", \n",
    "                    \"customer_unique_id\":\"BenzersizMusteriNo\", \n",
    "                    \"customer_zip_code_prefix\":\"MusteriPostaKodu\",\n",
    "                    \"customer_city\":\"MusteriSehri\",\n",
    "                    \"customer_state\":\"MusteriUlke\"}, inplace=True)"
   ]
  },
  {
   "cell_type": "markdown",
   "metadata": {},
   "source": [
    "**Veri Setini İnceleme**"
   ]
  },
  {
   "cell_type": "code",
   "execution_count": 220,
   "metadata": {},
   "outputs": [
    {
     "data": {
      "text/html": [
       "<div>\n",
       "<style scoped>\n",
       "    .dataframe tbody tr th:only-of-type {\n",
       "        vertical-align: middle;\n",
       "    }\n",
       "\n",
       "    .dataframe tbody tr th {\n",
       "        vertical-align: top;\n",
       "    }\n",
       "\n",
       "    .dataframe thead th {\n",
       "        text-align: right;\n",
       "    }\n",
       "</style>\n",
       "<table border=\"1\" class=\"dataframe\">\n",
       "  <thead>\n",
       "    <tr style=\"text-align: right;\">\n",
       "      <th></th>\n",
       "      <th>MusteriNo</th>\n",
       "      <th>BenzersizMusteriNo</th>\n",
       "      <th>MusteriPostaKodu</th>\n",
       "      <th>MusteriSehri</th>\n",
       "      <th>MusteriUlke</th>\n",
       "    </tr>\n",
       "  </thead>\n",
       "  <tbody>\n",
       "    <tr>\n",
       "      <th>0</th>\n",
       "      <td>06b8999e2fba1a1fbc88172c00ba8bc7</td>\n",
       "      <td>861eff4711a542e4b93843c6dd7febb0</td>\n",
       "      <td>14409</td>\n",
       "      <td>franca</td>\n",
       "      <td>SP</td>\n",
       "    </tr>\n",
       "    <tr>\n",
       "      <th>1</th>\n",
       "      <td>18955e83d337fd6b2def6b18a428ac77</td>\n",
       "      <td>290c77bc529b7ac935b93aa66c333dc3</td>\n",
       "      <td>9790</td>\n",
       "      <td>sao bernardo do campo</td>\n",
       "      <td>SP</td>\n",
       "    </tr>\n",
       "    <tr>\n",
       "      <th>2</th>\n",
       "      <td>4e7b3e00288586ebd08712fdd0374a03</td>\n",
       "      <td>060e732b5b29e8181a18229c7b0b2b5e</td>\n",
       "      <td>1151</td>\n",
       "      <td>sao paulo</td>\n",
       "      <td>SP</td>\n",
       "    </tr>\n",
       "    <tr>\n",
       "      <th>3</th>\n",
       "      <td>b2b6027bc5c5109e529d4dc6358b12c3</td>\n",
       "      <td>259dac757896d24d7702b9acbbff3f3c</td>\n",
       "      <td>8775</td>\n",
       "      <td>mogi das cruzes</td>\n",
       "      <td>SP</td>\n",
       "    </tr>\n",
       "    <tr>\n",
       "      <th>4</th>\n",
       "      <td>4f2d8ab171c80ec8364f7c12e35b23ad</td>\n",
       "      <td>345ecd01c38d18a9036ed96c73b8d066</td>\n",
       "      <td>13056</td>\n",
       "      <td>campinas</td>\n",
       "      <td>SP</td>\n",
       "    </tr>\n",
       "  </tbody>\n",
       "</table>\n",
       "</div>"
      ],
      "text/plain": [
       "                          MusteriNo                BenzersizMusteriNo  \\\n",
       "0  06b8999e2fba1a1fbc88172c00ba8bc7  861eff4711a542e4b93843c6dd7febb0   \n",
       "1  18955e83d337fd6b2def6b18a428ac77  290c77bc529b7ac935b93aa66c333dc3   \n",
       "2  4e7b3e00288586ebd08712fdd0374a03  060e732b5b29e8181a18229c7b0b2b5e   \n",
       "3  b2b6027bc5c5109e529d4dc6358b12c3  259dac757896d24d7702b9acbbff3f3c   \n",
       "4  4f2d8ab171c80ec8364f7c12e35b23ad  345ecd01c38d18a9036ed96c73b8d066   \n",
       "\n",
       "   MusteriPostaKodu           MusteriSehri MusteriUlke  \n",
       "0             14409                 franca          SP  \n",
       "1              9790  sao bernardo do campo          SP  \n",
       "2              1151              sao paulo          SP  \n",
       "3              8775        mogi das cruzes          SP  \n",
       "4             13056               campinas          SP  "
      ]
     },
     "execution_count": 220,
     "metadata": {},
     "output_type": "execute_result"
    }
   ],
   "source": [
    "df1.head() # ilk 5 satır sıralandı."
   ]
  },
  {
   "cell_type": "code",
   "execution_count": 221,
   "metadata": {},
   "outputs": [
    {
     "data": {
      "text/html": [
       "<div>\n",
       "<style scoped>\n",
       "    .dataframe tbody tr th:only-of-type {\n",
       "        vertical-align: middle;\n",
       "    }\n",
       "\n",
       "    .dataframe tbody tr th {\n",
       "        vertical-align: top;\n",
       "    }\n",
       "\n",
       "    .dataframe thead th {\n",
       "        text-align: right;\n",
       "    }\n",
       "</style>\n",
       "<table border=\"1\" class=\"dataframe\">\n",
       "  <thead>\n",
       "    <tr style=\"text-align: right;\">\n",
       "      <th></th>\n",
       "      <th>MusteriNo</th>\n",
       "      <th>BenzersizMusteriNo</th>\n",
       "      <th>MusteriPostaKodu</th>\n",
       "      <th>MusteriSehri</th>\n",
       "      <th>MusteriUlke</th>\n",
       "    </tr>\n",
       "  </thead>\n",
       "  <tbody>\n",
       "    <tr>\n",
       "      <th>99434</th>\n",
       "      <td>f5a0b560f9e9427792a88bec97710212</td>\n",
       "      <td>b3e53d18a997f27a3ffd16da497eaf58</td>\n",
       "      <td>7790</td>\n",
       "      <td>cajamar</td>\n",
       "      <td>SP</td>\n",
       "    </tr>\n",
       "    <tr>\n",
       "      <th>99435</th>\n",
       "      <td>7fe2e80252a9ea476f950ae8f85b0f8f</td>\n",
       "      <td>4b5820135d360a45552b5163835b1d89</td>\n",
       "      <td>35500</td>\n",
       "      <td>divinopolis</td>\n",
       "      <td>MG</td>\n",
       "    </tr>\n",
       "    <tr>\n",
       "      <th>99436</th>\n",
       "      <td>17ddf5dd5d51696bb3d7c6291687be6f</td>\n",
       "      <td>1a29b476fee25c95fbafc67c5ac95cf8</td>\n",
       "      <td>3937</td>\n",
       "      <td>sao paulo</td>\n",
       "      <td>SP</td>\n",
       "    </tr>\n",
       "    <tr>\n",
       "      <th>99437</th>\n",
       "      <td>e7b71a9017aa05c9a7fd292d714858e8</td>\n",
       "      <td>d52a67c98be1cf6a5c84435bd38d095d</td>\n",
       "      <td>6764</td>\n",
       "      <td>taboao da serra</td>\n",
       "      <td>SP</td>\n",
       "    </tr>\n",
       "    <tr>\n",
       "      <th>99438</th>\n",
       "      <td>5e28dfe12db7fb50a4b2f691faecea5e</td>\n",
       "      <td>e9f50caf99f032f0bf3c55141f019d99</td>\n",
       "      <td>60115</td>\n",
       "      <td>fortaleza</td>\n",
       "      <td>CE</td>\n",
       "    </tr>\n",
       "    <tr>\n",
       "      <th>99439</th>\n",
       "      <td>56b18e2166679b8a959d72dd06da27f9</td>\n",
       "      <td>73c2643a0a458b49f58cea58833b192e</td>\n",
       "      <td>92120</td>\n",
       "      <td>canoas</td>\n",
       "      <td>RS</td>\n",
       "    </tr>\n",
       "    <tr>\n",
       "      <th>99440</th>\n",
       "      <td>274fa6071e5e17fe303b9748641082c8</td>\n",
       "      <td>84732c5050c01db9b23e19ba39899398</td>\n",
       "      <td>6703</td>\n",
       "      <td>cotia</td>\n",
       "      <td>SP</td>\n",
       "    </tr>\n",
       "  </tbody>\n",
       "</table>\n",
       "</div>"
      ],
      "text/plain": [
       "                              MusteriNo                BenzersizMusteriNo  \\\n",
       "99434  f5a0b560f9e9427792a88bec97710212  b3e53d18a997f27a3ffd16da497eaf58   \n",
       "99435  7fe2e80252a9ea476f950ae8f85b0f8f  4b5820135d360a45552b5163835b1d89   \n",
       "99436  17ddf5dd5d51696bb3d7c6291687be6f  1a29b476fee25c95fbafc67c5ac95cf8   \n",
       "99437  e7b71a9017aa05c9a7fd292d714858e8  d52a67c98be1cf6a5c84435bd38d095d   \n",
       "99438  5e28dfe12db7fb50a4b2f691faecea5e  e9f50caf99f032f0bf3c55141f019d99   \n",
       "99439  56b18e2166679b8a959d72dd06da27f9  73c2643a0a458b49f58cea58833b192e   \n",
       "99440  274fa6071e5e17fe303b9748641082c8  84732c5050c01db9b23e19ba39899398   \n",
       "\n",
       "       MusteriPostaKodu     MusteriSehri MusteriUlke  \n",
       "99434              7790          cajamar          SP  \n",
       "99435             35500      divinopolis          MG  \n",
       "99436              3937        sao paulo          SP  \n",
       "99437              6764  taboao da serra          SP  \n",
       "99438             60115        fortaleza          CE  \n",
       "99439             92120           canoas          RS  \n",
       "99440              6703            cotia          SP  "
      ]
     },
     "execution_count": 221,
     "metadata": {},
     "output_type": "execute_result"
    }
   ],
   "source": [
    "df1.tail(7) #sondan 7 satır sıralandı."
   ]
  },
  {
   "cell_type": "code",
   "execution_count": 222,
   "metadata": {},
   "outputs": [
    {
     "name": "stdout",
     "output_type": "stream",
     "text": [
      "<class 'pandas.core.frame.DataFrame'>\n",
      "RangeIndex: 99441 entries, 0 to 99440\n",
      "Data columns (total 5 columns):\n",
      " #   Column              Non-Null Count  Dtype \n",
      "---  ------              --------------  ----- \n",
      " 0   MusteriNo           99441 non-null  object\n",
      " 1   BenzersizMusteriNo  99441 non-null  object\n",
      " 2   MusteriPostaKodu    99441 non-null  int64 \n",
      " 3   MusteriSehri        99441 non-null  object\n",
      " 4   MusteriUlke         99441 non-null  object\n",
      "dtypes: int64(1), object(4)\n",
      "memory usage: 3.8+ MB\n"
     ]
    }
   ],
   "source": [
    "df1.info() #veri seti hakkında genel bilgiler özetlendi. Boş değer olmadığı görülüyor."
   ]
  },
  {
   "cell_type": "code",
   "execution_count": 223,
   "metadata": {},
   "outputs": [
    {
     "data": {
      "text/plain": [
       "MusteriNo             0\n",
       "BenzersizMusteriNo    0\n",
       "MusteriPostaKodu      0\n",
       "MusteriSehri          0\n",
       "MusteriUlke           0\n",
       "dtype: int64"
      ]
     },
     "execution_count": 223,
     "metadata": {},
     "output_type": "execute_result"
    }
   ],
   "source": [
    "df1.isnull().sum()"
   ]
  },
  {
   "cell_type": "code",
   "execution_count": 224,
   "metadata": {},
   "outputs": [
    {
     "data": {
      "text/html": [
       "<div>\n",
       "<style scoped>\n",
       "    .dataframe tbody tr th:only-of-type {\n",
       "        vertical-align: middle;\n",
       "    }\n",
       "\n",
       "    .dataframe tbody tr th {\n",
       "        vertical-align: top;\n",
       "    }\n",
       "\n",
       "    .dataframe thead th {\n",
       "        text-align: right;\n",
       "    }\n",
       "</style>\n",
       "<table border=\"1\" class=\"dataframe\">\n",
       "  <thead>\n",
       "    <tr style=\"text-align: right;\">\n",
       "      <th></th>\n",
       "      <th>count</th>\n",
       "      <th>mean</th>\n",
       "      <th>std</th>\n",
       "      <th>min</th>\n",
       "      <th>25%</th>\n",
       "      <th>50%</th>\n",
       "      <th>75%</th>\n",
       "      <th>max</th>\n",
       "    </tr>\n",
       "  </thead>\n",
       "  <tbody>\n",
       "    <tr>\n",
       "      <th>MusteriPostaKodu</th>\n",
       "      <td>99441.0</td>\n",
       "      <td>35137.474583</td>\n",
       "      <td>29797.938996</td>\n",
       "      <td>1003.0</td>\n",
       "      <td>11347.0</td>\n",
       "      <td>24416.0</td>\n",
       "      <td>58900.0</td>\n",
       "      <td>99990.0</td>\n",
       "    </tr>\n",
       "  </tbody>\n",
       "</table>\n",
       "</div>"
      ],
      "text/plain": [
       "                    count          mean           std     min      25%  \\\n",
       "MusteriPostaKodu  99441.0  35137.474583  29797.938996  1003.0  11347.0   \n",
       "\n",
       "                      50%      75%      max  \n",
       "MusteriPostaKodu  24416.0  58900.0  99990.0  "
      ]
     },
     "execution_count": 224,
     "metadata": {},
     "output_type": "execute_result"
    }
   ],
   "source": [
    "df1.describe().T #veri setimizin betimsel olarak tanımlandı. Sayısal veri 1 tane olduğu için 1 sütun listelendi."
   ]
  },
  {
   "cell_type": "code",
   "execution_count": 225,
   "metadata": {},
   "outputs": [
    {
     "data": {
      "text/plain": [
       "MusteriNo             object\n",
       "BenzersizMusteriNo    object\n",
       "MusteriPostaKodu       int64\n",
       "MusteriSehri          object\n",
       "MusteriUlke           object\n",
       "dtype: object"
      ]
     },
     "execution_count": 225,
     "metadata": {},
     "output_type": "execute_result"
    }
   ],
   "source": [
    "df1.dtypes #veri setimizdeki değerlerin hangi tipte olduğu listelendi."
   ]
  },
  {
   "cell_type": "code",
   "execution_count": 226,
   "metadata": {},
   "outputs": [
    {
     "data": {
      "text/plain": [
       "Index(['MusteriNo', 'BenzersizMusteriNo', 'MusteriPostaKodu', 'MusteriSehri',\n",
       "       'MusteriUlke'],\n",
       "      dtype='object')"
      ]
     },
     "execution_count": 226,
     "metadata": {},
     "output_type": "execute_result"
    }
   ],
   "source": [
    "df1.columns #veri setimizin sütunlarını gördük."
   ]
  },
  {
   "cell_type": "code",
   "execution_count": 227,
   "metadata": {},
   "outputs": [
    {
     "data": {
      "text/plain": [
       "(99441, 5)"
      ]
     },
     "execution_count": 227,
     "metadata": {},
     "output_type": "execute_result"
    }
   ],
   "source": [
    "df1.shape #veri setimizin kaç hücre ve kaç sütundan oluştuğu bilgisi."
   ]
  },
  {
   "cell_type": "code",
   "execution_count": 228,
   "metadata": {},
   "outputs": [
    {
     "data": {
      "text/plain": [
       "sao paulo            15540\n",
       "rio de janeiro        6882\n",
       "belo horizonte        2773\n",
       "brasilia              2131\n",
       "curitiba              1521\n",
       "                     ...  \n",
       "bequimao                 1\n",
       "andarai                  1\n",
       "vargem grande            1\n",
       "curvelandia              1\n",
       "eugenio de castro        1\n",
       "Name: MusteriSehri, Length: 4119, dtype: int64"
      ]
     },
     "execution_count": 228,
     "metadata": {},
     "output_type": "execute_result"
    }
   ],
   "source": [
    "df1[\"MusteriSehri\"].value_counts()"
   ]
  },
  {
   "cell_type": "code",
   "execution_count": 229,
   "metadata": {},
   "outputs": [
    {
     "data": {
      "text/plain": [
       "MusteriNo             99441\n",
       "BenzersizMusteriNo    96096\n",
       "MusteriPostaKodu      14994\n",
       "MusteriSehri           4119\n",
       "MusteriUlke              27\n",
       "dtype: int64"
      ]
     },
     "execution_count": 229,
     "metadata": {},
     "output_type": "execute_result"
    }
   ],
   "source": [
    "df1.nunique() #eşsiz değerlerin sayımı"
   ]
  },
  {
   "cell_type": "code",
   "execution_count": 230,
   "metadata": {},
   "outputs": [
    {
     "name": "stdout",
     "output_type": "stream",
     "text": [
      "0\n"
     ]
    }
   ],
   "source": [
    "print(sum(df1.duplicated(keep=\"first\"))) #dublicate veri kontrolü\n"
   ]
  },
  {
   "cell_type": "markdown",
   "metadata": {},
   "source": [
    "**customer_dataset.csv ile ilgili analizler**"
   ]
  },
  {
   "cell_type": "code",
   "execution_count": 231,
   "metadata": {},
   "outputs": [
    {
     "data": {
      "text/plain": [
       "0                   franca\n",
       "1    sao bernardo do campo\n",
       "2                sao paulo\n",
       "3          mogi das cruzes\n",
       "4                 campinas\n",
       "Name: MusteriSehri, dtype: object"
      ]
     },
     "execution_count": 231,
     "metadata": {},
     "output_type": "execute_result"
    }
   ],
   "source": [
    "df1.MusteriSehri.head()"
   ]
  },
  {
   "cell_type": "code",
   "execution_count": 232,
   "metadata": {},
   "outputs": [
    {
     "data": {
      "text/html": [
       "<div>\n",
       "<style scoped>\n",
       "    .dataframe tbody tr th:only-of-type {\n",
       "        vertical-align: middle;\n",
       "    }\n",
       "\n",
       "    .dataframe tbody tr th {\n",
       "        vertical-align: top;\n",
       "    }\n",
       "\n",
       "    .dataframe thead th {\n",
       "        text-align: right;\n",
       "    }\n",
       "</style>\n",
       "<table border=\"1\" class=\"dataframe\">\n",
       "  <thead>\n",
       "    <tr style=\"text-align: right;\">\n",
       "      <th></th>\n",
       "      <th>MusteriNo</th>\n",
       "      <th>BenzersizMusteriNo</th>\n",
       "      <th>MusteriPostaKodu</th>\n",
       "      <th>MusteriSehri</th>\n",
       "      <th>MusteriUlke</th>\n",
       "    </tr>\n",
       "  </thead>\n",
       "  <tbody>\n",
       "    <tr>\n",
       "      <th>0</th>\n",
       "      <td>06b8999e2fba1a1fbc88172c00ba8bc7</td>\n",
       "      <td>861eff4711a542e4b93843c6dd7febb0</td>\n",
       "      <td>14409</td>\n",
       "      <td>franca</td>\n",
       "      <td>SP</td>\n",
       "    </tr>\n",
       "    <tr>\n",
       "      <th>1</th>\n",
       "      <td>18955e83d337fd6b2def6b18a428ac77</td>\n",
       "      <td>290c77bc529b7ac935b93aa66c333dc3</td>\n",
       "      <td>9790</td>\n",
       "      <td>sao bernardo do campo</td>\n",
       "      <td>SP</td>\n",
       "    </tr>\n",
       "    <tr>\n",
       "      <th>3</th>\n",
       "      <td>b2b6027bc5c5109e529d4dc6358b12c3</td>\n",
       "      <td>259dac757896d24d7702b9acbbff3f3c</td>\n",
       "      <td>8775</td>\n",
       "      <td>mogi das cruzes</td>\n",
       "      <td>SP</td>\n",
       "    </tr>\n",
       "    <tr>\n",
       "      <th>4</th>\n",
       "      <td>4f2d8ab171c80ec8364f7c12e35b23ad</td>\n",
       "      <td>345ecd01c38d18a9036ed96c73b8d066</td>\n",
       "      <td>13056</td>\n",
       "      <td>campinas</td>\n",
       "      <td>SP</td>\n",
       "    </tr>\n",
       "    <tr>\n",
       "      <th>5</th>\n",
       "      <td>879864dab9bc3047522c92c82e1212b8</td>\n",
       "      <td>4c93744516667ad3b8f1fb645a3116a4</td>\n",
       "      <td>89254</td>\n",
       "      <td>jaragua do sul</td>\n",
       "      <td>SC</td>\n",
       "    </tr>\n",
       "    <tr>\n",
       "      <th>...</th>\n",
       "      <td>...</td>\n",
       "      <td>...</td>\n",
       "      <td>...</td>\n",
       "      <td>...</td>\n",
       "      <td>...</td>\n",
       "    </tr>\n",
       "    <tr>\n",
       "      <th>99435</th>\n",
       "      <td>7fe2e80252a9ea476f950ae8f85b0f8f</td>\n",
       "      <td>4b5820135d360a45552b5163835b1d89</td>\n",
       "      <td>35500</td>\n",
       "      <td>divinopolis</td>\n",
       "      <td>MG</td>\n",
       "    </tr>\n",
       "    <tr>\n",
       "      <th>99437</th>\n",
       "      <td>e7b71a9017aa05c9a7fd292d714858e8</td>\n",
       "      <td>d52a67c98be1cf6a5c84435bd38d095d</td>\n",
       "      <td>6764</td>\n",
       "      <td>taboao da serra</td>\n",
       "      <td>SP</td>\n",
       "    </tr>\n",
       "    <tr>\n",
       "      <th>99438</th>\n",
       "      <td>5e28dfe12db7fb50a4b2f691faecea5e</td>\n",
       "      <td>e9f50caf99f032f0bf3c55141f019d99</td>\n",
       "      <td>60115</td>\n",
       "      <td>fortaleza</td>\n",
       "      <td>CE</td>\n",
       "    </tr>\n",
       "    <tr>\n",
       "      <th>99439</th>\n",
       "      <td>56b18e2166679b8a959d72dd06da27f9</td>\n",
       "      <td>73c2643a0a458b49f58cea58833b192e</td>\n",
       "      <td>92120</td>\n",
       "      <td>canoas</td>\n",
       "      <td>RS</td>\n",
       "    </tr>\n",
       "    <tr>\n",
       "      <th>99440</th>\n",
       "      <td>274fa6071e5e17fe303b9748641082c8</td>\n",
       "      <td>84732c5050c01db9b23e19ba39899398</td>\n",
       "      <td>6703</td>\n",
       "      <td>cotia</td>\n",
       "      <td>SP</td>\n",
       "    </tr>\n",
       "  </tbody>\n",
       "</table>\n",
       "<p>88353 rows × 5 columns</p>\n",
       "</div>"
      ],
      "text/plain": [
       "                              MusteriNo                BenzersizMusteriNo  \\\n",
       "0      06b8999e2fba1a1fbc88172c00ba8bc7  861eff4711a542e4b93843c6dd7febb0   \n",
       "1      18955e83d337fd6b2def6b18a428ac77  290c77bc529b7ac935b93aa66c333dc3   \n",
       "3      b2b6027bc5c5109e529d4dc6358b12c3  259dac757896d24d7702b9acbbff3f3c   \n",
       "4      4f2d8ab171c80ec8364f7c12e35b23ad  345ecd01c38d18a9036ed96c73b8d066   \n",
       "5      879864dab9bc3047522c92c82e1212b8  4c93744516667ad3b8f1fb645a3116a4   \n",
       "...                                 ...                               ...   \n",
       "99435  7fe2e80252a9ea476f950ae8f85b0f8f  4b5820135d360a45552b5163835b1d89   \n",
       "99437  e7b71a9017aa05c9a7fd292d714858e8  d52a67c98be1cf6a5c84435bd38d095d   \n",
       "99438  5e28dfe12db7fb50a4b2f691faecea5e  e9f50caf99f032f0bf3c55141f019d99   \n",
       "99439  56b18e2166679b8a959d72dd06da27f9  73c2643a0a458b49f58cea58833b192e   \n",
       "99440  274fa6071e5e17fe303b9748641082c8  84732c5050c01db9b23e19ba39899398   \n",
       "\n",
       "       MusteriPostaKodu           MusteriSehri MusteriUlke  \n",
       "0                 14409                 franca          SP  \n",
       "1                  9790  sao bernardo do campo          SP  \n",
       "3                  8775        mogi das cruzes          SP  \n",
       "4                 13056               campinas          SP  \n",
       "5                 89254         jaragua do sul          SC  \n",
       "...                 ...                    ...         ...  \n",
       "99435             35500            divinopolis          MG  \n",
       "99437              6764        taboao da serra          SP  \n",
       "99438             60115              fortaleza          CE  \n",
       "99439             92120                 canoas          RS  \n",
       "99440              6703                  cotia          SP  \n",
       "\n",
       "[88353 rows x 5 columns]"
      ]
     },
     "execution_count": 232,
     "metadata": {},
     "output_type": "execute_result"
    }
   ],
   "source": [
    "df1[df1[\"MusteriPostaKodu\"] > 5000] #posta kodu 50000 den büyük olanlar çağırıldı."
   ]
  },
  {
   "cell_type": "code",
   "execution_count": 233,
   "metadata": {},
   "outputs": [
    {
     "data": {
      "text/html": [
       "<div>\n",
       "<style scoped>\n",
       "    .dataframe tbody tr th:only-of-type {\n",
       "        vertical-align: middle;\n",
       "    }\n",
       "\n",
       "    .dataframe tbody tr th {\n",
       "        vertical-align: top;\n",
       "    }\n",
       "\n",
       "    .dataframe thead th {\n",
       "        text-align: right;\n",
       "    }\n",
       "</style>\n",
       "<table border=\"1\" class=\"dataframe\">\n",
       "  <thead>\n",
       "    <tr style=\"text-align: right;\">\n",
       "      <th></th>\n",
       "      <th>MusteriNo</th>\n",
       "      <th>BenzersizMusteriNo</th>\n",
       "      <th>MusteriPostaKodu</th>\n",
       "      <th>MusteriSehri</th>\n",
       "      <th>MusteriUlke</th>\n",
       "    </tr>\n",
       "  </thead>\n",
       "  <tbody>\n",
       "    <tr>\n",
       "      <th>60</th>\n",
       "      <td>4fa19f7da692e6bf9602aaad3c372eda</td>\n",
       "      <td>a2b8841410cf77619574d311cd06fd5e</td>\n",
       "      <td>72270</td>\n",
       "      <td>brasilia</td>\n",
       "      <td>DF</td>\n",
       "    </tr>\n",
       "    <tr>\n",
       "      <th>94</th>\n",
       "      <td>e50a30de3c32f9406a7185f40ce6874d</td>\n",
       "      <td>b4d6e1b900d99b52e901860bc1f44e35</td>\n",
       "      <td>71540</td>\n",
       "      <td>brasilia</td>\n",
       "      <td>DF</td>\n",
       "    </tr>\n",
       "    <tr>\n",
       "      <th>106</th>\n",
       "      <td>9b7822c67a91b431e9254007b587214d</td>\n",
       "      <td>9d0ac1cdbfc919d676e2c2377abb32c1</td>\n",
       "      <td>71928</td>\n",
       "      <td>brasilia</td>\n",
       "      <td>DF</td>\n",
       "    </tr>\n",
       "    <tr>\n",
       "      <th>138</th>\n",
       "      <td>8b47e5ba29a9cd9947ee6be2f025ed66</td>\n",
       "      <td>9bbfdf9f7f65b58481e1ed110a2eed46</td>\n",
       "      <td>71665</td>\n",
       "      <td>brasilia</td>\n",
       "      <td>DF</td>\n",
       "    </tr>\n",
       "    <tr>\n",
       "      <th>144</th>\n",
       "      <td>d6ea00d4a2dca6a01c708931b325a9e5</td>\n",
       "      <td>1d4626b197f66aa6129c135ab09f1a7b</td>\n",
       "      <td>73020</td>\n",
       "      <td>brasilia</td>\n",
       "      <td>DF</td>\n",
       "    </tr>\n",
       "    <tr>\n",
       "      <th>...</th>\n",
       "      <td>...</td>\n",
       "      <td>...</td>\n",
       "      <td>...</td>\n",
       "      <td>...</td>\n",
       "      <td>...</td>\n",
       "    </tr>\n",
       "    <tr>\n",
       "      <th>99264</th>\n",
       "      <td>ff09fd7b29e7488a8d8a20badcd8befe</td>\n",
       "      <td>8c21dd8c37144807c601f99f2a209dfb</td>\n",
       "      <td>72587</td>\n",
       "      <td>brasilia</td>\n",
       "      <td>DF</td>\n",
       "    </tr>\n",
       "    <tr>\n",
       "      <th>99285</th>\n",
       "      <td>82e281923401bbece2a90eb6f90ffcc4</td>\n",
       "      <td>616277cacac20fcdaeceb8b876c80d8b</td>\n",
       "      <td>72220</td>\n",
       "      <td>brasilia</td>\n",
       "      <td>DF</td>\n",
       "    </tr>\n",
       "    <tr>\n",
       "      <th>99314</th>\n",
       "      <td>9cb64d5848fb5911adb3b50bacb0b051</td>\n",
       "      <td>1990af267e5300ecf794b03e463b87b2</td>\n",
       "      <td>71505</td>\n",
       "      <td>brasilia</td>\n",
       "      <td>DF</td>\n",
       "    </tr>\n",
       "    <tr>\n",
       "      <th>99320</th>\n",
       "      <td>4740044a9390cc45b2c213e8714129e7</td>\n",
       "      <td>08f7cf00ed9ff3e0a08fc136ec272974</td>\n",
       "      <td>71900</td>\n",
       "      <td>brasilia</td>\n",
       "      <td>DF</td>\n",
       "    </tr>\n",
       "    <tr>\n",
       "      <th>99367</th>\n",
       "      <td>a072679ac4ac4d56f1aaff9e763836ed</td>\n",
       "      <td>d632eddd34f00aa9d19613ba9cef6294</td>\n",
       "      <td>73060</td>\n",
       "      <td>brasilia</td>\n",
       "      <td>DF</td>\n",
       "    </tr>\n",
       "  </tbody>\n",
       "</table>\n",
       "<p>2131 rows × 5 columns</p>\n",
       "</div>"
      ],
      "text/plain": [
       "                              MusteriNo                BenzersizMusteriNo  \\\n",
       "60     4fa19f7da692e6bf9602aaad3c372eda  a2b8841410cf77619574d311cd06fd5e   \n",
       "94     e50a30de3c32f9406a7185f40ce6874d  b4d6e1b900d99b52e901860bc1f44e35   \n",
       "106    9b7822c67a91b431e9254007b587214d  9d0ac1cdbfc919d676e2c2377abb32c1   \n",
       "138    8b47e5ba29a9cd9947ee6be2f025ed66  9bbfdf9f7f65b58481e1ed110a2eed46   \n",
       "144    d6ea00d4a2dca6a01c708931b325a9e5  1d4626b197f66aa6129c135ab09f1a7b   \n",
       "...                                 ...                               ...   \n",
       "99264  ff09fd7b29e7488a8d8a20badcd8befe  8c21dd8c37144807c601f99f2a209dfb   \n",
       "99285  82e281923401bbece2a90eb6f90ffcc4  616277cacac20fcdaeceb8b876c80d8b   \n",
       "99314  9cb64d5848fb5911adb3b50bacb0b051  1990af267e5300ecf794b03e463b87b2   \n",
       "99320  4740044a9390cc45b2c213e8714129e7  08f7cf00ed9ff3e0a08fc136ec272974   \n",
       "99367  a072679ac4ac4d56f1aaff9e763836ed  d632eddd34f00aa9d19613ba9cef6294   \n",
       "\n",
       "       MusteriPostaKodu MusteriSehri MusteriUlke  \n",
       "60                72270     brasilia          DF  \n",
       "94                71540     brasilia          DF  \n",
       "106               71928     brasilia          DF  \n",
       "138               71665     brasilia          DF  \n",
       "144               73020     brasilia          DF  \n",
       "...                 ...          ...         ...  \n",
       "99264             72587     brasilia          DF  \n",
       "99285             72220     brasilia          DF  \n",
       "99314             71505     brasilia          DF  \n",
       "99320             71900     brasilia          DF  \n",
       "99367             73060     brasilia          DF  \n",
       "\n",
       "[2131 rows x 5 columns]"
      ]
     },
     "execution_count": 233,
     "metadata": {},
     "output_type": "execute_result"
    }
   ],
   "source": [
    "df1[df1[\"MusteriSehri\"]==\"brasilia\"]"
   ]
  },
  {
   "cell_type": "code",
   "execution_count": 234,
   "metadata": {},
   "outputs": [
    {
     "data": {
      "text/plain": [
       "MusteriPostaKodu\n",
       "1003     1\n",
       "1004     2\n",
       "1005     6\n",
       "1006     2\n",
       "1007     4\n",
       "        ..\n",
       "99960    2\n",
       "99965    2\n",
       "99970    1\n",
       "99980    2\n",
       "99990    1\n",
       "Length: 14994, dtype: int64"
      ]
     },
     "execution_count": 234,
     "metadata": {},
     "output_type": "execute_result"
    }
   ],
   "source": [
    "df1.groupby(\"MusteriPostaKodu\").size()"
   ]
  },
  {
   "cell_type": "code",
   "execution_count": 235,
   "metadata": {},
   "outputs": [
    {
     "name": "stderr",
     "output_type": "stream",
     "text": [
      "C:\\Users\\BEYZA ASLAN\\AppData\\Local\\Temp\\ipykernel_13104\\2347477700.py:2: UserWarning: \n",
      "\n",
      "`distplot` is a deprecated function and will be removed in seaborn v0.14.0.\n",
      "\n",
      "Please adapt your code to use either `displot` (a figure-level function with\n",
      "similar flexibility) or `histplot` (an axes-level function for histograms).\n",
      "\n",
      "For a guide to updating your code to use the new functions, please see\n",
      "https://gist.github.com/mwaskom/de44147ed2974457ad6372750bbe5751\n",
      "\n",
      "  sns.distplot(df1['MusteriPostaKodu'], kde=False)\n"
     ]
    },
    {
     "data": {
      "image/png": "[encoded data removed]",
      "text/plain": [
       "<Figure size 700x700 with 1 Axes>"
      ]
     },
     "metadata": {},
     "output_type": "display_data"
    }
   ],
   "source": [
    "plt.figure(figsize=(7,7))\n",
    "sns.distplot(df1['MusteriPostaKodu'], kde=False)\n",
    "plt.show()\n"
   ]
  },
  {
   "cell_type": "code",
   "execution_count": 236,
   "metadata": {},
   "outputs": [
    {
     "data": {
      "text/plain": [
       "4119"
      ]
     },
     "execution_count": 236,
     "metadata": {},
     "output_type": "execute_result"
    }
   ],
   "source": [
    "df1[\"MusteriSehri\"].value_counts().count() #kaç tane şehir olduğu görüldü."
   ]
  },
  {
   "cell_type": "code",
   "execution_count": 237,
   "metadata": {},
   "outputs": [
    {
     "data": {
      "text/plain": [
       "MusteriSehri\n",
       "abadia dos dourados     3\n",
       "abadiania               1\n",
       "abaete                 12\n",
       "abaetetuba             11\n",
       "abaiara                 2\n",
       "                       ..\n",
       "xinguara                9\n",
       "xique-xique             3\n",
       "zacarias                2\n",
       "ze doca                 5\n",
       "zortea                  2\n",
       "Length: 4119, dtype: int64"
      ]
     },
     "execution_count": 237,
     "metadata": {},
     "output_type": "execute_result"
    }
   ],
   "source": [
    "df1.groupby(\"MusteriSehri\").size() #hangi şehirde kaç tane müşteri var buna bakıldı. "
   ]
  },
  {
   "cell_type": "code",
   "execution_count": 238,
   "metadata": {},
   "outputs": [
    {
     "data": {
      "text/plain": [
       "MusteriPostaKodu  MusteriUlke\n",
       "1003              SP             1\n",
       "1004              SP             2\n",
       "1005              SP             6\n",
       "1006              SP             2\n",
       "1007              SP             4\n",
       "                                ..\n",
       "99960             RS             2\n",
       "99965             RS             2\n",
       "99970             RS             1\n",
       "99980             RS             2\n",
       "99990             RS             1\n",
       "Name: MusteriUlke, Length: 14994, dtype: int64"
      ]
     },
     "execution_count": 238,
     "metadata": {},
     "output_type": "execute_result"
    }
   ],
   "source": [
    "df1.groupby(\"MusteriPostaKodu\")[\"MusteriUlke\"].value_counts() "
   ]
  },
  {
   "cell_type": "markdown",
   "metadata": {},
   "source": [
    "-------------------------------------------**geolocation_dataset hakkında bilgiler**-----------------------------------------------"
   ]
  },
  {
   "cell_type": "code",
   "execution_count": 239,
   "metadata": {},
   "outputs": [
    {
     "data": {
      "text/html": [
       "<div>\n",
       "<style scoped>\n",
       "    .dataframe tbody tr th:only-of-type {\n",
       "        vertical-align: middle;\n",
       "    }\n",
       "\n",
       "    .dataframe tbody tr th {\n",
       "        vertical-align: top;\n",
       "    }\n",
       "\n",
       "    .dataframe thead th {\n",
       "        text-align: right;\n",
       "    }\n",
       "</style>\n",
       "<table border=\"1\" class=\"dataframe\">\n",
       "  <thead>\n",
       "    <tr style=\"text-align: right;\">\n",
       "      <th></th>\n",
       "      <th>geolocation_zip_code_prefix</th>\n",
       "      <th>geolocation_lat</th>\n",
       "      <th>geolocation_lng</th>\n",
       "      <th>geolocation_city</th>\n",
       "      <th>geolocation_state</th>\n",
       "    </tr>\n",
       "  </thead>\n",
       "  <tbody>\n",
       "    <tr>\n",
       "      <th>0</th>\n",
       "      <td>1037</td>\n",
       "      <td>-23.545621</td>\n",
       "      <td>-46.639292</td>\n",
       "      <td>sao paulo</td>\n",
       "      <td>SP</td>\n",
       "    </tr>\n",
       "    <tr>\n",
       "      <th>1</th>\n",
       "      <td>1046</td>\n",
       "      <td>-23.546081</td>\n",
       "      <td>-46.644820</td>\n",
       "      <td>sao paulo</td>\n",
       "      <td>SP</td>\n",
       "    </tr>\n",
       "    <tr>\n",
       "      <th>2</th>\n",
       "      <td>1046</td>\n",
       "      <td>-23.546129</td>\n",
       "      <td>-46.642951</td>\n",
       "      <td>sao paulo</td>\n",
       "      <td>SP</td>\n",
       "    </tr>\n",
       "    <tr>\n",
       "      <th>3</th>\n",
       "      <td>1041</td>\n",
       "      <td>-23.544392</td>\n",
       "      <td>-46.639499</td>\n",
       "      <td>sao paulo</td>\n",
       "      <td>SP</td>\n",
       "    </tr>\n",
       "    <tr>\n",
       "      <th>4</th>\n",
       "      <td>1035</td>\n",
       "      <td>-23.541578</td>\n",
       "      <td>-46.641607</td>\n",
       "      <td>sao paulo</td>\n",
       "      <td>SP</td>\n",
       "    </tr>\n",
       "  </tbody>\n",
       "</table>\n",
       "</div>"
      ],
      "text/plain": [
       "   geolocation_zip_code_prefix  geolocation_lat  geolocation_lng  \\\n",
       "0                         1037       -23.545621       -46.639292   \n",
       "1                         1046       -23.546081       -46.644820   \n",
       "2                         1046       -23.546129       -46.642951   \n",
       "3                         1041       -23.544392       -46.639499   \n",
       "4                         1035       -23.541578       -46.641607   \n",
       "\n",
       "  geolocation_city geolocation_state  \n",
       "0        sao paulo                SP  \n",
       "1        sao paulo                SP  \n",
       "2        sao paulo                SP  \n",
       "3        sao paulo                SP  \n",
       "4        sao paulo                SP  "
      ]
     },
     "execution_count": 239,
     "metadata": {},
     "output_type": "execute_result"
    }
   ],
   "source": [
    "df2 = pd.read_csv(\"geolocation_dataset.csv\", engine='python') # veri setimizi çektik.\n",
    "df2.head()"
   ]
  },
  {
   "cell_type": "code",
   "execution_count": 240,
   "metadata": {},
   "outputs": [
    {
     "data": {
      "text/html": [
       "<div>\n",
       "<style scoped>\n",
       "    .dataframe tbody tr th:only-of-type {\n",
       "        vertical-align: middle;\n",
       "    }\n",
       "\n",
       "    .dataframe tbody tr th {\n",
       "        vertical-align: top;\n",
       "    }\n",
       "\n",
       "    .dataframe thead th {\n",
       "        text-align: right;\n",
       "    }\n",
       "</style>\n",
       "<table border=\"1\" class=\"dataframe\">\n",
       "  <thead>\n",
       "    <tr style=\"text-align: right;\">\n",
       "      <th></th>\n",
       "      <th>CografiPostaKodu</th>\n",
       "      <th>CografiEnlem</th>\n",
       "      <th>CografiBoylam</th>\n",
       "      <th>CografiSehir</th>\n",
       "      <th>CografiKonum</th>\n",
       "    </tr>\n",
       "  </thead>\n",
       "  <tbody>\n",
       "    <tr>\n",
       "      <th>0</th>\n",
       "      <td>1037</td>\n",
       "      <td>-23.545621</td>\n",
       "      <td>-46.639292</td>\n",
       "      <td>sao paulo</td>\n",
       "      <td>SP</td>\n",
       "    </tr>\n",
       "    <tr>\n",
       "      <th>1</th>\n",
       "      <td>1046</td>\n",
       "      <td>-23.546081</td>\n",
       "      <td>-46.644820</td>\n",
       "      <td>sao paulo</td>\n",
       "      <td>SP</td>\n",
       "    </tr>\n",
       "    <tr>\n",
       "      <th>2</th>\n",
       "      <td>1046</td>\n",
       "      <td>-23.546129</td>\n",
       "      <td>-46.642951</td>\n",
       "      <td>sao paulo</td>\n",
       "      <td>SP</td>\n",
       "    </tr>\n",
       "    <tr>\n",
       "      <th>3</th>\n",
       "      <td>1041</td>\n",
       "      <td>-23.544392</td>\n",
       "      <td>-46.639499</td>\n",
       "      <td>sao paulo</td>\n",
       "      <td>SP</td>\n",
       "    </tr>\n",
       "    <tr>\n",
       "      <th>4</th>\n",
       "      <td>1035</td>\n",
       "      <td>-23.541578</td>\n",
       "      <td>-46.641607</td>\n",
       "      <td>sao paulo</td>\n",
       "      <td>SP</td>\n",
       "    </tr>\n",
       "  </tbody>\n",
       "</table>\n",
       "</div>"
      ],
      "text/plain": [
       "   CografiPostaKodu  CografiEnlem  CografiBoylam CografiSehir CografiKonum\n",
       "0              1037    -23.545621     -46.639292    sao paulo           SP\n",
       "1              1046    -23.546081     -46.644820    sao paulo           SP\n",
       "2              1046    -23.546129     -46.642951    sao paulo           SP\n",
       "3              1041    -23.544392     -46.639499    sao paulo           SP\n",
       "4              1035    -23.541578     -46.641607    sao paulo           SP"
      ]
     },
     "execution_count": 240,
     "metadata": {},
     "output_type": "execute_result"
    }
   ],
   "source": [
    "df2.rename(columns={\"geolocation_zip_code_prefix\" :\"CografiPostaKodu\", \n",
    "                    \"geolocation_lat\":\"CografiEnlem\", \n",
    "                    \"geolocation_lng\":\"CografiBoylam\",\n",
    "                    \"geolocation_city\":\"CografiSehir\",\n",
    "                    \"geolocation_state\":\"CografiKonum\"}, inplace=True)\n",
    "df2.head()"
   ]
  },
  {
   "cell_type": "code",
   "execution_count": 241,
   "metadata": {},
   "outputs": [
    {
     "data": {
      "text/html": [
       "<div>\n",
       "<style scoped>\n",
       "    .dataframe tbody tr th:only-of-type {\n",
       "        vertical-align: middle;\n",
       "    }\n",
       "\n",
       "    .dataframe tbody tr th {\n",
       "        vertical-align: top;\n",
       "    }\n",
       "\n",
       "    .dataframe thead th {\n",
       "        text-align: right;\n",
       "    }\n",
       "</style>\n",
       "<table border=\"1\" class=\"dataframe\">\n",
       "  <thead>\n",
       "    <tr style=\"text-align: right;\">\n",
       "      <th></th>\n",
       "      <th>CografiPostaKodu</th>\n",
       "      <th>CografiEnlem</th>\n",
       "      <th>CografiBoylam</th>\n",
       "      <th>CografiSehir</th>\n",
       "      <th>CografiKonum</th>\n",
       "    </tr>\n",
       "  </thead>\n",
       "  <tbody>\n",
       "    <tr>\n",
       "      <th>1000158</th>\n",
       "      <td>99950</td>\n",
       "      <td>-28.068639</td>\n",
       "      <td>-52.010705</td>\n",
       "      <td>tapejara</td>\n",
       "      <td>RS</td>\n",
       "    </tr>\n",
       "    <tr>\n",
       "      <th>1000159</th>\n",
       "      <td>99900</td>\n",
       "      <td>-27.877125</td>\n",
       "      <td>-52.224882</td>\n",
       "      <td>getulio vargas</td>\n",
       "      <td>RS</td>\n",
       "    </tr>\n",
       "    <tr>\n",
       "      <th>1000160</th>\n",
       "      <td>99950</td>\n",
       "      <td>-28.071855</td>\n",
       "      <td>-52.014716</td>\n",
       "      <td>tapejara</td>\n",
       "      <td>RS</td>\n",
       "    </tr>\n",
       "    <tr>\n",
       "      <th>1000161</th>\n",
       "      <td>99980</td>\n",
       "      <td>-28.388932</td>\n",
       "      <td>-51.846871</td>\n",
       "      <td>david canabarro</td>\n",
       "      <td>RS</td>\n",
       "    </tr>\n",
       "    <tr>\n",
       "      <th>1000162</th>\n",
       "      <td>99950</td>\n",
       "      <td>-28.070104</td>\n",
       "      <td>-52.018658</td>\n",
       "      <td>tapejara</td>\n",
       "      <td>RS</td>\n",
       "    </tr>\n",
       "  </tbody>\n",
       "</table>\n",
       "</div>"
      ],
      "text/plain": [
       "         CografiPostaKodu  CografiEnlem  CografiBoylam     CografiSehir  \\\n",
       "1000158             99950    -28.068639     -52.010705         tapejara   \n",
       "1000159             99900    -27.877125     -52.224882   getulio vargas   \n",
       "1000160             99950    -28.071855     -52.014716         tapejara   \n",
       "1000161             99980    -28.388932     -51.846871  david canabarro   \n",
       "1000162             99950    -28.070104     -52.018658         tapejara   \n",
       "\n",
       "        CografiKonum  \n",
       "1000158           RS  \n",
       "1000159           RS  \n",
       "1000160           RS  \n",
       "1000161           RS  \n",
       "1000162           RS  "
      ]
     },
     "execution_count": 241,
     "metadata": {},
     "output_type": "execute_result"
    }
   ],
   "source": [
    "df2.tail()"
   ]
  },
  {
   "cell_type": "code",
   "execution_count": 242,
   "metadata": {},
   "outputs": [
    {
     "name": "stdout",
     "output_type": "stream",
     "text": [
      "<class 'pandas.core.frame.DataFrame'>\n",
      "RangeIndex: 1000163 entries, 0 to 1000162\n",
      "Data columns (total 5 columns):\n",
      " #   Column            Non-Null Count    Dtype  \n",
      "---  ------            --------------    -----  \n",
      " 0   CografiPostaKodu  1000163 non-null  int64  \n",
      " 1   CografiEnlem      1000163 non-null  float64\n",
      " 2   CografiBoylam     1000163 non-null  float64\n",
      " 3   CografiSehir      1000163 non-null  object \n",
      " 4   CografiKonum      1000163 non-null  object \n",
      "dtypes: float64(2), int64(1), object(2)\n",
      "memory usage: 38.2+ MB\n"
     ]
    }
   ],
   "source": [
    "df2.info() \n",
    "# 3 sayısal, 2 kategorik veri tipi var. Boş değer yok."
   ]
  },
  {
   "cell_type": "code",
   "execution_count": 243,
   "metadata": {},
   "outputs": [
    {
     "data": {
      "text/plain": [
       "CografiPostaKodu      int64\n",
       "CografiEnlem        float64\n",
       "CografiBoylam       float64\n",
       "CografiSehir         object\n",
       "CografiKonum         object\n",
       "dtype: object"
      ]
     },
     "execution_count": 243,
     "metadata": {},
     "output_type": "execute_result"
    }
   ],
   "source": [
    "df2.dtypes"
   ]
  },
  {
   "cell_type": "code",
   "execution_count": 244,
   "metadata": {},
   "outputs": [
    {
     "data": {
      "text/plain": [
       "CografiPostaKodu     19015\n",
       "CografiEnlem        717360\n",
       "CografiBoylam       717613\n",
       "CografiSehir          8011\n",
       "CografiKonum            27\n",
       "dtype: int64"
      ]
     },
     "execution_count": 244,
     "metadata": {},
     "output_type": "execute_result"
    }
   ],
   "source": [
    "df2.nunique()"
   ]
  },
  {
   "cell_type": "code",
   "execution_count": 245,
   "metadata": {},
   "outputs": [
    {
     "data": {
      "text/plain": [
       "CografiPostaKodu  CografiSehir   \n",
       "1001              sao paulo          23\n",
       "                  são paulo           3\n",
       "1002              sao paulo          12\n",
       "                  são paulo           1\n",
       "1003              sao paulo          16\n",
       "                                     ..\n",
       "99965             agua santa          6\n",
       "99970             ciriaco            20\n",
       "                  ciríaco             1\n",
       "99980             david canabarro    26\n",
       "99990             muliterno           2\n",
       "Name: CografiSehir, Length: 27907, dtype: int64"
      ]
     },
     "execution_count": 245,
     "metadata": {},
     "output_type": "execute_result"
    }
   ],
   "source": [
    "df2.groupby(\"CografiPostaKodu\")[\"CografiSehir\"].value_counts() "
   ]
  },
  {
   "cell_type": "code",
   "execution_count": 246,
   "metadata": {},
   "outputs": [
    {
     "name": "stdout",
     "output_type": "stream",
     "text": [
      "261831\n"
     ]
    }
   ],
   "source": [
    "print(sum(df2.duplicated(keep=\"first\"))) #dublicate veri kontrolü\n"
   ]
  },
  {
   "cell_type": "code",
   "execution_count": 247,
   "metadata": {},
   "outputs": [
    {
     "data": {
      "text/html": [
       "<div>\n",
       "<style scoped>\n",
       "    .dataframe tbody tr th:only-of-type {\n",
       "        vertical-align: middle;\n",
       "    }\n",
       "\n",
       "    .dataframe tbody tr th {\n",
       "        vertical-align: top;\n",
       "    }\n",
       "\n",
       "    .dataframe thead th {\n",
       "        text-align: right;\n",
       "    }\n",
       "</style>\n",
       "<table border=\"1\" class=\"dataframe\">\n",
       "  <thead>\n",
       "    <tr style=\"text-align: right;\">\n",
       "      <th></th>\n",
       "      <th>CografiPostaKodu</th>\n",
       "      <th>CografiEnlem</th>\n",
       "      <th>CografiBoylam</th>\n",
       "      <th>CografiSehir</th>\n",
       "      <th>CografiKonum</th>\n",
       "    </tr>\n",
       "  </thead>\n",
       "  <tbody>\n",
       "    <tr>\n",
       "      <th>0</th>\n",
       "      <td>1037</td>\n",
       "      <td>-23.545621</td>\n",
       "      <td>-46.639292</td>\n",
       "      <td>sao paulo</td>\n",
       "      <td>SP</td>\n",
       "    </tr>\n",
       "    <tr>\n",
       "      <th>1</th>\n",
       "      <td>1046</td>\n",
       "      <td>-23.546081</td>\n",
       "      <td>-46.644820</td>\n",
       "      <td>sao paulo</td>\n",
       "      <td>SP</td>\n",
       "    </tr>\n",
       "    <tr>\n",
       "      <th>2</th>\n",
       "      <td>1046</td>\n",
       "      <td>-23.546129</td>\n",
       "      <td>-46.642951</td>\n",
       "      <td>sao paulo</td>\n",
       "      <td>SP</td>\n",
       "    </tr>\n",
       "    <tr>\n",
       "      <th>3</th>\n",
       "      <td>1041</td>\n",
       "      <td>-23.544392</td>\n",
       "      <td>-46.639499</td>\n",
       "      <td>sao paulo</td>\n",
       "      <td>SP</td>\n",
       "    </tr>\n",
       "    <tr>\n",
       "      <th>4</th>\n",
       "      <td>1035</td>\n",
       "      <td>-23.541578</td>\n",
       "      <td>-46.641607</td>\n",
       "      <td>sao paulo</td>\n",
       "      <td>SP</td>\n",
       "    </tr>\n",
       "    <tr>\n",
       "      <th>...</th>\n",
       "      <td>...</td>\n",
       "      <td>...</td>\n",
       "      <td>...</td>\n",
       "      <td>...</td>\n",
       "      <td>...</td>\n",
       "    </tr>\n",
       "    <tr>\n",
       "      <th>1000155</th>\n",
       "      <td>99965</td>\n",
       "      <td>-28.180655</td>\n",
       "      <td>-52.034367</td>\n",
       "      <td>agua santa</td>\n",
       "      <td>RS</td>\n",
       "    </tr>\n",
       "    <tr>\n",
       "      <th>1000156</th>\n",
       "      <td>99950</td>\n",
       "      <td>-28.072188</td>\n",
       "      <td>-52.011272</td>\n",
       "      <td>tapejara</td>\n",
       "      <td>RS</td>\n",
       "    </tr>\n",
       "    <tr>\n",
       "      <th>1000157</th>\n",
       "      <td>99950</td>\n",
       "      <td>-28.068864</td>\n",
       "      <td>-52.012964</td>\n",
       "      <td>tapejara</td>\n",
       "      <td>RS</td>\n",
       "    </tr>\n",
       "    <tr>\n",
       "      <th>1000158</th>\n",
       "      <td>99950</td>\n",
       "      <td>-28.068639</td>\n",
       "      <td>-52.010705</td>\n",
       "      <td>tapejara</td>\n",
       "      <td>RS</td>\n",
       "    </tr>\n",
       "    <tr>\n",
       "      <th>1000161</th>\n",
       "      <td>99980</td>\n",
       "      <td>-28.388932</td>\n",
       "      <td>-51.846871</td>\n",
       "      <td>david canabarro</td>\n",
       "      <td>RS</td>\n",
       "    </tr>\n",
       "  </tbody>\n",
       "</table>\n",
       "<p>738332 rows × 5 columns</p>\n",
       "</div>"
      ],
      "text/plain": [
       "         CografiPostaKodu  CografiEnlem  CografiBoylam     CografiSehir  \\\n",
       "0                    1037    -23.545621     -46.639292        sao paulo   \n",
       "1                    1046    -23.546081     -46.644820        sao paulo   \n",
       "2                    1046    -23.546129     -46.642951        sao paulo   \n",
       "3                    1041    -23.544392     -46.639499        sao paulo   \n",
       "4                    1035    -23.541578     -46.641607        sao paulo   \n",
       "...                   ...           ...            ...              ...   \n",
       "1000155             99965    -28.180655     -52.034367       agua santa   \n",
       "1000156             99950    -28.072188     -52.011272         tapejara   \n",
       "1000157             99950    -28.068864     -52.012964         tapejara   \n",
       "1000158             99950    -28.068639     -52.010705         tapejara   \n",
       "1000161             99980    -28.388932     -51.846871  david canabarro   \n",
       "\n",
       "        CografiKonum  \n",
       "0                 SP  \n",
       "1                 SP  \n",
       "2                 SP  \n",
       "3                 SP  \n",
       "4                 SP  \n",
       "...              ...  \n",
       "1000155           RS  \n",
       "1000156           RS  \n",
       "1000157           RS  \n",
       "1000158           RS  \n",
       "1000161           RS  \n",
       "\n",
       "[738332 rows x 5 columns]"
      ]
     },
     "execution_count": 247,
     "metadata": {},
     "output_type": "execute_result"
    }
   ],
   "source": [
    "df2.drop_duplicates()"
   ]
  },
  {
   "cell_type": "code",
   "execution_count": 248,
   "metadata": {},
   "outputs": [
    {
     "data": {
      "text/plain": [
       "(1000163, 5)"
      ]
     },
     "execution_count": 248,
     "metadata": {},
     "output_type": "execute_result"
    }
   ],
   "source": [
    "df2.shape"
   ]
  },
  {
   "cell_type": "code",
   "execution_count": 249,
   "metadata": {},
   "outputs": [
    {
     "data": {
      "text/plain": [
       "Index(['CografiPostaKodu', 'CografiEnlem', 'CografiBoylam', 'CografiSehir',\n",
       "       'CografiKonum'],\n",
       "      dtype='object')"
      ]
     },
     "execution_count": 249,
     "metadata": {},
     "output_type": "execute_result"
    }
   ],
   "source": [
    "df2.columns"
   ]
  },
  {
   "cell_type": "code",
   "execution_count": 250,
   "metadata": {},
   "outputs": [
    {
     "name": "stderr",
     "output_type": "stream",
     "text": [
      "c:\\Users\\BEYZA ASLAN\\AppData\\Local\\Programs\\Python\\Python310\\lib\\site-packages\\seaborn\\_oldcore.py:1599: UserWarning: Vertical orientation ignored with only `x` specified.\n",
      "  warnings.warn(single_var_warning.format(\"Vertical\", \"x\"))\n"
     ]
    },
    {
     "data": {
      "text/plain": [
       "<AxesSubplot: xlabel='CografiPostaKodu'>"
      ]
     },
     "execution_count": 250,
     "metadata": {},
     "output_type": "execute_result"
    },
    {
     "data": {
      "image/png": "[encoded data removed]",
      "text/plain": [
       "<Figure size 640x480 with 1 Axes>"
      ]
     },
     "metadata": {},
     "output_type": "display_data"
    }
   ],
   "source": [
    "sns.boxplot(x = df2[\"CografiPostaKodu\"], orient = \"v\") "
   ]
  },
  {
   "cell_type": "markdown",
   "metadata": {},
   "source": [
    "-------------------------------------------**order_items_dataset.csv hakkında bilgiler**------------------------------"
   ]
  },
  {
   "cell_type": "code",
   "execution_count": 251,
   "metadata": {},
   "outputs": [
    {
     "data": {
      "text/html": [
       "<div>\n",
       "<style scoped>\n",
       "    .dataframe tbody tr th:only-of-type {\n",
       "        vertical-align: middle;\n",
       "    }\n",
       "\n",
       "    .dataframe tbody tr th {\n",
       "        vertical-align: top;\n",
       "    }\n",
       "\n",
       "    .dataframe thead th {\n",
       "        text-align: right;\n",
       "    }\n",
       "</style>\n",
       "<table border=\"1\" class=\"dataframe\">\n",
       "  <thead>\n",
       "    <tr style=\"text-align: right;\">\n",
       "      <th></th>\n",
       "      <th>order_id</th>\n",
       "      <th>order_item_id</th>\n",
       "      <th>product_id</th>\n",
       "      <th>seller_id</th>\n",
       "      <th>shipping_limit_date</th>\n",
       "      <th>price</th>\n",
       "      <th>freight_value</th>\n",
       "    </tr>\n",
       "  </thead>\n",
       "  <tbody>\n",
       "    <tr>\n",
       "      <th>0</th>\n",
       "      <td>00010242fe8c5a6d1ba2dd792cb16214</td>\n",
       "      <td>1</td>\n",
       "      <td>4244733e06e7ecb4970a6e2683c13e61</td>\n",
       "      <td>48436dade18ac8b2bce089ec2a041202</td>\n",
       "      <td>2017-09-19 09:45:35</td>\n",
       "      <td>58.90</td>\n",
       "      <td>13.29</td>\n",
       "    </tr>\n",
       "    <tr>\n",
       "      <th>1</th>\n",
       "      <td>00018f77f2f0320c557190d7a144bdd3</td>\n",
       "      <td>1</td>\n",
       "      <td>e5f2d52b802189ee658865ca93d83a8f</td>\n",
       "      <td>dd7ddc04e1b6c2c614352b383efe2d36</td>\n",
       "      <td>2017-05-03 11:05:13</td>\n",
       "      <td>239.90</td>\n",
       "      <td>19.93</td>\n",
       "    </tr>\n",
       "    <tr>\n",
       "      <th>2</th>\n",
       "      <td>000229ec398224ef6ca0657da4fc703e</td>\n",
       "      <td>1</td>\n",
       "      <td>c777355d18b72b67abbeef9df44fd0fd</td>\n",
       "      <td>5b51032eddd242adc84c38acab88f23d</td>\n",
       "      <td>2018-01-18 14:48:30</td>\n",
       "      <td>199.00</td>\n",
       "      <td>17.87</td>\n",
       "    </tr>\n",
       "    <tr>\n",
       "      <th>3</th>\n",
       "      <td>00024acbcdf0a6daa1e931b038114c75</td>\n",
       "      <td>1</td>\n",
       "      <td>7634da152a4610f1595efa32f14722fc</td>\n",
       "      <td>9d7a1d34a5052409006425275ba1c2b4</td>\n",
       "      <td>2018-08-15 10:10:18</td>\n",
       "      <td>12.99</td>\n",
       "      <td>12.79</td>\n",
       "    </tr>\n",
       "    <tr>\n",
       "      <th>4</th>\n",
       "      <td>00042b26cf59d7ce69dfabb4e55b4fd9</td>\n",
       "      <td>1</td>\n",
       "      <td>ac6c3623068f30de03045865e4e10089</td>\n",
       "      <td>df560393f3a51e74553ab94004ba5c87</td>\n",
       "      <td>2017-02-13 13:57:51</td>\n",
       "      <td>199.90</td>\n",
       "      <td>18.14</td>\n",
       "    </tr>\n",
       "    <tr>\n",
       "      <th>...</th>\n",
       "      <td>...</td>\n",
       "      <td>...</td>\n",
       "      <td>...</td>\n",
       "      <td>...</td>\n",
       "      <td>...</td>\n",
       "      <td>...</td>\n",
       "      <td>...</td>\n",
       "    </tr>\n",
       "    <tr>\n",
       "      <th>112645</th>\n",
       "      <td>fffc94f6ce00a00581880bf54a75a037</td>\n",
       "      <td>1</td>\n",
       "      <td>4aa6014eceb682077f9dc4bffebc05b0</td>\n",
       "      <td>b8bc237ba3788b23da09c0f1f3a3288c</td>\n",
       "      <td>2018-05-02 04:11:01</td>\n",
       "      <td>299.99</td>\n",
       "      <td>43.41</td>\n",
       "    </tr>\n",
       "    <tr>\n",
       "      <th>112646</th>\n",
       "      <td>fffcd46ef2263f404302a634eb57f7eb</td>\n",
       "      <td>1</td>\n",
       "      <td>32e07fd915822b0765e448c4dd74c828</td>\n",
       "      <td>f3c38ab652836d21de61fb8314b69182</td>\n",
       "      <td>2018-07-20 04:31:48</td>\n",
       "      <td>350.00</td>\n",
       "      <td>36.53</td>\n",
       "    </tr>\n",
       "    <tr>\n",
       "      <th>112647</th>\n",
       "      <td>fffce4705a9662cd70adb13d4a31832d</td>\n",
       "      <td>1</td>\n",
       "      <td>72a30483855e2eafc67aee5dc2560482</td>\n",
       "      <td>c3cfdc648177fdbbbb35635a37472c53</td>\n",
       "      <td>2017-10-30 17:14:25</td>\n",
       "      <td>99.90</td>\n",
       "      <td>16.95</td>\n",
       "    </tr>\n",
       "    <tr>\n",
       "      <th>112648</th>\n",
       "      <td>fffe18544ffabc95dfada21779c9644f</td>\n",
       "      <td>1</td>\n",
       "      <td>9c422a519119dcad7575db5af1ba540e</td>\n",
       "      <td>2b3e4a2a3ea8e01938cabda2a3e5cc79</td>\n",
       "      <td>2017-08-21 00:04:32</td>\n",
       "      <td>55.99</td>\n",
       "      <td>8.72</td>\n",
       "    </tr>\n",
       "    <tr>\n",
       "      <th>112649</th>\n",
       "      <td>fffe41c64501cc87c801fd61db3f6244</td>\n",
       "      <td>1</td>\n",
       "      <td>350688d9dc1e75ff97be326363655e01</td>\n",
       "      <td>f7ccf836d21b2fb1de37564105216cc1</td>\n",
       "      <td>2018-06-12 17:10:13</td>\n",
       "      <td>43.00</td>\n",
       "      <td>12.79</td>\n",
       "    </tr>\n",
       "  </tbody>\n",
       "</table>\n",
       "<p>112650 rows × 7 columns</p>\n",
       "</div>"
      ],
      "text/plain": [
       "                                order_id  order_item_id  \\\n",
       "0       00010242fe8c5a6d1ba2dd792cb16214              1   \n",
       "1       00018f77f2f0320c557190d7a144bdd3              1   \n",
       "2       000229ec398224ef6ca0657da4fc703e              1   \n",
       "3       00024acbcdf0a6daa1e931b038114c75              1   \n",
       "4       00042b26cf59d7ce69dfabb4e55b4fd9              1   \n",
       "...                                  ...            ...   \n",
       "112645  fffc94f6ce00a00581880bf54a75a037              1   \n",
       "112646  fffcd46ef2263f404302a634eb57f7eb              1   \n",
       "112647  fffce4705a9662cd70adb13d4a31832d              1   \n",
       "112648  fffe18544ffabc95dfada21779c9644f              1   \n",
       "112649  fffe41c64501cc87c801fd61db3f6244              1   \n",
       "\n",
       "                              product_id                         seller_id  \\\n",
       "0       4244733e06e7ecb4970a6e2683c13e61  48436dade18ac8b2bce089ec2a041202   \n",
       "1       e5f2d52b802189ee658865ca93d83a8f  dd7ddc04e1b6c2c614352b383efe2d36   \n",
       "2       c777355d18b72b67abbeef9df44fd0fd  5b51032eddd242adc84c38acab88f23d   \n",
       "3       7634da152a4610f1595efa32f14722fc  9d7a1d34a5052409006425275ba1c2b4   \n",
       "4       ac6c3623068f30de03045865e4e10089  df560393f3a51e74553ab94004ba5c87   \n",
       "...                                  ...                               ...   \n",
       "112645  4aa6014eceb682077f9dc4bffebc05b0  b8bc237ba3788b23da09c0f1f3a3288c   \n",
       "112646  32e07fd915822b0765e448c4dd74c828  f3c38ab652836d21de61fb8314b69182   \n",
       "112647  72a30483855e2eafc67aee5dc2560482  c3cfdc648177fdbbbb35635a37472c53   \n",
       "112648  9c422a519119dcad7575db5af1ba540e  2b3e4a2a3ea8e01938cabda2a3e5cc79   \n",
       "112649  350688d9dc1e75ff97be326363655e01  f7ccf836d21b2fb1de37564105216cc1   \n",
       "\n",
       "        shipping_limit_date   price  freight_value  \n",
       "0       2017-09-19 09:45:35   58.90          13.29  \n",
       "1       2017-05-03 11:05:13  239.90          19.93  \n",
       "2       2018-01-18 14:48:30  199.00          17.87  \n",
       "3       2018-08-15 10:10:18   12.99          12.79  \n",
       "4       2017-02-13 13:57:51  199.90          18.14  \n",
       "...                     ...     ...            ...  \n",
       "112645  2018-05-02 04:11:01  299.99          43.41  \n",
       "112646  2018-07-20 04:31:48  350.00          36.53  \n",
       "112647  2017-10-30 17:14:25   99.90          16.95  \n",
       "112648  2017-08-21 00:04:32   55.99           8.72  \n",
       "112649  2018-06-12 17:10:13   43.00          12.79  \n",
       "\n",
       "[112650 rows x 7 columns]"
      ]
     },
     "execution_count": 251,
     "metadata": {},
     "output_type": "execute_result"
    }
   ],
   "source": [
    "df3 = pd.read_csv(\"order_items_dataset.csv\", engine='python') #veri setimizi çektik.\n",
    "df3"
   ]
  },
  {
   "cell_type": "code",
   "execution_count": 252,
   "metadata": {},
   "outputs": [],
   "source": [
    "df3.rename(columns={\"order_id\" :\"SiparisNo\", \n",
    "                    \"order_item_id\":\"SiparisTurNo\", \n",
    "                    \"product_id\":\"UrunNo\",\n",
    "                    \"seller_id\":\"SaticiNo\",\n",
    "                    \"shipping_limit_date\":\"NakliyeTarihi\",\n",
    "                    \"price\":\"Fiyat \",\n",
    "                    \"freight_value\":\"NakliyeUcreti\"}, inplace=True)"
   ]
  },
  {
   "cell_type": "code",
   "execution_count": 253,
   "metadata": {},
   "outputs": [
    {
     "data": {
      "text/html": [
       "<div>\n",
       "<style scoped>\n",
       "    .dataframe tbody tr th:only-of-type {\n",
       "        vertical-align: middle;\n",
       "    }\n",
       "\n",
       "    .dataframe tbody tr th {\n",
       "        vertical-align: top;\n",
       "    }\n",
       "\n",
       "    .dataframe thead th {\n",
       "        text-align: right;\n",
       "    }\n",
       "</style>\n",
       "<table border=\"1\" class=\"dataframe\">\n",
       "  <thead>\n",
       "    <tr style=\"text-align: right;\">\n",
       "      <th></th>\n",
       "      <th>SiparisNo</th>\n",
       "      <th>SiparisTurNo</th>\n",
       "      <th>UrunNo</th>\n",
       "      <th>SaticiNo</th>\n",
       "      <th>NakliyeTarihi</th>\n",
       "      <th>Fiyat</th>\n",
       "      <th>NakliyeUcreti</th>\n",
       "    </tr>\n",
       "  </thead>\n",
       "  <tbody>\n",
       "    <tr>\n",
       "      <th>0</th>\n",
       "      <td>00010242fe8c5a6d1ba2dd792cb16214</td>\n",
       "      <td>1</td>\n",
       "      <td>4244733e06e7ecb4970a6e2683c13e61</td>\n",
       "      <td>48436dade18ac8b2bce089ec2a041202</td>\n",
       "      <td>2017-09-19 09:45:35</td>\n",
       "      <td>58.90</td>\n",
       "      <td>13.29</td>\n",
       "    </tr>\n",
       "    <tr>\n",
       "      <th>1</th>\n",
       "      <td>00018f77f2f0320c557190d7a144bdd3</td>\n",
       "      <td>1</td>\n",
       "      <td>e5f2d52b802189ee658865ca93d83a8f</td>\n",
       "      <td>dd7ddc04e1b6c2c614352b383efe2d36</td>\n",
       "      <td>2017-05-03 11:05:13</td>\n",
       "      <td>239.90</td>\n",
       "      <td>19.93</td>\n",
       "    </tr>\n",
       "    <tr>\n",
       "      <th>2</th>\n",
       "      <td>000229ec398224ef6ca0657da4fc703e</td>\n",
       "      <td>1</td>\n",
       "      <td>c777355d18b72b67abbeef9df44fd0fd</td>\n",
       "      <td>5b51032eddd242adc84c38acab88f23d</td>\n",
       "      <td>2018-01-18 14:48:30</td>\n",
       "      <td>199.00</td>\n",
       "      <td>17.87</td>\n",
       "    </tr>\n",
       "    <tr>\n",
       "      <th>3</th>\n",
       "      <td>00024acbcdf0a6daa1e931b038114c75</td>\n",
       "      <td>1</td>\n",
       "      <td>7634da152a4610f1595efa32f14722fc</td>\n",
       "      <td>9d7a1d34a5052409006425275ba1c2b4</td>\n",
       "      <td>2018-08-15 10:10:18</td>\n",
       "      <td>12.99</td>\n",
       "      <td>12.79</td>\n",
       "    </tr>\n",
       "    <tr>\n",
       "      <th>4</th>\n",
       "      <td>00042b26cf59d7ce69dfabb4e55b4fd9</td>\n",
       "      <td>1</td>\n",
       "      <td>ac6c3623068f30de03045865e4e10089</td>\n",
       "      <td>df560393f3a51e74553ab94004ba5c87</td>\n",
       "      <td>2017-02-13 13:57:51</td>\n",
       "      <td>199.90</td>\n",
       "      <td>18.14</td>\n",
       "    </tr>\n",
       "  </tbody>\n",
       "</table>\n",
       "</div>"
      ],
      "text/plain": [
       "                          SiparisNo  SiparisTurNo  \\\n",
       "0  00010242fe8c5a6d1ba2dd792cb16214             1   \n",
       "1  00018f77f2f0320c557190d7a144bdd3             1   \n",
       "2  000229ec398224ef6ca0657da4fc703e             1   \n",
       "3  00024acbcdf0a6daa1e931b038114c75             1   \n",
       "4  00042b26cf59d7ce69dfabb4e55b4fd9             1   \n",
       "\n",
       "                             UrunNo                          SaticiNo  \\\n",
       "0  4244733e06e7ecb4970a6e2683c13e61  48436dade18ac8b2bce089ec2a041202   \n",
       "1  e5f2d52b802189ee658865ca93d83a8f  dd7ddc04e1b6c2c614352b383efe2d36   \n",
       "2  c777355d18b72b67abbeef9df44fd0fd  5b51032eddd242adc84c38acab88f23d   \n",
       "3  7634da152a4610f1595efa32f14722fc  9d7a1d34a5052409006425275ba1c2b4   \n",
       "4  ac6c3623068f30de03045865e4e10089  df560393f3a51e74553ab94004ba5c87   \n",
       "\n",
       "         NakliyeTarihi  Fiyat   NakliyeUcreti  \n",
       "0  2017-09-19 09:45:35   58.90          13.29  \n",
       "1  2017-05-03 11:05:13  239.90          19.93  \n",
       "2  2018-01-18 14:48:30  199.00          17.87  \n",
       "3  2018-08-15 10:10:18   12.99          12.79  \n",
       "4  2017-02-13 13:57:51  199.90          18.14  "
      ]
     },
     "execution_count": 253,
     "metadata": {},
     "output_type": "execute_result"
    }
   ],
   "source": [
    "df3.head()"
   ]
  },
  {
   "cell_type": "code",
   "execution_count": 254,
   "metadata": {},
   "outputs": [
    {
     "data": {
      "text/html": [
       "<div>\n",
       "<style scoped>\n",
       "    .dataframe tbody tr th:only-of-type {\n",
       "        vertical-align: middle;\n",
       "    }\n",
       "\n",
       "    .dataframe tbody tr th {\n",
       "        vertical-align: top;\n",
       "    }\n",
       "\n",
       "    .dataframe thead th {\n",
       "        text-align: right;\n",
       "    }\n",
       "</style>\n",
       "<table border=\"1\" class=\"dataframe\">\n",
       "  <thead>\n",
       "    <tr style=\"text-align: right;\">\n",
       "      <th></th>\n",
       "      <th>SiparisNo</th>\n",
       "      <th>SiparisTurNo</th>\n",
       "      <th>UrunNo</th>\n",
       "      <th>SaticiNo</th>\n",
       "      <th>NakliyeTarihi</th>\n",
       "      <th>Fiyat</th>\n",
       "      <th>NakliyeUcreti</th>\n",
       "    </tr>\n",
       "  </thead>\n",
       "  <tbody>\n",
       "    <tr>\n",
       "      <th>112645</th>\n",
       "      <td>fffc94f6ce00a00581880bf54a75a037</td>\n",
       "      <td>1</td>\n",
       "      <td>4aa6014eceb682077f9dc4bffebc05b0</td>\n",
       "      <td>b8bc237ba3788b23da09c0f1f3a3288c</td>\n",
       "      <td>2018-05-02 04:11:01</td>\n",
       "      <td>299.99</td>\n",
       "      <td>43.41</td>\n",
       "    </tr>\n",
       "    <tr>\n",
       "      <th>112646</th>\n",
       "      <td>fffcd46ef2263f404302a634eb57f7eb</td>\n",
       "      <td>1</td>\n",
       "      <td>32e07fd915822b0765e448c4dd74c828</td>\n",
       "      <td>f3c38ab652836d21de61fb8314b69182</td>\n",
       "      <td>2018-07-20 04:31:48</td>\n",
       "      <td>350.00</td>\n",
       "      <td>36.53</td>\n",
       "    </tr>\n",
       "    <tr>\n",
       "      <th>112647</th>\n",
       "      <td>fffce4705a9662cd70adb13d4a31832d</td>\n",
       "      <td>1</td>\n",
       "      <td>72a30483855e2eafc67aee5dc2560482</td>\n",
       "      <td>c3cfdc648177fdbbbb35635a37472c53</td>\n",
       "      <td>2017-10-30 17:14:25</td>\n",
       "      <td>99.90</td>\n",
       "      <td>16.95</td>\n",
       "    </tr>\n",
       "    <tr>\n",
       "      <th>112648</th>\n",
       "      <td>fffe18544ffabc95dfada21779c9644f</td>\n",
       "      <td>1</td>\n",
       "      <td>9c422a519119dcad7575db5af1ba540e</td>\n",
       "      <td>2b3e4a2a3ea8e01938cabda2a3e5cc79</td>\n",
       "      <td>2017-08-21 00:04:32</td>\n",
       "      <td>55.99</td>\n",
       "      <td>8.72</td>\n",
       "    </tr>\n",
       "    <tr>\n",
       "      <th>112649</th>\n",
       "      <td>fffe41c64501cc87c801fd61db3f6244</td>\n",
       "      <td>1</td>\n",
       "      <td>350688d9dc1e75ff97be326363655e01</td>\n",
       "      <td>f7ccf836d21b2fb1de37564105216cc1</td>\n",
       "      <td>2018-06-12 17:10:13</td>\n",
       "      <td>43.00</td>\n",
       "      <td>12.79</td>\n",
       "    </tr>\n",
       "  </tbody>\n",
       "</table>\n",
       "</div>"
      ],
      "text/plain": [
       "                               SiparisNo  SiparisTurNo  \\\n",
       "112645  fffc94f6ce00a00581880bf54a75a037             1   \n",
       "112646  fffcd46ef2263f404302a634eb57f7eb             1   \n",
       "112647  fffce4705a9662cd70adb13d4a31832d             1   \n",
       "112648  fffe18544ffabc95dfada21779c9644f             1   \n",
       "112649  fffe41c64501cc87c801fd61db3f6244             1   \n",
       "\n",
       "                                  UrunNo                          SaticiNo  \\\n",
       "112645  4aa6014eceb682077f9dc4bffebc05b0  b8bc237ba3788b23da09c0f1f3a3288c   \n",
       "112646  32e07fd915822b0765e448c4dd74c828  f3c38ab652836d21de61fb8314b69182   \n",
       "112647  72a30483855e2eafc67aee5dc2560482  c3cfdc648177fdbbbb35635a37472c53   \n",
       "112648  9c422a519119dcad7575db5af1ba540e  2b3e4a2a3ea8e01938cabda2a3e5cc79   \n",
       "112649  350688d9dc1e75ff97be326363655e01  f7ccf836d21b2fb1de37564105216cc1   \n",
       "\n",
       "              NakliyeTarihi  Fiyat   NakliyeUcreti  \n",
       "112645  2018-05-02 04:11:01  299.99          43.41  \n",
       "112646  2018-07-20 04:31:48  350.00          36.53  \n",
       "112647  2017-10-30 17:14:25   99.90          16.95  \n",
       "112648  2017-08-21 00:04:32   55.99           8.72  \n",
       "112649  2018-06-12 17:10:13   43.00          12.79  "
      ]
     },
     "execution_count": 254,
     "metadata": {},
     "output_type": "execute_result"
    }
   ],
   "source": [
    "df3.tail()"
   ]
  },
  {
   "cell_type": "code",
   "execution_count": 255,
   "metadata": {},
   "outputs": [
    {
     "data": {
      "text/html": [
       "<div>\n",
       "<style scoped>\n",
       "    .dataframe tbody tr th:only-of-type {\n",
       "        vertical-align: middle;\n",
       "    }\n",
       "\n",
       "    .dataframe tbody tr th {\n",
       "        vertical-align: top;\n",
       "    }\n",
       "\n",
       "    .dataframe thead th {\n",
       "        text-align: right;\n",
       "    }\n",
       "</style>\n",
       "<table border=\"1\" class=\"dataframe\">\n",
       "  <thead>\n",
       "    <tr style=\"text-align: right;\">\n",
       "      <th></th>\n",
       "      <th>SiparisNo</th>\n",
       "      <th>SiparisTurNo</th>\n",
       "      <th>UrunNo</th>\n",
       "      <th>SaticiNo</th>\n",
       "      <th>NakliyeTarihi</th>\n",
       "      <th>Fiyat</th>\n",
       "      <th>NakliyeUcreti</th>\n",
       "    </tr>\n",
       "  </thead>\n",
       "  <tbody>\n",
       "    <tr>\n",
       "      <th>73486</th>\n",
       "      <td>a77e1550db865202c56b19ddc6dc4d53</td>\n",
       "      <td>1</td>\n",
       "      <td>ec31d2a17b299511e7c8627be9337b9b</td>\n",
       "      <td>257e61d3251fb5efb9daadddbc2cf7ca</td>\n",
       "      <td>2018-04-25 06:55:13</td>\n",
       "      <td>979.00</td>\n",
       "      <td>409.68</td>\n",
       "    </tr>\n",
       "    <tr>\n",
       "      <th>28044</th>\n",
       "      <td>3fde74c28a3d5d618c00f26d51baafa0</td>\n",
       "      <td>1</td>\n",
       "      <td>a3cd9517ebf5a50dca25acce54f3b171</td>\n",
       "      <td>6fa9202c10491e472dffd59a3e82b2a3</td>\n",
       "      <td>2018-08-22 03:15:09</td>\n",
       "      <td>2338.08</td>\n",
       "      <td>375.28</td>\n",
       "    </tr>\n",
       "    <tr>\n",
       "      <th>3303</th>\n",
       "      <td>076d1555fb53a89b0ef4d529e527a0f6</td>\n",
       "      <td>1</td>\n",
       "      <td>a3cd9517ebf5a50dca25acce54f3b171</td>\n",
       "      <td>6fa9202c10491e472dffd59a3e82b2a3</td>\n",
       "      <td>2018-08-07 04:35:22</td>\n",
       "      <td>2338.08</td>\n",
       "      <td>375.28</td>\n",
       "    </tr>\n",
       "    <tr>\n",
       "      <th>69797</th>\n",
       "      <td>9f49bd16053df810384e793386312674</td>\n",
       "      <td>1</td>\n",
       "      <td>256a9c364b75753b97bee410c9491ad8</td>\n",
       "      <td>5c030029b5916fed0986310385ec9009</td>\n",
       "      <td>2018-08-02 03:44:28</td>\n",
       "      <td>1149.00</td>\n",
       "      <td>339.59</td>\n",
       "    </tr>\n",
       "    <tr>\n",
       "      <th>16731</th>\n",
       "      <td>264a7e199467906c0727394df82d1a6a</td>\n",
       "      <td>1</td>\n",
       "      <td>97c948ebc8c04b26b7bbb095d4228f2a</td>\n",
       "      <td>17f51e7198701186712e53a39c564617</td>\n",
       "      <td>2018-04-23 17:15:10</td>\n",
       "      <td>1050.00</td>\n",
       "      <td>338.30</td>\n",
       "    </tr>\n",
       "  </tbody>\n",
       "</table>\n",
       "</div>"
      ],
      "text/plain": [
       "                              SiparisNo  SiparisTurNo  \\\n",
       "73486  a77e1550db865202c56b19ddc6dc4d53             1   \n",
       "28044  3fde74c28a3d5d618c00f26d51baafa0             1   \n",
       "3303   076d1555fb53a89b0ef4d529e527a0f6             1   \n",
       "69797  9f49bd16053df810384e793386312674             1   \n",
       "16731  264a7e199467906c0727394df82d1a6a             1   \n",
       "\n",
       "                                 UrunNo                          SaticiNo  \\\n",
       "73486  ec31d2a17b299511e7c8627be9337b9b  257e61d3251fb5efb9daadddbc2cf7ca   \n",
       "28044  a3cd9517ebf5a50dca25acce54f3b171  6fa9202c10491e472dffd59a3e82b2a3   \n",
       "3303   a3cd9517ebf5a50dca25acce54f3b171  6fa9202c10491e472dffd59a3e82b2a3   \n",
       "69797  256a9c364b75753b97bee410c9491ad8  5c030029b5916fed0986310385ec9009   \n",
       "16731  97c948ebc8c04b26b7bbb095d4228f2a  17f51e7198701186712e53a39c564617   \n",
       "\n",
       "             NakliyeTarihi   Fiyat   NakliyeUcreti  \n",
       "73486  2018-04-25 06:55:13   979.00         409.68  \n",
       "28044  2018-08-22 03:15:09  2338.08         375.28  \n",
       "3303   2018-08-07 04:35:22  2338.08         375.28  \n",
       "69797  2018-08-02 03:44:28  1149.00         339.59  \n",
       "16731  2018-04-23 17:15:10  1050.00         338.30  "
      ]
     },
     "execution_count": 255,
     "metadata": {},
     "output_type": "execute_result"
    }
   ],
   "source": [
    "df3.sort_values(by='NakliyeUcreti', ascending=False).head(5) #en yüksek nakliye ücretine sahip ürünlerin sıralanması"
   ]
  },
  {
   "cell_type": "code",
   "execution_count": 256,
   "metadata": {},
   "outputs": [
    {
     "name": "stdout",
     "output_type": "stream",
     "text": [
      "<class 'pandas.core.frame.DataFrame'>\n",
      "RangeIndex: 112650 entries, 0 to 112649\n",
      "Data columns (total 7 columns):\n",
      " #   Column         Non-Null Count   Dtype  \n",
      "---  ------         --------------   -----  \n",
      " 0   SiparisNo      112650 non-null  object \n",
      " 1   SiparisTurNo   112650 non-null  int64  \n",
      " 2   UrunNo         112650 non-null  object \n",
      " 3   SaticiNo       112650 non-null  object \n",
      " 4   NakliyeTarihi  112650 non-null  object \n",
      " 5   Fiyat          112650 non-null  float64\n",
      " 6   NakliyeUcreti  112650 non-null  float64\n",
      "dtypes: float64(2), int64(1), object(4)\n",
      "memory usage: 6.0+ MB\n"
     ]
    }
   ],
   "source": [
    "df3.info()"
   ]
  },
  {
   "cell_type": "code",
   "execution_count": 257,
   "metadata": {},
   "outputs": [
    {
     "data": {
      "text/plain": [
       "SiparisNo         object\n",
       "SiparisTurNo       int64\n",
       "UrunNo            object\n",
       "SaticiNo          object\n",
       "NakliyeTarihi     object\n",
       "Fiyat            float64\n",
       "NakliyeUcreti    float64\n",
       "dtype: object"
      ]
     },
     "execution_count": 257,
     "metadata": {},
     "output_type": "execute_result"
    }
   ],
   "source": [
    "df3.dtypes"
   ]
  },
  {
   "cell_type": "code",
   "execution_count": 258,
   "metadata": {},
   "outputs": [
    {
     "data": {
      "text/plain": [
       "SiparisNo        98666\n",
       "SiparisTurNo        21\n",
       "UrunNo           32951\n",
       "SaticiNo          3095\n",
       "NakliyeTarihi    93318\n",
       "Fiyat             5968\n",
       "NakliyeUcreti     6999\n",
       "dtype: int64"
      ]
     },
     "execution_count": 258,
     "metadata": {},
     "output_type": "execute_result"
    }
   ],
   "source": [
    "df3.nunique()"
   ]
  },
  {
   "cell_type": "code",
   "execution_count": 259,
   "metadata": {},
   "outputs": [
    {
     "name": "stdout",
     "output_type": "stream",
     "text": [
      "0\n"
     ]
    }
   ],
   "source": [
    "print(sum(df3.duplicated(keep=\"first\"))) #dublicate veri kontrolü\n"
   ]
  },
  {
   "cell_type": "code",
   "execution_count": 260,
   "metadata": {},
   "outputs": [
    {
     "data": {
      "text/html": [
       "<div>\n",
       "<style scoped>\n",
       "    .dataframe tbody tr th:only-of-type {\n",
       "        vertical-align: middle;\n",
       "    }\n",
       "\n",
       "    .dataframe tbody tr th {\n",
       "        vertical-align: top;\n",
       "    }\n",
       "\n",
       "    .dataframe thead th {\n",
       "        text-align: right;\n",
       "    }\n",
       "</style>\n",
       "<table border=\"1\" class=\"dataframe\">\n",
       "  <thead>\n",
       "    <tr style=\"text-align: right;\">\n",
       "      <th></th>\n",
       "      <th>count</th>\n",
       "      <th>mean</th>\n",
       "      <th>std</th>\n",
       "      <th>min</th>\n",
       "      <th>25%</th>\n",
       "      <th>50%</th>\n",
       "      <th>75%</th>\n",
       "      <th>max</th>\n",
       "    </tr>\n",
       "  </thead>\n",
       "  <tbody>\n",
       "    <tr>\n",
       "      <th>SiparisTurNo</th>\n",
       "      <td>112650.0</td>\n",
       "      <td>1.197834</td>\n",
       "      <td>0.705124</td>\n",
       "      <td>1.00</td>\n",
       "      <td>1.00</td>\n",
       "      <td>1.00</td>\n",
       "      <td>1.00</td>\n",
       "      <td>21.00</td>\n",
       "    </tr>\n",
       "    <tr>\n",
       "      <th>Fiyat</th>\n",
       "      <td>112650.0</td>\n",
       "      <td>120.653739</td>\n",
       "      <td>183.633928</td>\n",
       "      <td>0.85</td>\n",
       "      <td>39.90</td>\n",
       "      <td>74.99</td>\n",
       "      <td>134.90</td>\n",
       "      <td>6735.00</td>\n",
       "    </tr>\n",
       "    <tr>\n",
       "      <th>NakliyeUcreti</th>\n",
       "      <td>112650.0</td>\n",
       "      <td>19.990320</td>\n",
       "      <td>15.806405</td>\n",
       "      <td>0.00</td>\n",
       "      <td>13.08</td>\n",
       "      <td>16.26</td>\n",
       "      <td>21.15</td>\n",
       "      <td>409.68</td>\n",
       "    </tr>\n",
       "  </tbody>\n",
       "</table>\n",
       "</div>"
      ],
      "text/plain": [
       "                  count        mean         std   min    25%    50%     75%  \\\n",
       "SiparisTurNo   112650.0    1.197834    0.705124  1.00   1.00   1.00    1.00   \n",
       "Fiyat          112650.0  120.653739  183.633928  0.85  39.90  74.99  134.90   \n",
       "NakliyeUcreti  112650.0   19.990320   15.806405  0.00  13.08  16.26   21.15   \n",
       "\n",
       "                   max  \n",
       "SiparisTurNo     21.00  \n",
       "Fiyat          6735.00  \n",
       "NakliyeUcreti   409.68  "
      ]
     },
     "execution_count": 260,
     "metadata": {},
     "output_type": "execute_result"
    }
   ],
   "source": [
    "df3.describe().T"
   ]
  },
  {
   "cell_type": "code",
   "execution_count": 261,
   "metadata": {},
   "outputs": [
    {
     "data": {
      "text/plain": [
       "UrunNo                            SiparisNo                       \n",
       "00066f42aeeb9f3007548bb9d3f33c38  f30149f4a8882a08895b6a242aa0d612    1\n",
       "00088930e925c41fd95ebfe695fd2655  f5eda0ded77c1293b04c953138c8331d    1\n",
       "0009406fd7479715e4bef61dd91f2462  0bf736fd0fd5169d60de3699fcbcf986    1\n",
       "000b8f95fcb9e0096488278317764d19  3aba44d8e554ab4bb8c09f6f78032ca8    1\n",
       "                                  6f0dfb5b5398b271cc6bbd9ee263530e    1\n",
       "                                                                     ..\n",
       "fffdb2d0ec8d6a61f0a0a0db3f25b441  a8159270bc9cf7d54450e079ba6b7232    1\n",
       "                                  beaf95465b542dea76df78b2fb86a97a    1\n",
       "                                  d6c1ed12e8eeaa15e9d5c83c79598f85    1\n",
       "                                  dd38c566a34ff9deb93ff05d7bd6d0aa    1\n",
       "fffe9eeff12fcbd74a2f2b007dde0c58  fbf3da6fe82010412982890b0c57e532    1\n",
       "Name: SiparisNo, Length: 102425, dtype: int64"
      ]
     },
     "execution_count": 261,
     "metadata": {},
     "output_type": "execute_result"
    }
   ],
   "source": [
    "df3.groupby(\"UrunNo\")[\"SiparisNo\"].value_counts()"
   ]
  },
  {
   "cell_type": "code",
   "execution_count": 262,
   "metadata": {},
   "outputs": [
    {
     "data": {
      "text/plain": [
       "<AxesSubplot: xlabel='NakliyeUcreti'>"
      ]
     },
     "execution_count": 262,
     "metadata": {},
     "output_type": "execute_result"
    },
    {
     "data": {
      "image/png": "[encoded data removed]",
      "text/plain": [
       "<Figure size 640x480 with 1 Axes>"
      ]
     },
     "metadata": {},
     "output_type": "display_data"
    }
   ],
   "source": [
    "sns.boxplot(x = df3[\"NakliyeUcreti\"])"
   ]
  },
  {
   "cell_type": "code",
   "execution_count": 263,
   "metadata": {},
   "outputs": [
    {
     "data": {
      "text/html": [
       "<div>\n",
       "<style scoped>\n",
       "    .dataframe tbody tr th:only-of-type {\n",
       "        vertical-align: middle;\n",
       "    }\n",
       "\n",
       "    .dataframe tbody tr th {\n",
       "        vertical-align: top;\n",
       "    }\n",
       "\n",
       "    .dataframe thead th {\n",
       "        text-align: right;\n",
       "    }\n",
       "</style>\n",
       "<table border=\"1\" class=\"dataframe\">\n",
       "  <thead>\n",
       "    <tr style=\"text-align: right;\">\n",
       "      <th></th>\n",
       "      <th>count</th>\n",
       "      <th>mean</th>\n",
       "      <th>std</th>\n",
       "      <th>min</th>\n",
       "      <th>25%</th>\n",
       "      <th>50%</th>\n",
       "      <th>75%</th>\n",
       "      <th>max</th>\n",
       "    </tr>\n",
       "  </thead>\n",
       "  <tbody>\n",
       "    <tr>\n",
       "      <th>SiparisTurNo</th>\n",
       "      <td>112650.0</td>\n",
       "      <td>1.197834</td>\n",
       "      <td>0.705124</td>\n",
       "      <td>1.00</td>\n",
       "      <td>1.00</td>\n",
       "      <td>1.00</td>\n",
       "      <td>1.00</td>\n",
       "      <td>21.00</td>\n",
       "    </tr>\n",
       "    <tr>\n",
       "      <th>Fiyat</th>\n",
       "      <td>112650.0</td>\n",
       "      <td>120.653739</td>\n",
       "      <td>183.633928</td>\n",
       "      <td>0.85</td>\n",
       "      <td>39.90</td>\n",
       "      <td>74.99</td>\n",
       "      <td>134.90</td>\n",
       "      <td>6735.00</td>\n",
       "    </tr>\n",
       "    <tr>\n",
       "      <th>NakliyeUcreti</th>\n",
       "      <td>112650.0</td>\n",
       "      <td>19.990320</td>\n",
       "      <td>15.806405</td>\n",
       "      <td>0.00</td>\n",
       "      <td>13.08</td>\n",
       "      <td>16.26</td>\n",
       "      <td>21.15</td>\n",
       "      <td>409.68</td>\n",
       "    </tr>\n",
       "  </tbody>\n",
       "</table>\n",
       "</div>"
      ],
      "text/plain": [
       "                  count        mean         std   min    25%    50%     75%  \\\n",
       "SiparisTurNo   112650.0    1.197834    0.705124  1.00   1.00   1.00    1.00   \n",
       "Fiyat          112650.0  120.653739  183.633928  0.85  39.90  74.99  134.90   \n",
       "NakliyeUcreti  112650.0   19.990320   15.806405  0.00  13.08  16.26   21.15   \n",
       "\n",
       "                   max  \n",
       "SiparisTurNo     21.00  \n",
       "Fiyat          6735.00  \n",
       "NakliyeUcreti   409.68  "
      ]
     },
     "execution_count": 263,
     "metadata": {},
     "output_type": "execute_result"
    }
   ],
   "source": [
    "df3.describe().T"
   ]
  },
  {
   "cell_type": "code",
   "execution_count": 264,
   "metadata": {},
   "outputs": [
    {
     "data": {
      "text/plain": [
       "1     98666\n",
       "2      9803\n",
       "3      2287\n",
       "4       965\n",
       "5       460\n",
       "6       256\n",
       "7        58\n",
       "8        36\n",
       "9        28\n",
       "10       25\n",
       "11       17\n",
       "12       13\n",
       "13        8\n",
       "14        7\n",
       "15        5\n",
       "16        3\n",
       "17        3\n",
       "18        3\n",
       "19        3\n",
       "20        3\n",
       "21        1\n",
       "Name: SiparisTurNo, dtype: int64"
      ]
     },
     "execution_count": 264,
     "metadata": {},
     "output_type": "execute_result"
    }
   ],
   "source": [
    "df3[\"SiparisTurNo\"].value_counts() #21 tane sipariş türü var ve her sipariş türünden ne kadar olduğunun analizi."
   ]
  },
  {
   "cell_type": "code",
   "execution_count": 265,
   "metadata": {},
   "outputs": [
    {
     "data": {
      "text/html": [
       "<div>\n",
       "<style scoped>\n",
       "    .dataframe tbody tr th:only-of-type {\n",
       "        vertical-align: middle;\n",
       "    }\n",
       "\n",
       "    .dataframe tbody tr th {\n",
       "        vertical-align: top;\n",
       "    }\n",
       "\n",
       "    .dataframe thead th {\n",
       "        text-align: right;\n",
       "    }\n",
       "</style>\n",
       "<table border=\"1\" class=\"dataframe\">\n",
       "  <thead>\n",
       "    <tr style=\"text-align: right;\">\n",
       "      <th></th>\n",
       "      <th>SiparisNo</th>\n",
       "      <th>SiparisTurNo</th>\n",
       "      <th>UrunNo</th>\n",
       "      <th>SaticiNo</th>\n",
       "      <th>NakliyeTarihi</th>\n",
       "      <th>Fiyat</th>\n",
       "      <th>NakliyeUcreti</th>\n",
       "    </tr>\n",
       "  </thead>\n",
       "  <tbody>\n",
       "    <tr>\n",
       "      <th>0</th>\n",
       "      <td>False</td>\n",
       "      <td>False</td>\n",
       "      <td>False</td>\n",
       "      <td>False</td>\n",
       "      <td>False</td>\n",
       "      <td>False</td>\n",
       "      <td>False</td>\n",
       "    </tr>\n",
       "    <tr>\n",
       "      <th>1</th>\n",
       "      <td>False</td>\n",
       "      <td>False</td>\n",
       "      <td>False</td>\n",
       "      <td>False</td>\n",
       "      <td>False</td>\n",
       "      <td>False</td>\n",
       "      <td>False</td>\n",
       "    </tr>\n",
       "    <tr>\n",
       "      <th>2</th>\n",
       "      <td>False</td>\n",
       "      <td>False</td>\n",
       "      <td>False</td>\n",
       "      <td>False</td>\n",
       "      <td>False</td>\n",
       "      <td>False</td>\n",
       "      <td>False</td>\n",
       "    </tr>\n",
       "    <tr>\n",
       "      <th>3</th>\n",
       "      <td>False</td>\n",
       "      <td>False</td>\n",
       "      <td>False</td>\n",
       "      <td>False</td>\n",
       "      <td>False</td>\n",
       "      <td>False</td>\n",
       "      <td>False</td>\n",
       "    </tr>\n",
       "    <tr>\n",
       "      <th>4</th>\n",
       "      <td>False</td>\n",
       "      <td>False</td>\n",
       "      <td>False</td>\n",
       "      <td>False</td>\n",
       "      <td>False</td>\n",
       "      <td>False</td>\n",
       "      <td>False</td>\n",
       "    </tr>\n",
       "    <tr>\n",
       "      <th>...</th>\n",
       "      <td>...</td>\n",
       "      <td>...</td>\n",
       "      <td>...</td>\n",
       "      <td>...</td>\n",
       "      <td>...</td>\n",
       "      <td>...</td>\n",
       "      <td>...</td>\n",
       "    </tr>\n",
       "    <tr>\n",
       "      <th>112645</th>\n",
       "      <td>False</td>\n",
       "      <td>False</td>\n",
       "      <td>False</td>\n",
       "      <td>False</td>\n",
       "      <td>False</td>\n",
       "      <td>False</td>\n",
       "      <td>False</td>\n",
       "    </tr>\n",
       "    <tr>\n",
       "      <th>112646</th>\n",
       "      <td>False</td>\n",
       "      <td>False</td>\n",
       "      <td>False</td>\n",
       "      <td>False</td>\n",
       "      <td>False</td>\n",
       "      <td>False</td>\n",
       "      <td>False</td>\n",
       "    </tr>\n",
       "    <tr>\n",
       "      <th>112647</th>\n",
       "      <td>False</td>\n",
       "      <td>False</td>\n",
       "      <td>False</td>\n",
       "      <td>False</td>\n",
       "      <td>False</td>\n",
       "      <td>False</td>\n",
       "      <td>False</td>\n",
       "    </tr>\n",
       "    <tr>\n",
       "      <th>112648</th>\n",
       "      <td>False</td>\n",
       "      <td>False</td>\n",
       "      <td>False</td>\n",
       "      <td>False</td>\n",
       "      <td>False</td>\n",
       "      <td>False</td>\n",
       "      <td>False</td>\n",
       "    </tr>\n",
       "    <tr>\n",
       "      <th>112649</th>\n",
       "      <td>False</td>\n",
       "      <td>False</td>\n",
       "      <td>False</td>\n",
       "      <td>False</td>\n",
       "      <td>False</td>\n",
       "      <td>False</td>\n",
       "      <td>False</td>\n",
       "    </tr>\n",
       "  </tbody>\n",
       "</table>\n",
       "<p>112650 rows × 7 columns</p>\n",
       "</div>"
      ],
      "text/plain": [
       "        SiparisNo  SiparisTurNo  UrunNo  SaticiNo  NakliyeTarihi  Fiyat   \\\n",
       "0           False         False   False     False          False   False   \n",
       "1           False         False   False     False          False   False   \n",
       "2           False         False   False     False          False   False   \n",
       "3           False         False   False     False          False   False   \n",
       "4           False         False   False     False          False   False   \n",
       "...           ...           ...     ...       ...            ...     ...   \n",
       "112645      False         False   False     False          False   False   \n",
       "112646      False         False   False     False          False   False   \n",
       "112647      False         False   False     False          False   False   \n",
       "112648      False         False   False     False          False   False   \n",
       "112649      False         False   False     False          False   False   \n",
       "\n",
       "        NakliyeUcreti  \n",
       "0               False  \n",
       "1               False  \n",
       "2               False  \n",
       "3               False  \n",
       "4               False  \n",
       "...               ...  \n",
       "112645          False  \n",
       "112646          False  \n",
       "112647          False  \n",
       "112648          False  \n",
       "112649          False  \n",
       "\n",
       "[112650 rows x 7 columns]"
      ]
     },
     "execution_count": 265,
     "metadata": {},
     "output_type": "execute_result"
    }
   ],
   "source": [
    "df3.isnull() #boş değer yok"
   ]
  },
  {
   "cell_type": "code",
   "execution_count": 266,
   "metadata": {},
   "outputs": [
    {
     "data": {
      "text/plain": [
       "(112650, 7)"
      ]
     },
     "execution_count": 266,
     "metadata": {},
     "output_type": "execute_result"
    }
   ],
   "source": [
    "df3.shape"
   ]
  },
  {
   "cell_type": "markdown",
   "metadata": {},
   "source": [
    "-------------------------------------------**order_payments_dataset**------------------------------------------------"
   ]
  },
  {
   "cell_type": "code",
   "execution_count": 267,
   "metadata": {},
   "outputs": [
    {
     "data": {
      "text/html": [
       "<div>\n",
       "<style scoped>\n",
       "    .dataframe tbody tr th:only-of-type {\n",
       "        vertical-align: middle;\n",
       "    }\n",
       "\n",
       "    .dataframe tbody tr th {\n",
       "        vertical-align: top;\n",
       "    }\n",
       "\n",
       "    .dataframe thead th {\n",
       "        text-align: right;\n",
       "    }\n",
       "</style>\n",
       "<table border=\"1\" class=\"dataframe\">\n",
       "  <thead>\n",
       "    <tr style=\"text-align: right;\">\n",
       "      <th></th>\n",
       "      <th>order_id</th>\n",
       "      <th>payment_sequential</th>\n",
       "      <th>payment_type</th>\n",
       "      <th>payment_installments</th>\n",
       "      <th>payment_value</th>\n",
       "    </tr>\n",
       "  </thead>\n",
       "  <tbody>\n",
       "    <tr>\n",
       "      <th>0</th>\n",
       "      <td>b81ef226f3fe1789b1e8b2acac839d17</td>\n",
       "      <td>1</td>\n",
       "      <td>credit_card</td>\n",
       "      <td>8</td>\n",
       "      <td>99.33</td>\n",
       "    </tr>\n",
       "    <tr>\n",
       "      <th>1</th>\n",
       "      <td>a9810da82917af2d9aefd1278f1dcfa0</td>\n",
       "      <td>1</td>\n",
       "      <td>credit_card</td>\n",
       "      <td>1</td>\n",
       "      <td>24.39</td>\n",
       "    </tr>\n",
       "    <tr>\n",
       "      <th>2</th>\n",
       "      <td>25e8ea4e93396b6fa0d3dd708e76c1bd</td>\n",
       "      <td>1</td>\n",
       "      <td>credit_card</td>\n",
       "      <td>1</td>\n",
       "      <td>65.71</td>\n",
       "    </tr>\n",
       "    <tr>\n",
       "      <th>3</th>\n",
       "      <td>ba78997921bbcdc1373bb41e913ab953</td>\n",
       "      <td>1</td>\n",
       "      <td>credit_card</td>\n",
       "      <td>8</td>\n",
       "      <td>107.78</td>\n",
       "    </tr>\n",
       "    <tr>\n",
       "      <th>4</th>\n",
       "      <td>42fdf880ba16b47b59251dd489d4441a</td>\n",
       "      <td>1</td>\n",
       "      <td>credit_card</td>\n",
       "      <td>2</td>\n",
       "      <td>128.45</td>\n",
       "    </tr>\n",
       "  </tbody>\n",
       "</table>\n",
       "</div>"
      ],
      "text/plain": [
       "                           order_id  payment_sequential payment_type  \\\n",
       "0  b81ef226f3fe1789b1e8b2acac839d17                   1  credit_card   \n",
       "1  a9810da82917af2d9aefd1278f1dcfa0                   1  credit_card   \n",
       "2  25e8ea4e93396b6fa0d3dd708e76c1bd                   1  credit_card   \n",
       "3  ba78997921bbcdc1373bb41e913ab953                   1  credit_card   \n",
       "4  42fdf880ba16b47b59251dd489d4441a                   1  credit_card   \n",
       "\n",
       "   payment_installments  payment_value  \n",
       "0                     8          99.33  \n",
       "1                     1          24.39  \n",
       "2                     1          65.71  \n",
       "3                     8         107.78  \n",
       "4                     2         128.45  "
      ]
     },
     "execution_count": 267,
     "metadata": {},
     "output_type": "execute_result"
    }
   ],
   "source": [
    "df4 = pd.read_csv(\"order_payments_dataset.csv\", engine='python') #veri setimizi çektik.\n",
    "df4.head()"
   ]
  },
  {
   "cell_type": "code",
   "execution_count": 268,
   "metadata": {},
   "outputs": [],
   "source": [
    "df4.rename(columns={\"order_id\" :\"SiparisNo\", \n",
    "                    \"payment_sequential\":\"OdemeSirasi\", \n",
    "                    \"payment_type\":\"OdemeTipi\",\n",
    "                    \"payment_installments\":\"OdemeTaksidi\",\n",
    "                    \"payment_value\":\"OdenecekTutar\",\n",
    "                    }, inplace=True)"
   ]
  },
  {
   "cell_type": "code",
   "execution_count": 269,
   "metadata": {},
   "outputs": [
    {
     "data": {
      "text/html": [
       "<div>\n",
       "<style scoped>\n",
       "    .dataframe tbody tr th:only-of-type {\n",
       "        vertical-align: middle;\n",
       "    }\n",
       "\n",
       "    .dataframe tbody tr th {\n",
       "        vertical-align: top;\n",
       "    }\n",
       "\n",
       "    .dataframe thead th {\n",
       "        text-align: right;\n",
       "    }\n",
       "</style>\n",
       "<table border=\"1\" class=\"dataframe\">\n",
       "  <thead>\n",
       "    <tr style=\"text-align: right;\">\n",
       "      <th></th>\n",
       "      <th>SiparisNo</th>\n",
       "      <th>OdemeSirasi</th>\n",
       "      <th>OdemeTipi</th>\n",
       "      <th>OdemeTaksidi</th>\n",
       "      <th>OdenecekTutar</th>\n",
       "    </tr>\n",
       "  </thead>\n",
       "  <tbody>\n",
       "    <tr>\n",
       "      <th>103881</th>\n",
       "      <td>0406037ad97740d563a178ecc7a2075c</td>\n",
       "      <td>1</td>\n",
       "      <td>boleto</td>\n",
       "      <td>1</td>\n",
       "      <td>363.31</td>\n",
       "    </tr>\n",
       "    <tr>\n",
       "      <th>103882</th>\n",
       "      <td>7b905861d7c825891d6347454ea7863f</td>\n",
       "      <td>1</td>\n",
       "      <td>credit_card</td>\n",
       "      <td>2</td>\n",
       "      <td>96.80</td>\n",
       "    </tr>\n",
       "    <tr>\n",
       "      <th>103883</th>\n",
       "      <td>32609bbb3dd69b3c066a6860554a77bf</td>\n",
       "      <td>1</td>\n",
       "      <td>credit_card</td>\n",
       "      <td>1</td>\n",
       "      <td>47.77</td>\n",
       "    </tr>\n",
       "    <tr>\n",
       "      <th>103884</th>\n",
       "      <td>b8b61059626efa996a60be9bb9320e10</td>\n",
       "      <td>1</td>\n",
       "      <td>credit_card</td>\n",
       "      <td>5</td>\n",
       "      <td>369.54</td>\n",
       "    </tr>\n",
       "    <tr>\n",
       "      <th>103885</th>\n",
       "      <td>28bbae6599b09d39ca406b747b6632b1</td>\n",
       "      <td>1</td>\n",
       "      <td>boleto</td>\n",
       "      <td>1</td>\n",
       "      <td>191.58</td>\n",
       "    </tr>\n",
       "  </tbody>\n",
       "</table>\n",
       "</div>"
      ],
      "text/plain": [
       "                               SiparisNo  OdemeSirasi    OdemeTipi  \\\n",
       "103881  0406037ad97740d563a178ecc7a2075c            1       boleto   \n",
       "103882  7b905861d7c825891d6347454ea7863f            1  credit_card   \n",
       "103883  32609bbb3dd69b3c066a6860554a77bf            1  credit_card   \n",
       "103884  b8b61059626efa996a60be9bb9320e10            1  credit_card   \n",
       "103885  28bbae6599b09d39ca406b747b6632b1            1       boleto   \n",
       "\n",
       "        OdemeTaksidi  OdenecekTutar  \n",
       "103881             1         363.31  \n",
       "103882             2          96.80  \n",
       "103883             1          47.77  \n",
       "103884             5         369.54  \n",
       "103885             1         191.58  "
      ]
     },
     "execution_count": 269,
     "metadata": {},
     "output_type": "execute_result"
    }
   ],
   "source": [
    "df4.tail()"
   ]
  },
  {
   "cell_type": "code",
   "execution_count": 270,
   "metadata": {},
   "outputs": [
    {
     "name": "stdout",
     "output_type": "stream",
     "text": [
      "<class 'pandas.core.frame.DataFrame'>\n",
      "RangeIndex: 103886 entries, 0 to 103885\n",
      "Data columns (total 5 columns):\n",
      " #   Column         Non-Null Count   Dtype  \n",
      "---  ------         --------------   -----  \n",
      " 0   SiparisNo      103886 non-null  object \n",
      " 1   OdemeSirasi    103886 non-null  int64  \n",
      " 2   OdemeTipi      103886 non-null  object \n",
      " 3   OdemeTaksidi   103886 non-null  int64  \n",
      " 4   OdenecekTutar  103886 non-null  float64\n",
      "dtypes: float64(1), int64(2), object(2)\n",
      "memory usage: 4.0+ MB\n"
     ]
    }
   ],
   "source": [
    "df4.info()"
   ]
  },
  {
   "cell_type": "code",
   "execution_count": 271,
   "metadata": {},
   "outputs": [
    {
     "data": {
      "text/plain": [
       "SiparisNo         object\n",
       "OdemeSirasi        int64\n",
       "OdemeTipi         object\n",
       "OdemeTaksidi       int64\n",
       "OdenecekTutar    float64\n",
       "dtype: object"
      ]
     },
     "execution_count": 271,
     "metadata": {},
     "output_type": "execute_result"
    }
   ],
   "source": [
    "df4.dtypes"
   ]
  },
  {
   "cell_type": "code",
   "execution_count": 272,
   "metadata": {},
   "outputs": [
    {
     "data": {
      "text/plain": [
       "SiparisNo        99440\n",
       "OdemeSirasi         29\n",
       "OdemeTipi            5\n",
       "OdemeTaksidi        24\n",
       "OdenecekTutar    29077\n",
       "dtype: int64"
      ]
     },
     "execution_count": 272,
     "metadata": {},
     "output_type": "execute_result"
    }
   ],
   "source": [
    "df4.nunique()"
   ]
  },
  {
   "cell_type": "code",
   "execution_count": 273,
   "metadata": {},
   "outputs": [
    {
     "name": "stderr",
     "output_type": "stream",
     "text": [
      "c:\\Users\\BEYZA ASLAN\\AppData\\Local\\Programs\\Python\\Python310\\lib\\site-packages\\seaborn\\_oldcore.py:1599: UserWarning: Vertical orientation ignored with only `x` specified.\n",
      "  warnings.warn(single_var_warning.format(\"Vertical\", \"x\"))\n"
     ]
    },
    {
     "data": {
      "text/plain": [
       "<AxesSubplot: xlabel='OdenecekTutar'>"
      ]
     },
     "execution_count": 273,
     "metadata": {},
     "output_type": "execute_result"
    },
    {
     "data": {
      "image/png": "[encoded data removed]",
      "text/plain": [
       "<Figure size 640x480 with 1 Axes>"
      ]
     },
     "metadata": {},
     "output_type": "display_data"
    }
   ],
   "source": [
    "sns.boxplot(x = df4[\"OdenecekTutar\"], orient = \"v\") #aykırı değer tespiti"
   ]
  },
  {
   "cell_type": "code",
   "execution_count": 274,
   "metadata": {},
   "outputs": [
    {
     "data": {
      "text/html": [
       "<div>\n",
       "<style scoped>\n",
       "    .dataframe tbody tr th:only-of-type {\n",
       "        vertical-align: middle;\n",
       "    }\n",
       "\n",
       "    .dataframe tbody tr th {\n",
       "        vertical-align: top;\n",
       "    }\n",
       "\n",
       "    .dataframe thead th {\n",
       "        text-align: right;\n",
       "    }\n",
       "</style>\n",
       "<table border=\"1\" class=\"dataframe\">\n",
       "  <thead>\n",
       "    <tr style=\"text-align: right;\">\n",
       "      <th></th>\n",
       "      <th>SiparisNo</th>\n",
       "      <th>OdemeSirasi</th>\n",
       "      <th>OdemeTipi</th>\n",
       "      <th>OdemeTaksidi</th>\n",
       "      <th>OdenecekTutar</th>\n",
       "    </tr>\n",
       "  </thead>\n",
       "  <tbody>\n",
       "    <tr>\n",
       "      <th>0</th>\n",
       "      <td>b81ef226f3fe1789b1e8b2acac839d17</td>\n",
       "      <td>1</td>\n",
       "      <td>credit_card</td>\n",
       "      <td>8</td>\n",
       "      <td>99.33</td>\n",
       "    </tr>\n",
       "    <tr>\n",
       "      <th>1</th>\n",
       "      <td>a9810da82917af2d9aefd1278f1dcfa0</td>\n",
       "      <td>1</td>\n",
       "      <td>credit_card</td>\n",
       "      <td>1</td>\n",
       "      <td>24.39</td>\n",
       "    </tr>\n",
       "    <tr>\n",
       "      <th>2</th>\n",
       "      <td>25e8ea4e93396b6fa0d3dd708e76c1bd</td>\n",
       "      <td>1</td>\n",
       "      <td>credit_card</td>\n",
       "      <td>1</td>\n",
       "      <td>65.71</td>\n",
       "    </tr>\n",
       "    <tr>\n",
       "      <th>3</th>\n",
       "      <td>ba78997921bbcdc1373bb41e913ab953</td>\n",
       "      <td>1</td>\n",
       "      <td>credit_card</td>\n",
       "      <td>8</td>\n",
       "      <td>107.78</td>\n",
       "    </tr>\n",
       "    <tr>\n",
       "      <th>4</th>\n",
       "      <td>42fdf880ba16b47b59251dd489d4441a</td>\n",
       "      <td>1</td>\n",
       "      <td>credit_card</td>\n",
       "      <td>2</td>\n",
       "      <td>128.45</td>\n",
       "    </tr>\n",
       "    <tr>\n",
       "      <th>...</th>\n",
       "      <td>...</td>\n",
       "      <td>...</td>\n",
       "      <td>...</td>\n",
       "      <td>...</td>\n",
       "      <td>...</td>\n",
       "    </tr>\n",
       "    <tr>\n",
       "      <th>103879</th>\n",
       "      <td>c45067032fd84f4cf408730ff5205568</td>\n",
       "      <td>1</td>\n",
       "      <td>credit_card</td>\n",
       "      <td>2</td>\n",
       "      <td>198.94</td>\n",
       "    </tr>\n",
       "    <tr>\n",
       "      <th>103880</th>\n",
       "      <td>7159096c5aa9be77f7f0c26c01ee9793</td>\n",
       "      <td>1</td>\n",
       "      <td>credit_card</td>\n",
       "      <td>4</td>\n",
       "      <td>280.65</td>\n",
       "    </tr>\n",
       "    <tr>\n",
       "      <th>103882</th>\n",
       "      <td>7b905861d7c825891d6347454ea7863f</td>\n",
       "      <td>1</td>\n",
       "      <td>credit_card</td>\n",
       "      <td>2</td>\n",
       "      <td>96.80</td>\n",
       "    </tr>\n",
       "    <tr>\n",
       "      <th>103883</th>\n",
       "      <td>32609bbb3dd69b3c066a6860554a77bf</td>\n",
       "      <td>1</td>\n",
       "      <td>credit_card</td>\n",
       "      <td>1</td>\n",
       "      <td>47.77</td>\n",
       "    </tr>\n",
       "    <tr>\n",
       "      <th>103884</th>\n",
       "      <td>b8b61059626efa996a60be9bb9320e10</td>\n",
       "      <td>1</td>\n",
       "      <td>credit_card</td>\n",
       "      <td>5</td>\n",
       "      <td>369.54</td>\n",
       "    </tr>\n",
       "  </tbody>\n",
       "</table>\n",
       "<p>76795 rows × 5 columns</p>\n",
       "</div>"
      ],
      "text/plain": [
       "                               SiparisNo  OdemeSirasi    OdemeTipi  \\\n",
       "0       b81ef226f3fe1789b1e8b2acac839d17            1  credit_card   \n",
       "1       a9810da82917af2d9aefd1278f1dcfa0            1  credit_card   \n",
       "2       25e8ea4e93396b6fa0d3dd708e76c1bd            1  credit_card   \n",
       "3       ba78997921bbcdc1373bb41e913ab953            1  credit_card   \n",
       "4       42fdf880ba16b47b59251dd489d4441a            1  credit_card   \n",
       "...                                  ...          ...          ...   \n",
       "103879  c45067032fd84f4cf408730ff5205568            1  credit_card   \n",
       "103880  7159096c5aa9be77f7f0c26c01ee9793            1  credit_card   \n",
       "103882  7b905861d7c825891d6347454ea7863f            1  credit_card   \n",
       "103883  32609bbb3dd69b3c066a6860554a77bf            1  credit_card   \n",
       "103884  b8b61059626efa996a60be9bb9320e10            1  credit_card   \n",
       "\n",
       "        OdemeTaksidi  OdenecekTutar  \n",
       "0                  8          99.33  \n",
       "1                  1          24.39  \n",
       "2                  1          65.71  \n",
       "3                  8         107.78  \n",
       "4                  2         128.45  \n",
       "...              ...            ...  \n",
       "103879             2         198.94  \n",
       "103880             4         280.65  \n",
       "103882             2          96.80  \n",
       "103883             1          47.77  \n",
       "103884             5         369.54  \n",
       "\n",
       "[76795 rows x 5 columns]"
      ]
     },
     "execution_count": 274,
     "metadata": {},
     "output_type": "execute_result"
    }
   ],
   "source": [
    "df4[df4[\"OdemeTipi\"]==\"credit_card\"]"
   ]
  },
  {
   "cell_type": "code",
   "execution_count": 275,
   "metadata": {},
   "outputs": [
    {
     "data": {
      "text/plain": [
       "credit_card    76795\n",
       "boleto         19784\n",
       "voucher         5775\n",
       "debit_card      1529\n",
       "not_defined        3\n",
       "Name: OdemeTipi, dtype: int64"
      ]
     },
     "execution_count": 275,
     "metadata": {},
     "output_type": "execute_result"
    }
   ],
   "source": [
    "df4[\"OdemeTipi\"].value_counts()"
   ]
  },
  {
   "cell_type": "code",
   "execution_count": 276,
   "metadata": {},
   "outputs": [
    {
     "data": {
      "text/plain": [
       "Text(0.5, 1.0, 'Ödeme Türlerine Göre Sıralama')"
      ]
     },
     "execution_count": 276,
     "metadata": {},
     "output_type": "execute_result"
    },
    {
     "data": {
      "image/png": "[encoded data removed]",
      "text/plain": [
       "<Figure size 640x480 with 1 Axes>"
      ]
     },
     "metadata": {},
     "output_type": "display_data"
    }
   ],
   "source": [
    "df4[\"OdemeTipi\"].value_counts().plot.barh().set_title(\"Ödeme Türlerine Göre Sıralama\")"
   ]
  },
  {
   "cell_type": "code",
   "execution_count": 277,
   "metadata": {},
   "outputs": [
    {
     "data": {
      "text/plain": [
       "Text(0.5, 1.0, 'Ödeme Taksitlerine Göre Sıralama')"
      ]
     },
     "execution_count": 277,
     "metadata": {},
     "output_type": "execute_result"
    },
    {
     "data": {
      "image/png": "[encoded data removed]",
      "text/plain": [
       "<Figure size 640x480 with 1 Axes>"
      ]
     },
     "metadata": {},
     "output_type": "display_data"
    }
   ],
   "source": [
    "df4[\"OdemeTaksidi\"].value_counts().plot.barh().set_title(\"Ödeme Taksitlerine Göre Sıralama\")"
   ]
  },
  {
   "cell_type": "code",
   "execution_count": 278,
   "metadata": {},
   "outputs": [
    {
     "data": {
      "text/plain": [
       "13664.08"
      ]
     },
     "execution_count": 278,
     "metadata": {},
     "output_type": "execute_result"
    }
   ],
   "source": [
    "df4['OdenecekTutar'].max() #maksimum ödencek tutara bakıldı. "
   ]
  },
  {
   "cell_type": "code",
   "execution_count": 279,
   "metadata": {},
   "outputs": [
    {
     "data": {
      "text/plain": [
       "(103886, 5)"
      ]
     },
     "execution_count": 279,
     "metadata": {},
     "output_type": "execute_result"
    }
   ],
   "source": [
    "df4.shape"
   ]
  },
  {
   "cell_type": "code",
   "execution_count": 280,
   "metadata": {},
   "outputs": [
    {
     "data": {
      "text/html": [
       "<div>\n",
       "<style scoped>\n",
       "    .dataframe tbody tr th:only-of-type {\n",
       "        vertical-align: middle;\n",
       "    }\n",
       "\n",
       "    .dataframe tbody tr th {\n",
       "        vertical-align: top;\n",
       "    }\n",
       "\n",
       "    .dataframe thead th {\n",
       "        text-align: right;\n",
       "    }\n",
       "</style>\n",
       "<table border=\"1\" class=\"dataframe\">\n",
       "  <thead>\n",
       "    <tr style=\"text-align: right;\">\n",
       "      <th></th>\n",
       "      <th>SiparisNo</th>\n",
       "      <th>OdemeSirasi</th>\n",
       "      <th>OdemeTipi</th>\n",
       "      <th>OdemeTaksidi</th>\n",
       "      <th>OdenecekTutar</th>\n",
       "    </tr>\n",
       "  </thead>\n",
       "  <tbody>\n",
       "    <tr>\n",
       "      <th>0</th>\n",
       "      <td>False</td>\n",
       "      <td>False</td>\n",
       "      <td>False</td>\n",
       "      <td>False</td>\n",
       "      <td>False</td>\n",
       "    </tr>\n",
       "    <tr>\n",
       "      <th>1</th>\n",
       "      <td>False</td>\n",
       "      <td>False</td>\n",
       "      <td>False</td>\n",
       "      <td>False</td>\n",
       "      <td>False</td>\n",
       "    </tr>\n",
       "    <tr>\n",
       "      <th>2</th>\n",
       "      <td>False</td>\n",
       "      <td>False</td>\n",
       "      <td>False</td>\n",
       "      <td>False</td>\n",
       "      <td>False</td>\n",
       "    </tr>\n",
       "    <tr>\n",
       "      <th>3</th>\n",
       "      <td>False</td>\n",
       "      <td>False</td>\n",
       "      <td>False</td>\n",
       "      <td>False</td>\n",
       "      <td>False</td>\n",
       "    </tr>\n",
       "    <tr>\n",
       "      <th>4</th>\n",
       "      <td>False</td>\n",
       "      <td>False</td>\n",
       "      <td>False</td>\n",
       "      <td>False</td>\n",
       "      <td>False</td>\n",
       "    </tr>\n",
       "    <tr>\n",
       "      <th>...</th>\n",
       "      <td>...</td>\n",
       "      <td>...</td>\n",
       "      <td>...</td>\n",
       "      <td>...</td>\n",
       "      <td>...</td>\n",
       "    </tr>\n",
       "    <tr>\n",
       "      <th>103881</th>\n",
       "      <td>False</td>\n",
       "      <td>False</td>\n",
       "      <td>False</td>\n",
       "      <td>False</td>\n",
       "      <td>False</td>\n",
       "    </tr>\n",
       "    <tr>\n",
       "      <th>103882</th>\n",
       "      <td>False</td>\n",
       "      <td>False</td>\n",
       "      <td>False</td>\n",
       "      <td>False</td>\n",
       "      <td>False</td>\n",
       "    </tr>\n",
       "    <tr>\n",
       "      <th>103883</th>\n",
       "      <td>False</td>\n",
       "      <td>False</td>\n",
       "      <td>False</td>\n",
       "      <td>False</td>\n",
       "      <td>False</td>\n",
       "    </tr>\n",
       "    <tr>\n",
       "      <th>103884</th>\n",
       "      <td>False</td>\n",
       "      <td>False</td>\n",
       "      <td>False</td>\n",
       "      <td>False</td>\n",
       "      <td>False</td>\n",
       "    </tr>\n",
       "    <tr>\n",
       "      <th>103885</th>\n",
       "      <td>False</td>\n",
       "      <td>False</td>\n",
       "      <td>False</td>\n",
       "      <td>False</td>\n",
       "      <td>False</td>\n",
       "    </tr>\n",
       "  </tbody>\n",
       "</table>\n",
       "<p>103886 rows × 5 columns</p>\n",
       "</div>"
      ],
      "text/plain": [
       "        SiparisNo  OdemeSirasi  OdemeTipi  OdemeTaksidi  OdenecekTutar\n",
       "0           False        False      False         False          False\n",
       "1           False        False      False         False          False\n",
       "2           False        False      False         False          False\n",
       "3           False        False      False         False          False\n",
       "4           False        False      False         False          False\n",
       "...           ...          ...        ...           ...            ...\n",
       "103881      False        False      False         False          False\n",
       "103882      False        False      False         False          False\n",
       "103883      False        False      False         False          False\n",
       "103884      False        False      False         False          False\n",
       "103885      False        False      False         False          False\n",
       "\n",
       "[103886 rows x 5 columns]"
      ]
     },
     "execution_count": 280,
     "metadata": {},
     "output_type": "execute_result"
    }
   ],
   "source": [
    "df4.isnull()"
   ]
  },
  {
   "cell_type": "code",
   "execution_count": 281,
   "metadata": {},
   "outputs": [
    {
     "name": "stdout",
     "output_type": "stream",
     "text": [
      "0\n"
     ]
    }
   ],
   "source": [
    "\n",
    "print(sum(df4.duplicated(keep=\"first\"))) #dublicate veri kontrolü"
   ]
  },
  {
   "cell_type": "code",
   "execution_count": 282,
   "metadata": {},
   "outputs": [
    {
     "data": {
      "text/plain": [
       "OdemeTipi\n",
       "boleto         19784\n",
       "credit_card    76795\n",
       "debit_card      1529\n",
       "not_defined        3\n",
       "voucher         5775\n",
       "dtype: int64"
      ]
     },
     "execution_count": 282,
     "metadata": {},
     "output_type": "execute_result"
    }
   ],
   "source": [
    "df4.groupby(\"OdemeTipi\").size() #ödeme türüne göre gruplama yapıldı"
   ]
  },
  {
   "cell_type": "code",
   "execution_count": 283,
   "metadata": {},
   "outputs": [
    {
     "data": {
      "text/plain": [
       "154.10038041699553"
      ]
     },
     "execution_count": 283,
     "metadata": {},
     "output_type": "execute_result"
    }
   ],
   "source": [
    "df4[\"OdenecekTutar\"].mean() #ortalama sipariş tutarı"
   ]
  },
  {
   "cell_type": "markdown",
   "metadata": {},
   "source": [
    "------------------------------------------**order_reviews_dataset**---------------------------------------------------"
   ]
  },
  {
   "cell_type": "code",
   "execution_count": 284,
   "metadata": {},
   "outputs": [
    {
     "data": {
      "text/html": [
       "<div>\n",
       "<style scoped>\n",
       "    .dataframe tbody tr th:only-of-type {\n",
       "        vertical-align: middle;\n",
       "    }\n",
       "\n",
       "    .dataframe tbody tr th {\n",
       "        vertical-align: top;\n",
       "    }\n",
       "\n",
       "    .dataframe thead th {\n",
       "        text-align: right;\n",
       "    }\n",
       "</style>\n",
       "<table border=\"1\" class=\"dataframe\">\n",
       "  <thead>\n",
       "    <tr style=\"text-align: right;\">\n",
       "      <th></th>\n",
       "      <th>review_id</th>\n",
       "      <th>order_id</th>\n",
       "      <th>review_score</th>\n",
       "      <th>review_comment_title</th>\n",
       "      <th>review_comment_message</th>\n",
       "      <th>review_creation_date</th>\n",
       "      <th>review_answer_timestamp</th>\n",
       "    </tr>\n",
       "  </thead>\n",
       "  <tbody>\n",
       "    <tr>\n",
       "      <th>0</th>\n",
       "      <td>7bc2406110b926393aa56f80a40eba40</td>\n",
       "      <td>73fc7af87114b39712e6da79b0a377eb</td>\n",
       "      <td>4</td>\n",
       "      <td>NaN</td>\n",
       "      <td>NaN</td>\n",
       "      <td>2018-01-18 00:00:00</td>\n",
       "      <td>2018-01-18 21:46:59</td>\n",
       "    </tr>\n",
       "    <tr>\n",
       "      <th>1</th>\n",
       "      <td>80e641a11e56f04c1ad469d5645fdfde</td>\n",
       "      <td>a548910a1c6147796b98fdf73dbeba33</td>\n",
       "      <td>5</td>\n",
       "      <td>NaN</td>\n",
       "      <td>NaN</td>\n",
       "      <td>2018-03-10 00:00:00</td>\n",
       "      <td>2018-03-11 03:05:13</td>\n",
       "    </tr>\n",
       "    <tr>\n",
       "      <th>2</th>\n",
       "      <td>228ce5500dc1d8e020d8d1322874b6f0</td>\n",
       "      <td>f9e4b658b201a9f2ecdecbb34bed034b</td>\n",
       "      <td>5</td>\n",
       "      <td>NaN</td>\n",
       "      <td>NaN</td>\n",
       "      <td>2018-02-17 00:00:00</td>\n",
       "      <td>2018-02-18 14:36:24</td>\n",
       "    </tr>\n",
       "    <tr>\n",
       "      <th>3</th>\n",
       "      <td>e64fb393e7b32834bb789ff8bb30750e</td>\n",
       "      <td>658677c97b385a9be170737859d3511b</td>\n",
       "      <td>5</td>\n",
       "      <td>NaN</td>\n",
       "      <td>Recebi bem antes do prazo estipulado.</td>\n",
       "      <td>2017-04-21 00:00:00</td>\n",
       "      <td>2017-04-21 22:02:06</td>\n",
       "    </tr>\n",
       "    <tr>\n",
       "      <th>4</th>\n",
       "      <td>f7c4243c7fe1938f181bec41a392bdeb</td>\n",
       "      <td>8e6bfb81e283fa7e4f11123a3fb894f1</td>\n",
       "      <td>5</td>\n",
       "      <td>NaN</td>\n",
       "      <td>Parabéns lojas lannister adorei comprar pela I...</td>\n",
       "      <td>2018-03-01 00:00:00</td>\n",
       "      <td>2018-03-02 10:26:53</td>\n",
       "    </tr>\n",
       "  </tbody>\n",
       "</table>\n",
       "</div>"
      ],
      "text/plain": [
       "                          review_id                          order_id  \\\n",
       "0  7bc2406110b926393aa56f80a40eba40  73fc7af87114b39712e6da79b0a377eb   \n",
       "1  80e641a11e56f04c1ad469d5645fdfde  a548910a1c6147796b98fdf73dbeba33   \n",
       "2  228ce5500dc1d8e020d8d1322874b6f0  f9e4b658b201a9f2ecdecbb34bed034b   \n",
       "3  e64fb393e7b32834bb789ff8bb30750e  658677c97b385a9be170737859d3511b   \n",
       "4  f7c4243c7fe1938f181bec41a392bdeb  8e6bfb81e283fa7e4f11123a3fb894f1   \n",
       "\n",
       "   review_score review_comment_title  \\\n",
       "0             4                  NaN   \n",
       "1             5                  NaN   \n",
       "2             5                  NaN   \n",
       "3             5                  NaN   \n",
       "4             5                  NaN   \n",
       "\n",
       "                              review_comment_message review_creation_date  \\\n",
       "0                                                NaN  2018-01-18 00:00:00   \n",
       "1                                                NaN  2018-03-10 00:00:00   \n",
       "2                                                NaN  2018-02-17 00:00:00   \n",
       "3              Recebi bem antes do prazo estipulado.  2017-04-21 00:00:00   \n",
       "4  Parabéns lojas lannister adorei comprar pela I...  2018-03-01 00:00:00   \n",
       "\n",
       "  review_answer_timestamp  \n",
       "0     2018-01-18 21:46:59  \n",
       "1     2018-03-11 03:05:13  \n",
       "2     2018-02-18 14:36:24  \n",
       "3     2017-04-21 22:02:06  \n",
       "4     2018-03-02 10:26:53  "
      ]
     },
     "execution_count": 284,
     "metadata": {},
     "output_type": "execute_result"
    }
   ],
   "source": [
    "df5 = pd.read_csv(\"order_reviews_dataset.csv\", engine='python') #veri setimizi çektik.\n",
    "df5.head()"
   ]
  },
  {
   "cell_type": "code",
   "execution_count": 285,
   "metadata": {},
   "outputs": [
    {
     "data": {
      "text/html": [
       "<div>\n",
       "<style scoped>\n",
       "    .dataframe tbody tr th:only-of-type {\n",
       "        vertical-align: middle;\n",
       "    }\n",
       "\n",
       "    .dataframe tbody tr th {\n",
       "        vertical-align: top;\n",
       "    }\n",
       "\n",
       "    .dataframe thead th {\n",
       "        text-align: right;\n",
       "    }\n",
       "</style>\n",
       "<table border=\"1\" class=\"dataframe\">\n",
       "  <thead>\n",
       "    <tr style=\"text-align: right;\">\n",
       "      <th></th>\n",
       "      <th>İncelenenNo</th>\n",
       "      <th>SiparisNo</th>\n",
       "      <th>İncelenenSayisi</th>\n",
       "      <th>İncelenenYorumBaslik</th>\n",
       "      <th>İncelenenYorumMesaji</th>\n",
       "      <th>İncelemeTarihi</th>\n",
       "      <th>review_answer_timestamp</th>\n",
       "    </tr>\n",
       "  </thead>\n",
       "  <tbody>\n",
       "    <tr>\n",
       "      <th>0</th>\n",
       "      <td>7bc2406110b926393aa56f80a40eba40</td>\n",
       "      <td>73fc7af87114b39712e6da79b0a377eb</td>\n",
       "      <td>4</td>\n",
       "      <td>NaN</td>\n",
       "      <td>NaN</td>\n",
       "      <td>2018-01-18 00:00:00</td>\n",
       "      <td>2018-01-18 21:46:59</td>\n",
       "    </tr>\n",
       "    <tr>\n",
       "      <th>1</th>\n",
       "      <td>80e641a11e56f04c1ad469d5645fdfde</td>\n",
       "      <td>a548910a1c6147796b98fdf73dbeba33</td>\n",
       "      <td>5</td>\n",
       "      <td>NaN</td>\n",
       "      <td>NaN</td>\n",
       "      <td>2018-03-10 00:00:00</td>\n",
       "      <td>2018-03-11 03:05:13</td>\n",
       "    </tr>\n",
       "    <tr>\n",
       "      <th>2</th>\n",
       "      <td>228ce5500dc1d8e020d8d1322874b6f0</td>\n",
       "      <td>f9e4b658b201a9f2ecdecbb34bed034b</td>\n",
       "      <td>5</td>\n",
       "      <td>NaN</td>\n",
       "      <td>NaN</td>\n",
       "      <td>2018-02-17 00:00:00</td>\n",
       "      <td>2018-02-18 14:36:24</td>\n",
       "    </tr>\n",
       "    <tr>\n",
       "      <th>3</th>\n",
       "      <td>e64fb393e7b32834bb789ff8bb30750e</td>\n",
       "      <td>658677c97b385a9be170737859d3511b</td>\n",
       "      <td>5</td>\n",
       "      <td>NaN</td>\n",
       "      <td>Recebi bem antes do prazo estipulado.</td>\n",
       "      <td>2017-04-21 00:00:00</td>\n",
       "      <td>2017-04-21 22:02:06</td>\n",
       "    </tr>\n",
       "    <tr>\n",
       "      <th>4</th>\n",
       "      <td>f7c4243c7fe1938f181bec41a392bdeb</td>\n",
       "      <td>8e6bfb81e283fa7e4f11123a3fb894f1</td>\n",
       "      <td>5</td>\n",
       "      <td>NaN</td>\n",
       "      <td>Parabéns lojas lannister adorei comprar pela I...</td>\n",
       "      <td>2018-03-01 00:00:00</td>\n",
       "      <td>2018-03-02 10:26:53</td>\n",
       "    </tr>\n",
       "  </tbody>\n",
       "</table>\n",
       "</div>"
      ],
      "text/plain": [
       "                        İncelenenNo                         SiparisNo  \\\n",
       "0  7bc2406110b926393aa56f80a40eba40  73fc7af87114b39712e6da79b0a377eb   \n",
       "1  80e641a11e56f04c1ad469d5645fdfde  a548910a1c6147796b98fdf73dbeba33   \n",
       "2  228ce5500dc1d8e020d8d1322874b6f0  f9e4b658b201a9f2ecdecbb34bed034b   \n",
       "3  e64fb393e7b32834bb789ff8bb30750e  658677c97b385a9be170737859d3511b   \n",
       "4  f7c4243c7fe1938f181bec41a392bdeb  8e6bfb81e283fa7e4f11123a3fb894f1   \n",
       "\n",
       "   İncelenenSayisi İncelenenYorumBaslik  \\\n",
       "0                4                  NaN   \n",
       "1                5                  NaN   \n",
       "2                5                  NaN   \n",
       "3                5                  NaN   \n",
       "4                5                  NaN   \n",
       "\n",
       "                                İncelenenYorumMesaji       İncelemeTarihi  \\\n",
       "0                                                NaN  2018-01-18 00:00:00   \n",
       "1                                                NaN  2018-03-10 00:00:00   \n",
       "2                                                NaN  2018-02-17 00:00:00   \n",
       "3              Recebi bem antes do prazo estipulado.  2017-04-21 00:00:00   \n",
       "4  Parabéns lojas lannister adorei comprar pela I...  2018-03-01 00:00:00   \n",
       "\n",
       "  review_answer_timestamp  \n",
       "0     2018-01-18 21:46:59  \n",
       "1     2018-03-11 03:05:13  \n",
       "2     2018-02-18 14:36:24  \n",
       "3     2017-04-21 22:02:06  \n",
       "4     2018-03-02 10:26:53  "
      ]
     },
     "execution_count": 285,
     "metadata": {},
     "output_type": "execute_result"
    }
   ],
   "source": [
    "df5.rename(columns={\"review_id\" :\"İncelenenNo\", \n",
    "                    \"order_id\":\"SiparisNo\",\n",
    "                    \"review_score\":\"İncelenenSayisi\",\n",
    "                    \"review_comment_title\":\"İncelenenYorumBaslik\",\n",
    "                    \"review_comment_message\":\"İncelenenYorumMesaji\",\n",
    "                    \"review_creation_date\":\"İncelemeTarihi\"\n",
    "                    }, inplace=True)\n",
    "df5.head()"
   ]
  },
  {
   "cell_type": "code",
   "execution_count": 286,
   "metadata": {},
   "outputs": [
    {
     "data": {
      "text/html": [
       "<div>\n",
       "<style scoped>\n",
       "    .dataframe tbody tr th:only-of-type {\n",
       "        vertical-align: middle;\n",
       "    }\n",
       "\n",
       "    .dataframe tbody tr th {\n",
       "        vertical-align: top;\n",
       "    }\n",
       "\n",
       "    .dataframe thead th {\n",
       "        text-align: right;\n",
       "    }\n",
       "</style>\n",
       "<table border=\"1\" class=\"dataframe\">\n",
       "  <thead>\n",
       "    <tr style=\"text-align: right;\">\n",
       "      <th></th>\n",
       "      <th>İncelenenNo</th>\n",
       "      <th>SiparisNo</th>\n",
       "      <th>İncelenenSayisi</th>\n",
       "      <th>İncelenenYorumBaslik</th>\n",
       "      <th>İncelenenYorumMesaji</th>\n",
       "      <th>İncelemeTarihi</th>\n",
       "      <th>review_answer_timestamp</th>\n",
       "    </tr>\n",
       "  </thead>\n",
       "  <tbody>\n",
       "    <tr>\n",
       "      <th>99219</th>\n",
       "      <td>574ed12dd733e5fa530cfd4bbf39d7c9</td>\n",
       "      <td>2a8c23fee101d4d5662fa670396eb8da</td>\n",
       "      <td>5</td>\n",
       "      <td>NaN</td>\n",
       "      <td>NaN</td>\n",
       "      <td>2018-07-07 00:00:00</td>\n",
       "      <td>2018-07-14 17:18:30</td>\n",
       "    </tr>\n",
       "    <tr>\n",
       "      <th>99220</th>\n",
       "      <td>f3897127253a9592a73be9bdfdf4ed7a</td>\n",
       "      <td>22ec9f0669f784db00fa86d035cf8602</td>\n",
       "      <td>5</td>\n",
       "      <td>NaN</td>\n",
       "      <td>NaN</td>\n",
       "      <td>2017-12-09 00:00:00</td>\n",
       "      <td>2017-12-11 20:06:42</td>\n",
       "    </tr>\n",
       "    <tr>\n",
       "      <th>99221</th>\n",
       "      <td>b3de70c89b1510c4cd3d0649fd302472</td>\n",
       "      <td>55d4004744368f5571d1f590031933e4</td>\n",
       "      <td>5</td>\n",
       "      <td>NaN</td>\n",
       "      <td>Excelente mochila, entrega super rápida. Super...</td>\n",
       "      <td>2018-03-22 00:00:00</td>\n",
       "      <td>2018-03-23 09:10:43</td>\n",
       "    </tr>\n",
       "    <tr>\n",
       "      <th>99222</th>\n",
       "      <td>1adeb9d84d72fe4e337617733eb85149</td>\n",
       "      <td>7725825d039fc1f0ceb7635e3f7d9206</td>\n",
       "      <td>4</td>\n",
       "      <td>NaN</td>\n",
       "      <td>NaN</td>\n",
       "      <td>2018-07-01 00:00:00</td>\n",
       "      <td>2018-07-02 12:59:13</td>\n",
       "    </tr>\n",
       "    <tr>\n",
       "      <th>99223</th>\n",
       "      <td>efe49f1d6f951dd88b51e6ccd4cc548f</td>\n",
       "      <td>90531360ecb1eec2a1fbb265a0db0508</td>\n",
       "      <td>1</td>\n",
       "      <td>NaN</td>\n",
       "      <td>meu produto chegou e ja tenho que devolver, po...</td>\n",
       "      <td>2017-07-03 00:00:00</td>\n",
       "      <td>2017-07-03 21:01:49</td>\n",
       "    </tr>\n",
       "  </tbody>\n",
       "</table>\n",
       "</div>"
      ],
      "text/plain": [
       "                            İncelenenNo                         SiparisNo  \\\n",
       "99219  574ed12dd733e5fa530cfd4bbf39d7c9  2a8c23fee101d4d5662fa670396eb8da   \n",
       "99220  f3897127253a9592a73be9bdfdf4ed7a  22ec9f0669f784db00fa86d035cf8602   \n",
       "99221  b3de70c89b1510c4cd3d0649fd302472  55d4004744368f5571d1f590031933e4   \n",
       "99222  1adeb9d84d72fe4e337617733eb85149  7725825d039fc1f0ceb7635e3f7d9206   \n",
       "99223  efe49f1d6f951dd88b51e6ccd4cc548f  90531360ecb1eec2a1fbb265a0db0508   \n",
       "\n",
       "       İncelenenSayisi İncelenenYorumBaslik  \\\n",
       "99219                5                  NaN   \n",
       "99220                5                  NaN   \n",
       "99221                5                  NaN   \n",
       "99222                4                  NaN   \n",
       "99223                1                  NaN   \n",
       "\n",
       "                                    İncelenenYorumMesaji       İncelemeTarihi  \\\n",
       "99219                                                NaN  2018-07-07 00:00:00   \n",
       "99220                                                NaN  2017-12-09 00:00:00   \n",
       "99221  Excelente mochila, entrega super rápida. Super...  2018-03-22 00:00:00   \n",
       "99222                                                NaN  2018-07-01 00:00:00   \n",
       "99223  meu produto chegou e ja tenho que devolver, po...  2017-07-03 00:00:00   \n",
       "\n",
       "      review_answer_timestamp  \n",
       "99219     2018-07-14 17:18:30  \n",
       "99220     2017-12-11 20:06:42  \n",
       "99221     2018-03-23 09:10:43  \n",
       "99222     2018-07-02 12:59:13  \n",
       "99223     2017-07-03 21:01:49  "
      ]
     },
     "execution_count": 286,
     "metadata": {},
     "output_type": "execute_result"
    }
   ],
   "source": [
    "df5.tail()"
   ]
  },
  {
   "cell_type": "code",
   "execution_count": 287,
   "metadata": {},
   "outputs": [
    {
     "name": "stdout",
     "output_type": "stream",
     "text": [
      "<class 'pandas.core.frame.DataFrame'>\n",
      "RangeIndex: 99224 entries, 0 to 99223\n",
      "Data columns (total 7 columns):\n",
      " #   Column                   Non-Null Count  Dtype \n",
      "---  ------                   --------------  ----- \n",
      " 0   İncelenenNo              99224 non-null  object\n",
      " 1   SiparisNo                99224 non-null  object\n",
      " 2   İncelenenSayisi          99224 non-null  int64 \n",
      " 3   İncelenenYorumBaslik     11568 non-null  object\n",
      " 4   İncelenenYorumMesaji     40977 non-null  object\n",
      " 5   İncelemeTarihi           99224 non-null  object\n",
      " 6   review_answer_timestamp  99224 non-null  object\n",
      "dtypes: int64(1), object(6)\n",
      "memory usage: 5.3+ MB\n"
     ]
    }
   ],
   "source": [
    "df5.info()"
   ]
  },
  {
   "cell_type": "code",
   "execution_count": 288,
   "metadata": {},
   "outputs": [
    {
     "data": {
      "text/plain": [
       "İncelenenNo                object\n",
       "SiparisNo                  object\n",
       "İncelenenSayisi             int64\n",
       "İncelenenYorumBaslik       object\n",
       "İncelenenYorumMesaji       object\n",
       "İncelemeTarihi             object\n",
       "review_answer_timestamp    object\n",
       "dtype: object"
      ]
     },
     "execution_count": 288,
     "metadata": {},
     "output_type": "execute_result"
    }
   ],
   "source": [
    "df5.dtypes"
   ]
  },
  {
   "cell_type": "code",
   "execution_count": 289,
   "metadata": {},
   "outputs": [
    {
     "data": {
      "text/plain": [
       "İncelenenNo                98410\n",
       "SiparisNo                  98673\n",
       "İncelenenSayisi                5\n",
       "İncelenenYorumBaslik        4527\n",
       "İncelenenYorumMesaji       36159\n",
       "İncelemeTarihi               636\n",
       "review_answer_timestamp    98248\n",
       "dtype: int64"
      ]
     },
     "execution_count": 289,
     "metadata": {},
     "output_type": "execute_result"
    }
   ],
   "source": [
    "df5.nunique()"
   ]
  },
  {
   "cell_type": "code",
   "execution_count": 290,
   "metadata": {},
   "outputs": [
    {
     "data": {
      "text/html": [
       "<div>\n",
       "<style scoped>\n",
       "    .dataframe tbody tr th:only-of-type {\n",
       "        vertical-align: middle;\n",
       "    }\n",
       "\n",
       "    .dataframe tbody tr th {\n",
       "        vertical-align: top;\n",
       "    }\n",
       "\n",
       "    .dataframe thead th {\n",
       "        text-align: right;\n",
       "    }\n",
       "</style>\n",
       "<table border=\"1\" class=\"dataframe\">\n",
       "  <thead>\n",
       "    <tr style=\"text-align: right;\">\n",
       "      <th></th>\n",
       "      <th>İncelenenNo</th>\n",
       "      <th>SiparisNo</th>\n",
       "      <th>İncelenenSayisi</th>\n",
       "      <th>İncelenenYorumBaslik</th>\n",
       "      <th>İncelenenYorumMesaji</th>\n",
       "      <th>İncelemeTarihi</th>\n",
       "      <th>review_answer_timestamp</th>\n",
       "    </tr>\n",
       "  </thead>\n",
       "  <tbody>\n",
       "    <tr>\n",
       "      <th>0</th>\n",
       "      <td>False</td>\n",
       "      <td>False</td>\n",
       "      <td>False</td>\n",
       "      <td>True</td>\n",
       "      <td>True</td>\n",
       "      <td>False</td>\n",
       "      <td>False</td>\n",
       "    </tr>\n",
       "    <tr>\n",
       "      <th>1</th>\n",
       "      <td>False</td>\n",
       "      <td>False</td>\n",
       "      <td>False</td>\n",
       "      <td>True</td>\n",
       "      <td>True</td>\n",
       "      <td>False</td>\n",
       "      <td>False</td>\n",
       "    </tr>\n",
       "    <tr>\n",
       "      <th>2</th>\n",
       "      <td>False</td>\n",
       "      <td>False</td>\n",
       "      <td>False</td>\n",
       "      <td>True</td>\n",
       "      <td>True</td>\n",
       "      <td>False</td>\n",
       "      <td>False</td>\n",
       "    </tr>\n",
       "    <tr>\n",
       "      <th>3</th>\n",
       "      <td>False</td>\n",
       "      <td>False</td>\n",
       "      <td>False</td>\n",
       "      <td>True</td>\n",
       "      <td>False</td>\n",
       "      <td>False</td>\n",
       "      <td>False</td>\n",
       "    </tr>\n",
       "    <tr>\n",
       "      <th>4</th>\n",
       "      <td>False</td>\n",
       "      <td>False</td>\n",
       "      <td>False</td>\n",
       "      <td>True</td>\n",
       "      <td>False</td>\n",
       "      <td>False</td>\n",
       "      <td>False</td>\n",
       "    </tr>\n",
       "    <tr>\n",
       "      <th>...</th>\n",
       "      <td>...</td>\n",
       "      <td>...</td>\n",
       "      <td>...</td>\n",
       "      <td>...</td>\n",
       "      <td>...</td>\n",
       "      <td>...</td>\n",
       "      <td>...</td>\n",
       "    </tr>\n",
       "    <tr>\n",
       "      <th>99219</th>\n",
       "      <td>False</td>\n",
       "      <td>False</td>\n",
       "      <td>False</td>\n",
       "      <td>True</td>\n",
       "      <td>True</td>\n",
       "      <td>False</td>\n",
       "      <td>False</td>\n",
       "    </tr>\n",
       "    <tr>\n",
       "      <th>99220</th>\n",
       "      <td>False</td>\n",
       "      <td>False</td>\n",
       "      <td>False</td>\n",
       "      <td>True</td>\n",
       "      <td>True</td>\n",
       "      <td>False</td>\n",
       "      <td>False</td>\n",
       "    </tr>\n",
       "    <tr>\n",
       "      <th>99221</th>\n",
       "      <td>False</td>\n",
       "      <td>False</td>\n",
       "      <td>False</td>\n",
       "      <td>True</td>\n",
       "      <td>False</td>\n",
       "      <td>False</td>\n",
       "      <td>False</td>\n",
       "    </tr>\n",
       "    <tr>\n",
       "      <th>99222</th>\n",
       "      <td>False</td>\n",
       "      <td>False</td>\n",
       "      <td>False</td>\n",
       "      <td>True</td>\n",
       "      <td>True</td>\n",
       "      <td>False</td>\n",
       "      <td>False</td>\n",
       "    </tr>\n",
       "    <tr>\n",
       "      <th>99223</th>\n",
       "      <td>False</td>\n",
       "      <td>False</td>\n",
       "      <td>False</td>\n",
       "      <td>True</td>\n",
       "      <td>False</td>\n",
       "      <td>False</td>\n",
       "      <td>False</td>\n",
       "    </tr>\n",
       "  </tbody>\n",
       "</table>\n",
       "<p>99224 rows × 7 columns</p>\n",
       "</div>"
      ],
      "text/plain": [
       "       İncelenenNo  SiparisNo  İncelenenSayisi  İncelenenYorumBaslik  \\\n",
       "0            False      False            False                  True   \n",
       "1            False      False            False                  True   \n",
       "2            False      False            False                  True   \n",
       "3            False      False            False                  True   \n",
       "4            False      False            False                  True   \n",
       "...            ...        ...              ...                   ...   \n",
       "99219        False      False            False                  True   \n",
       "99220        False      False            False                  True   \n",
       "99221        False      False            False                  True   \n",
       "99222        False      False            False                  True   \n",
       "99223        False      False            False                  True   \n",
       "\n",
       "       İncelenenYorumMesaji  İncelemeTarihi  review_answer_timestamp  \n",
       "0                      True           False                    False  \n",
       "1                      True           False                    False  \n",
       "2                      True           False                    False  \n",
       "3                     False           False                    False  \n",
       "4                     False           False                    False  \n",
       "...                     ...             ...                      ...  \n",
       "99219                  True           False                    False  \n",
       "99220                  True           False                    False  \n",
       "99221                 False           False                    False  \n",
       "99222                  True           False                    False  \n",
       "99223                 False           False                    False  \n",
       "\n",
       "[99224 rows x 7 columns]"
      ]
     },
     "execution_count": 290,
     "metadata": {},
     "output_type": "execute_result"
    }
   ],
   "source": [
    "df5.isnull() #reviev_comment_title ve review_comment_message verilerinde boşluklar bulunmakta. "
   ]
  },
  {
   "cell_type": "code",
   "execution_count": 291,
   "metadata": {},
   "outputs": [
    {
     "data": {
      "text/plain": [
       "İncelenenNo                    0\n",
       "SiparisNo                      0\n",
       "İncelenenSayisi                0\n",
       "İncelenenYorumBaslik       87656\n",
       "İncelenenYorumMesaji       58247\n",
       "İncelemeTarihi                 0\n",
       "review_answer_timestamp        0\n",
       "dtype: int64"
      ]
     },
     "execution_count": 291,
     "metadata": {},
     "output_type": "execute_result"
    }
   ],
   "source": [
    "pd.isnull(df5).sum() #df5 veri setinde kaç tane boşluk var bunu gördük. "
   ]
  },
  {
   "cell_type": "code",
   "execution_count": 292,
   "metadata": {},
   "outputs": [
    {
     "data": {
      "text/html": [
       "<div>\n",
       "<style scoped>\n",
       "    .dataframe tbody tr th:only-of-type {\n",
       "        vertical-align: middle;\n",
       "    }\n",
       "\n",
       "    .dataframe tbody tr th {\n",
       "        vertical-align: top;\n",
       "    }\n",
       "\n",
       "    .dataframe thead th {\n",
       "        text-align: right;\n",
       "    }\n",
       "</style>\n",
       "<table border=\"1\" class=\"dataframe\">\n",
       "  <thead>\n",
       "    <tr style=\"text-align: right;\">\n",
       "      <th></th>\n",
       "      <th>İncelenenNo</th>\n",
       "      <th>SiparisNo</th>\n",
       "      <th>İncelenenSayisi</th>\n",
       "      <th>İncelenenYorumMesaji</th>\n",
       "      <th>İncelemeTarihi</th>\n",
       "      <th>review_answer_timestamp</th>\n",
       "    </tr>\n",
       "  </thead>\n",
       "  <tbody>\n",
       "    <tr>\n",
       "      <th>0</th>\n",
       "      <td>7bc2406110b926393aa56f80a40eba40</td>\n",
       "      <td>73fc7af87114b39712e6da79b0a377eb</td>\n",
       "      <td>4</td>\n",
       "      <td>NaN</td>\n",
       "      <td>2018-01-18 00:00:00</td>\n",
       "      <td>2018-01-18 21:46:59</td>\n",
       "    </tr>\n",
       "    <tr>\n",
       "      <th>1</th>\n",
       "      <td>80e641a11e56f04c1ad469d5645fdfde</td>\n",
       "      <td>a548910a1c6147796b98fdf73dbeba33</td>\n",
       "      <td>5</td>\n",
       "      <td>NaN</td>\n",
       "      <td>2018-03-10 00:00:00</td>\n",
       "      <td>2018-03-11 03:05:13</td>\n",
       "    </tr>\n",
       "    <tr>\n",
       "      <th>2</th>\n",
       "      <td>228ce5500dc1d8e020d8d1322874b6f0</td>\n",
       "      <td>f9e4b658b201a9f2ecdecbb34bed034b</td>\n",
       "      <td>5</td>\n",
       "      <td>NaN</td>\n",
       "      <td>2018-02-17 00:00:00</td>\n",
       "      <td>2018-02-18 14:36:24</td>\n",
       "    </tr>\n",
       "    <tr>\n",
       "      <th>3</th>\n",
       "      <td>e64fb393e7b32834bb789ff8bb30750e</td>\n",
       "      <td>658677c97b385a9be170737859d3511b</td>\n",
       "      <td>5</td>\n",
       "      <td>Recebi bem antes do prazo estipulado.</td>\n",
       "      <td>2017-04-21 00:00:00</td>\n",
       "      <td>2017-04-21 22:02:06</td>\n",
       "    </tr>\n",
       "    <tr>\n",
       "      <th>4</th>\n",
       "      <td>f7c4243c7fe1938f181bec41a392bdeb</td>\n",
       "      <td>8e6bfb81e283fa7e4f11123a3fb894f1</td>\n",
       "      <td>5</td>\n",
       "      <td>Parabéns lojas lannister adorei comprar pela I...</td>\n",
       "      <td>2018-03-01 00:00:00</td>\n",
       "      <td>2018-03-02 10:26:53</td>\n",
       "    </tr>\n",
       "    <tr>\n",
       "      <th>...</th>\n",
       "      <td>...</td>\n",
       "      <td>...</td>\n",
       "      <td>...</td>\n",
       "      <td>...</td>\n",
       "      <td>...</td>\n",
       "      <td>...</td>\n",
       "    </tr>\n",
       "    <tr>\n",
       "      <th>99219</th>\n",
       "      <td>574ed12dd733e5fa530cfd4bbf39d7c9</td>\n",
       "      <td>2a8c23fee101d4d5662fa670396eb8da</td>\n",
       "      <td>5</td>\n",
       "      <td>NaN</td>\n",
       "      <td>2018-07-07 00:00:00</td>\n",
       "      <td>2018-07-14 17:18:30</td>\n",
       "    </tr>\n",
       "    <tr>\n",
       "      <th>99220</th>\n",
       "      <td>f3897127253a9592a73be9bdfdf4ed7a</td>\n",
       "      <td>22ec9f0669f784db00fa86d035cf8602</td>\n",
       "      <td>5</td>\n",
       "      <td>NaN</td>\n",
       "      <td>2017-12-09 00:00:00</td>\n",
       "      <td>2017-12-11 20:06:42</td>\n",
       "    </tr>\n",
       "    <tr>\n",
       "      <th>99221</th>\n",
       "      <td>b3de70c89b1510c4cd3d0649fd302472</td>\n",
       "      <td>55d4004744368f5571d1f590031933e4</td>\n",
       "      <td>5</td>\n",
       "      <td>Excelente mochila, entrega super rápida. Super...</td>\n",
       "      <td>2018-03-22 00:00:00</td>\n",
       "      <td>2018-03-23 09:10:43</td>\n",
       "    </tr>\n",
       "    <tr>\n",
       "      <th>99222</th>\n",
       "      <td>1adeb9d84d72fe4e337617733eb85149</td>\n",
       "      <td>7725825d039fc1f0ceb7635e3f7d9206</td>\n",
       "      <td>4</td>\n",
       "      <td>NaN</td>\n",
       "      <td>2018-07-01 00:00:00</td>\n",
       "      <td>2018-07-02 12:59:13</td>\n",
       "    </tr>\n",
       "    <tr>\n",
       "      <th>99223</th>\n",
       "      <td>efe49f1d6f951dd88b51e6ccd4cc548f</td>\n",
       "      <td>90531360ecb1eec2a1fbb265a0db0508</td>\n",
       "      <td>1</td>\n",
       "      <td>meu produto chegou e ja tenho que devolver, po...</td>\n",
       "      <td>2017-07-03 00:00:00</td>\n",
       "      <td>2017-07-03 21:01:49</td>\n",
       "    </tr>\n",
       "  </tbody>\n",
       "</table>\n",
       "<p>99224 rows × 6 columns</p>\n",
       "</div>"
      ],
      "text/plain": [
       "                            İncelenenNo                         SiparisNo  \\\n",
       "0      7bc2406110b926393aa56f80a40eba40  73fc7af87114b39712e6da79b0a377eb   \n",
       "1      80e641a11e56f04c1ad469d5645fdfde  a548910a1c6147796b98fdf73dbeba33   \n",
       "2      228ce5500dc1d8e020d8d1322874b6f0  f9e4b658b201a9f2ecdecbb34bed034b   \n",
       "3      e64fb393e7b32834bb789ff8bb30750e  658677c97b385a9be170737859d3511b   \n",
       "4      f7c4243c7fe1938f181bec41a392bdeb  8e6bfb81e283fa7e4f11123a3fb894f1   \n",
       "...                                 ...                               ...   \n",
       "99219  574ed12dd733e5fa530cfd4bbf39d7c9  2a8c23fee101d4d5662fa670396eb8da   \n",
       "99220  f3897127253a9592a73be9bdfdf4ed7a  22ec9f0669f784db00fa86d035cf8602   \n",
       "99221  b3de70c89b1510c4cd3d0649fd302472  55d4004744368f5571d1f590031933e4   \n",
       "99222  1adeb9d84d72fe4e337617733eb85149  7725825d039fc1f0ceb7635e3f7d9206   \n",
       "99223  efe49f1d6f951dd88b51e6ccd4cc548f  90531360ecb1eec2a1fbb265a0db0508   \n",
       "\n",
       "       İncelenenSayisi                               İncelenenYorumMesaji  \\\n",
       "0                    4                                                NaN   \n",
       "1                    5                                                NaN   \n",
       "2                    5                                                NaN   \n",
       "3                    5              Recebi bem antes do prazo estipulado.   \n",
       "4                    5  Parabéns lojas lannister adorei comprar pela I...   \n",
       "...                ...                                                ...   \n",
       "99219                5                                                NaN   \n",
       "99220                5                                                NaN   \n",
       "99221                5  Excelente mochila, entrega super rápida. Super...   \n",
       "99222                4                                                NaN   \n",
       "99223                1  meu produto chegou e ja tenho que devolver, po...   \n",
       "\n",
       "            İncelemeTarihi review_answer_timestamp  \n",
       "0      2018-01-18 00:00:00     2018-01-18 21:46:59  \n",
       "1      2018-03-10 00:00:00     2018-03-11 03:05:13  \n",
       "2      2018-02-17 00:00:00     2018-02-18 14:36:24  \n",
       "3      2017-04-21 00:00:00     2017-04-21 22:02:06  \n",
       "4      2018-03-01 00:00:00     2018-03-02 10:26:53  \n",
       "...                    ...                     ...  \n",
       "99219  2018-07-07 00:00:00     2018-07-14 17:18:30  \n",
       "99220  2017-12-09 00:00:00     2017-12-11 20:06:42  \n",
       "99221  2018-03-22 00:00:00     2018-03-23 09:10:43  \n",
       "99222  2018-07-01 00:00:00     2018-07-02 12:59:13  \n",
       "99223  2017-07-03 00:00:00     2017-07-03 21:01:49  \n",
       "\n",
       "[99224 rows x 6 columns]"
      ]
     },
     "execution_count": 292,
     "metadata": {},
     "output_type": "execute_result"
    }
   ],
   "source": [
    "tr = len(df5) * 0.4 # verilerin % 60 ı eksikse o sütunu kaldırır.\n",
    "df5.dropna(thresh = tr, axis = 1, inplace = True)\n",
    "df5"
   ]
  },
  {
   "cell_type": "code",
   "execution_count": 293,
   "metadata": {},
   "outputs": [
    {
     "data": {
      "text/plain": [
       "Index(['İncelenenNo', 'SiparisNo', 'İncelenenSayisi', 'İncelenenYorumMesaji',\n",
       "       'İncelemeTarihi', 'review_answer_timestamp'],\n",
       "      dtype='object')"
      ]
     },
     "execution_count": 293,
     "metadata": {},
     "output_type": "execute_result"
    }
   ],
   "source": [
    "df5.columns"
   ]
  },
  {
   "cell_type": "code",
   "execution_count": 294,
   "metadata": {},
   "outputs": [
    {
     "ename": "KeyError",
     "evalue": "['İncelenenYorumBaslik']",
     "output_type": "error",
     "traceback": [
      "\u001b[1;31m---------------------------------------------------------------------------\u001b[0m",
      "\u001b[1;31mKeyError\u001b[0m                                  Traceback (most recent call last)",
      "Cell \u001b[1;32mIn [294], line 1\u001b[0m\n\u001b[1;32m----> 1\u001b[0m df5\u001b[39m.\u001b[39;49mdropna(subset\u001b[39m=\u001b[39;49m[\u001b[39m\"\u001b[39;49m\u001b[39mİncelenenYorumBaslik\u001b[39;49m\u001b[39m\"\u001b[39;49m], axis\u001b[39m=\u001b[39;49m\u001b[39m0\u001b[39;49m, inplace\u001b[39m=\u001b[39;49m\u001b[39mTrue\u001b[39;49;00m) \u001b[39m#eksik değerlerimizi sildik.\u001b[39;00m\n\u001b[0;32m      2\u001b[0m df5\u001b[39m.\u001b[39mhead()\n",
      "File \u001b[1;32mc:\\Users\\BEYZA ASLAN\\AppData\\Local\\Programs\\Python\\Python310\\lib\\site-packages\\pandas\\util\\_decorators.py:331\u001b[0m, in \u001b[0;36mdeprecate_nonkeyword_arguments.<locals>.decorate.<locals>.wrapper\u001b[1;34m(*args, **kwargs)\u001b[0m\n\u001b[0;32m    325\u001b[0m \u001b[39mif\u001b[39;00m \u001b[39mlen\u001b[39m(args) \u001b[39m>\u001b[39m num_allow_args:\n\u001b[0;32m    326\u001b[0m     warnings\u001b[39m.\u001b[39mwarn(\n\u001b[0;32m    327\u001b[0m         msg\u001b[39m.\u001b[39mformat(arguments\u001b[39m=\u001b[39m_format_argument_list(allow_args)),\n\u001b[0;32m    328\u001b[0m         \u001b[39mFutureWarning\u001b[39;00m,\n\u001b[0;32m    329\u001b[0m         stacklevel\u001b[39m=\u001b[39mfind_stack_level(),\n\u001b[0;32m    330\u001b[0m     )\n\u001b[1;32m--> 331\u001b[0m \u001b[39mreturn\u001b[39;00m func(\u001b[39m*\u001b[39margs, \u001b[39m*\u001b[39m\u001b[39m*\u001b[39mkwargs)\n",
      "File \u001b[1;32mc:\\Users\\BEYZA ASLAN\\AppData\\Local\\Programs\\Python\\Python310\\lib\\site-packages\\pandas\\core\\frame.py:6550\u001b[0m, in \u001b[0;36mDataFrame.dropna\u001b[1;34m(self, axis, how, thresh, subset, inplace)\u001b[0m\n\u001b[0;32m   6548\u001b[0m     check \u001b[39m=\u001b[39m indices \u001b[39m==\u001b[39m \u001b[39m-\u001b[39m\u001b[39m1\u001b[39m\n\u001b[0;32m   6549\u001b[0m     \u001b[39mif\u001b[39;00m check\u001b[39m.\u001b[39many():\n\u001b[1;32m-> 6550\u001b[0m         \u001b[39mraise\u001b[39;00m \u001b[39mKeyError\u001b[39;00m(np\u001b[39m.\u001b[39marray(subset)[check]\u001b[39m.\u001b[39mtolist())\n\u001b[0;32m   6551\u001b[0m     agg_obj \u001b[39m=\u001b[39m \u001b[39mself\u001b[39m\u001b[39m.\u001b[39mtake(indices, axis\u001b[39m=\u001b[39magg_axis)\n\u001b[0;32m   6553\u001b[0m \u001b[39mif\u001b[39;00m thresh \u001b[39mis\u001b[39;00m \u001b[39mnot\u001b[39;00m no_default:\n",
      "\u001b[1;31mKeyError\u001b[0m: ['İncelenenYorumBaslik']"
     ]
    }
   ],
   "source": [
    "df5.dropna(subset=[\"İncelenenYorumBaslik\"], axis=0, inplace=True) #eksik değerlerimizi sildik.\n",
    "df5.head()"
   ]
  },
  {
   "cell_type": "code",
   "execution_count": null,
   "metadata": {},
   "outputs": [
    {
     "data": {
      "text/html": [
       "<div>\n",
       "<style scoped>\n",
       "    .dataframe tbody tr th:only-of-type {\n",
       "        vertical-align: middle;\n",
       "    }\n",
       "\n",
       "    .dataframe tbody tr th {\n",
       "        vertical-align: top;\n",
       "    }\n",
       "\n",
       "    .dataframe thead th {\n",
       "        text-align: right;\n",
       "    }\n",
       "</style>\n",
       "<table border=\"1\" class=\"dataframe\">\n",
       "  <thead>\n",
       "    <tr style=\"text-align: right;\">\n",
       "      <th></th>\n",
       "      <th>İncelenenNo</th>\n",
       "      <th>SiparisNo</th>\n",
       "      <th>İncelenenSayisi</th>\n",
       "      <th>İncelenenYorumBaslik</th>\n",
       "      <th>İncelenenYorumMesaji</th>\n",
       "      <th>İncelemeTarihi</th>\n",
       "      <th>review_answer_timestamp</th>\n",
       "    </tr>\n",
       "  </thead>\n",
       "  <tbody>\n",
       "    <tr>\n",
       "      <th>9</th>\n",
       "      <td>8670d52e15e00043ae7de4c01cc2fe06</td>\n",
       "      <td>b9bf720beb4ab3728760088589c62129</td>\n",
       "      <td>4</td>\n",
       "      <td>recomendo</td>\n",
       "      <td>aparelho eficiente. no site a marca do aparelh...</td>\n",
       "      <td>2018-05-22 00:00:00</td>\n",
       "      <td>2018-05-23 16:45:47</td>\n",
       "    </tr>\n",
       "    <tr>\n",
       "      <th>15</th>\n",
       "      <td>3948b09f7c818e2d86c9a546758b2335</td>\n",
       "      <td>e51478e7e277a83743b6f9991dbfa3fb</td>\n",
       "      <td>5</td>\n",
       "      <td>Super recomendo</td>\n",
       "      <td>Vendedor confiável, produto ok e entrega antes...</td>\n",
       "      <td>2018-05-23 00:00:00</td>\n",
       "      <td>2018-05-24 03:00:01</td>\n",
       "    </tr>\n",
       "    <tr>\n",
       "      <th>19</th>\n",
       "      <td>373cbeecea8286a2b66c97b1b157ec46</td>\n",
       "      <td>583174fbe37d3d5f0d6661be3aad1786</td>\n",
       "      <td>1</td>\n",
       "      <td>Não chegou meu produto</td>\n",
       "      <td>Péssimo</td>\n",
       "      <td>2018-08-15 00:00:00</td>\n",
       "      <td>2018-08-15 04:10:37</td>\n",
       "    </tr>\n",
       "    <tr>\n",
       "      <th>22</th>\n",
       "      <td>d21bbc789670eab777d27372ab9094cc</td>\n",
       "      <td>4fc44d78867142c627497b60a7e0228a</td>\n",
       "      <td>5</td>\n",
       "      <td>Ótimo</td>\n",
       "      <td>Loja nota 10</td>\n",
       "      <td>2018-07-10 00:00:00</td>\n",
       "      <td>2018-07-11 14:10:25</td>\n",
       "    </tr>\n",
       "    <tr>\n",
       "      <th>34</th>\n",
       "      <td>c92cdd7dd544a01aa35137f901669cdf</td>\n",
       "      <td>37e7875cdce5a9e5b3a692971f370151</td>\n",
       "      <td>4</td>\n",
       "      <td>Muito bom.</td>\n",
       "      <td>Recebi exatamente o que esperava. As demais en...</td>\n",
       "      <td>2018-06-07 00:00:00</td>\n",
       "      <td>2018-06-09 18:44:02</td>\n",
       "    </tr>\n",
       "  </tbody>\n",
       "</table>\n",
       "</div>"
      ],
      "text/plain": [
       "                         İncelenenNo                         SiparisNo  \\\n",
       "9   8670d52e15e00043ae7de4c01cc2fe06  b9bf720beb4ab3728760088589c62129   \n",
       "15  3948b09f7c818e2d86c9a546758b2335  e51478e7e277a83743b6f9991dbfa3fb   \n",
       "19  373cbeecea8286a2b66c97b1b157ec46  583174fbe37d3d5f0d6661be3aad1786   \n",
       "22  d21bbc789670eab777d27372ab9094cc  4fc44d78867142c627497b60a7e0228a   \n",
       "34  c92cdd7dd544a01aa35137f901669cdf  37e7875cdce5a9e5b3a692971f370151   \n",
       "\n",
       "    İncelenenSayisi     İncelenenYorumBaslik  \\\n",
       "9                 4                recomendo   \n",
       "15                5          Super recomendo   \n",
       "19                1  Não chegou meu produto    \n",
       "22                5                    Ótimo   \n",
       "34                4               Muito bom.   \n",
       "\n",
       "                                 İncelenenYorumMesaji       İncelemeTarihi  \\\n",
       "9   aparelho eficiente. no site a marca do aparelh...  2018-05-22 00:00:00   \n",
       "15  Vendedor confiável, produto ok e entrega antes...  2018-05-23 00:00:00   \n",
       "19                                            Péssimo  2018-08-15 00:00:00   \n",
       "22                                       Loja nota 10  2018-07-10 00:00:00   \n",
       "34  Recebi exatamente o que esperava. As demais en...  2018-06-07 00:00:00   \n",
       "\n",
       "   review_answer_timestamp  \n",
       "9      2018-05-23 16:45:47  \n",
       "15     2018-05-24 03:00:01  \n",
       "19     2018-08-15 04:10:37  \n",
       "22     2018-07-11 14:10:25  \n",
       "34     2018-06-09 18:44:02  "
      ]
     },
     "execution_count": 57,
     "metadata": {},
     "output_type": "execute_result"
    }
   ],
   "source": [
    "df5.dropna(subset=[\"İncelenenYorumMesaji\"], axis=0, inplace=True) #eksik değerlerimizi sildik.\n",
    "df5.head()"
   ]
  },
  {
   "cell_type": "code",
   "execution_count": null,
   "metadata": {},
   "outputs": [
    {
     "data": {
      "text/plain": [
       "İncelenenNo                0\n",
       "SiparisNo                  0\n",
       "İncelenenSayisi            0\n",
       "İncelenenYorumBaslik       0\n",
       "İncelenenYorumMesaji       0\n",
       "İncelemeTarihi             0\n",
       "review_answer_timestamp    0\n",
       "dtype: int64"
      ]
     },
     "execution_count": 58,
     "metadata": {},
     "output_type": "execute_result"
    }
   ],
   "source": [
    "df5.isnull().sum()"
   ]
  },
  {
   "cell_type": "markdown",
   "metadata": {},
   "source": [
    "-----------------------------------------------**orders_dataset**--------------------------------------------------"
   ]
  },
  {
   "cell_type": "code",
   "execution_count": null,
   "metadata": {},
   "outputs": [
    {
     "data": {
      "text/html": [
       "<div>\n",
       "<style scoped>\n",
       "    .dataframe tbody tr th:only-of-type {\n",
       "        vertical-align: middle;\n",
       "    }\n",
       "\n",
       "    .dataframe tbody tr th {\n",
       "        vertical-align: top;\n",
       "    }\n",
       "\n",
       "    .dataframe thead th {\n",
       "        text-align: right;\n",
       "    }\n",
       "</style>\n",
       "<table border=\"1\" class=\"dataframe\">\n",
       "  <thead>\n",
       "    <tr style=\"text-align: right;\">\n",
       "      <th></th>\n",
       "      <th>order_id</th>\n",
       "      <th>customer_id</th>\n",
       "      <th>order_status</th>\n",
       "      <th>order_purchase_timestamp</th>\n",
       "      <th>order_approved_at</th>\n",
       "      <th>order_delivered_carrier_date</th>\n",
       "      <th>order_delivered_customer_date</th>\n",
       "      <th>order_estimated_delivery_date</th>\n",
       "    </tr>\n",
       "  </thead>\n",
       "  <tbody>\n",
       "    <tr>\n",
       "      <th>0</th>\n",
       "      <td>e481f51cbdc54678b7cc49136f2d6af7</td>\n",
       "      <td>9ef432eb6251297304e76186b10a928d</td>\n",
       "      <td>delivered</td>\n",
       "      <td>2017-10-02 10:56:33</td>\n",
       "      <td>2017-10-02 11:07:15</td>\n",
       "      <td>2017-10-04 19:55:00</td>\n",
       "      <td>2017-10-10 21:25:13</td>\n",
       "      <td>2017-10-18 00:00:00</td>\n",
       "    </tr>\n",
       "    <tr>\n",
       "      <th>1</th>\n",
       "      <td>53cdb2fc8bc7dce0b6741e2150273451</td>\n",
       "      <td>b0830fb4747a6c6d20dea0b8c802d7ef</td>\n",
       "      <td>delivered</td>\n",
       "      <td>2018-07-24 20:41:37</td>\n",
       "      <td>2018-07-26 03:24:27</td>\n",
       "      <td>2018-07-26 14:31:00</td>\n",
       "      <td>2018-08-07 15:27:45</td>\n",
       "      <td>2018-08-13 00:00:00</td>\n",
       "    </tr>\n",
       "    <tr>\n",
       "      <th>2</th>\n",
       "      <td>47770eb9100c2d0c44946d9cf07ec65d</td>\n",
       "      <td>41ce2a54c0b03bf3443c3d931a367089</td>\n",
       "      <td>delivered</td>\n",
       "      <td>2018-08-08 08:38:49</td>\n",
       "      <td>2018-08-08 08:55:23</td>\n",
       "      <td>2018-08-08 13:50:00</td>\n",
       "      <td>2018-08-17 18:06:29</td>\n",
       "      <td>2018-09-04 00:00:00</td>\n",
       "    </tr>\n",
       "    <tr>\n",
       "      <th>3</th>\n",
       "      <td>949d5b44dbf5de918fe9c16f97b45f8a</td>\n",
       "      <td>f88197465ea7920adcdbec7375364d82</td>\n",
       "      <td>delivered</td>\n",
       "      <td>2017-11-18 19:28:06</td>\n",
       "      <td>2017-11-18 19:45:59</td>\n",
       "      <td>2017-11-22 13:39:59</td>\n",
       "      <td>2017-12-02 00:28:42</td>\n",
       "      <td>2017-12-15 00:00:00</td>\n",
       "    </tr>\n",
       "    <tr>\n",
       "      <th>4</th>\n",
       "      <td>ad21c59c0840e6cb83a9ceb5573f8159</td>\n",
       "      <td>8ab97904e6daea8866dbdbc4fb7aad2c</td>\n",
       "      <td>delivered</td>\n",
       "      <td>2018-02-13 21:18:39</td>\n",
       "      <td>2018-02-13 22:20:29</td>\n",
       "      <td>2018-02-14 19:46:34</td>\n",
       "      <td>2018-02-16 18:17:02</td>\n",
       "      <td>2018-02-26 00:00:00</td>\n",
       "    </tr>\n",
       "  </tbody>\n",
       "</table>\n",
       "</div>"
      ],
      "text/plain": [
       "                           order_id                       customer_id  \\\n",
       "0  e481f51cbdc54678b7cc49136f2d6af7  9ef432eb6251297304e76186b10a928d   \n",
       "1  53cdb2fc8bc7dce0b6741e2150273451  b0830fb4747a6c6d20dea0b8c802d7ef   \n",
       "2  47770eb9100c2d0c44946d9cf07ec65d  41ce2a54c0b03bf3443c3d931a367089   \n",
       "3  949d5b44dbf5de918fe9c16f97b45f8a  f88197465ea7920adcdbec7375364d82   \n",
       "4  ad21c59c0840e6cb83a9ceb5573f8159  8ab97904e6daea8866dbdbc4fb7aad2c   \n",
       "\n",
       "  order_status order_purchase_timestamp    order_approved_at  \\\n",
       "0    delivered      2017-10-02 10:56:33  2017-10-02 11:07:15   \n",
       "1    delivered      2018-07-24 20:41:37  2018-07-26 03:24:27   \n",
       "2    delivered      2018-08-08 08:38:49  2018-08-08 08:55:23   \n",
       "3    delivered      2017-11-18 19:28:06  2017-11-18 19:45:59   \n",
       "4    delivered      2018-02-13 21:18:39  2018-02-13 22:20:29   \n",
       "\n",
       "  order_delivered_carrier_date order_delivered_customer_date  \\\n",
       "0          2017-10-04 19:55:00           2017-10-10 21:25:13   \n",
       "1          2018-07-26 14:31:00           2018-08-07 15:27:45   \n",
       "2          2018-08-08 13:50:00           2018-08-17 18:06:29   \n",
       "3          2017-11-22 13:39:59           2017-12-02 00:28:42   \n",
       "4          2018-02-14 19:46:34           2018-02-16 18:17:02   \n",
       "\n",
       "  order_estimated_delivery_date  \n",
       "0           2017-10-18 00:00:00  \n",
       "1           2018-08-13 00:00:00  \n",
       "2           2018-09-04 00:00:00  \n",
       "3           2017-12-15 00:00:00  \n",
       "4           2018-02-26 00:00:00  "
      ]
     },
     "execution_count": 162,
     "metadata": {},
     "output_type": "execute_result"
    }
   ],
   "source": [
    "df6 = pd.read_csv(\"orders_dataset.csv\", engine='python') #veri setimizi çektik.\n",
    "df6.head()"
   ]
  },
  {
   "cell_type": "code",
   "execution_count": null,
   "metadata": {},
   "outputs": [],
   "source": [
    "df6.rename(columns={\"order_id\" :\"SiparisNo\", \n",
    "                    \"customer_id\":\"MusteriNo\",\n",
    "                    \"order_status\":\"SiparisDurumu\",\n",
    "                    \"order_purchase_timestamp\":\"SiparisAlinmaZamani\",\n",
    "                    \"order_approved_at\":\"SiparisKabulZamani\",\n",
    "                    \"order_delivered_carrier_date\":\"SiparisKargoZamani\",\n",
    "                    \"order_delivered_customer_date\":\"SiparisMusteriTeslimZamani\",\n",
    "                    \"order_estimated_delivery_date\":\"TahminiSiparisMusteriTeslimTarihi\"\n",
    "                    }, inplace=True)"
   ]
  },
  {
   "cell_type": "code",
   "execution_count": null,
   "metadata": {},
   "outputs": [
    {
     "name": "stdout",
     "output_type": "stream",
     "text": [
      "<class 'pandas.core.frame.DataFrame'>\n",
      "RangeIndex: 99441 entries, 0 to 99440\n",
      "Data columns (total 8 columns):\n",
      " #   Column                             Non-Null Count  Dtype \n",
      "---  ------                             --------------  ----- \n",
      " 0   SiparisNo                          99441 non-null  object\n",
      " 1   MusteriNo                          99441 non-null  object\n",
      " 2   SiparisDurumu                      99441 non-null  object\n",
      " 3   SiparisAlinmaZamani                99441 non-null  object\n",
      " 4   SiparisKabulZamani                 99281 non-null  object\n",
      " 5   SiparisKargoZamani                 97658 non-null  object\n",
      " 6   SiparisMusteriTeslimZamani         96476 non-null  object\n",
      " 7   TahminiSiparisMusteriTeslimTarihi  99441 non-null  object\n",
      "dtypes: object(8)\n",
      "memory usage: 6.1+ MB\n"
     ]
    }
   ],
   "source": [
    "df6.info()"
   ]
  },
  {
   "cell_type": "code",
   "execution_count": null,
   "metadata": {},
   "outputs": [
    {
     "data": {
      "text/plain": [
       "SiparisNo                               0\n",
       "MusteriNo                               0\n",
       "SiparisDurumu                           0\n",
       "SiparisAlinmaZamani                     0\n",
       "SiparisKabulZamani                    160\n",
       "SiparisKargoZamani                   1783\n",
       "SiparisMusteriTeslimZamani           2965\n",
       "TahminiSiparisMusteriTeslimTarihi       0\n",
       "dtype: int64"
      ]
     },
     "execution_count": 165,
     "metadata": {},
     "output_type": "execute_result"
    }
   ],
   "source": [
    "df6.isnull().sum()"
   ]
  },
  {
   "cell_type": "code",
   "execution_count": null,
   "metadata": {},
   "outputs": [],
   "source": [
    "df6.SiparisKabulZamani.fillna(0, inplace=True)"
   ]
  },
  {
   "cell_type": "code",
   "execution_count": null,
   "metadata": {},
   "outputs": [],
   "source": [
    "df6.SiparisKargoZamani.fillna(0, inplace=True)"
   ]
  },
  {
   "cell_type": "code",
   "execution_count": null,
   "metadata": {},
   "outputs": [],
   "source": [
    "df6.SiparisMusteriTeslimZamani.fillna(0, inplace=True)"
   ]
  },
  {
   "cell_type": "code",
   "execution_count": null,
   "metadata": {},
   "outputs": [
    {
     "data": {
      "text/plain": [
       "SiparisNo                            0\n",
       "MusteriNo                            0\n",
       "SiparisDurumu                        0\n",
       "SiparisAlinmaZamani                  0\n",
       "SiparisKabulZamani                   0\n",
       "SiparisKargoZamani                   0\n",
       "SiparisMusteriTeslimZamani           0\n",
       "TahminiSiparisMusteriTeslimTarihi    0\n",
       "dtype: int64"
      ]
     },
     "execution_count": 169,
     "metadata": {},
     "output_type": "execute_result"
    }
   ],
   "source": [
    "df6.isnull().sum()"
   ]
  },
  {
   "cell_type": "code",
   "execution_count": null,
   "metadata": {},
   "outputs": [
    {
     "name": "stdout",
     "output_type": "stream",
     "text": [
      "0\n"
     ]
    }
   ],
   "source": [
    "print(sum(df6.duplicated(keep=\"first\"))) #dublicate veri kontrolü"
   ]
  },
  {
   "cell_type": "markdown",
   "metadata": {},
   "source": [
    "--------------------------------------**product_category_name.csv**------------------------------------------------"
   ]
  },
  {
   "cell_type": "code",
   "execution_count": null,
   "metadata": {},
   "outputs": [
    {
     "data": {
      "text/html": [
       "<div>\n",
       "<style scoped>\n",
       "    .dataframe tbody tr th:only-of-type {\n",
       "        vertical-align: middle;\n",
       "    }\n",
       "\n",
       "    .dataframe tbody tr th {\n",
       "        vertical-align: top;\n",
       "    }\n",
       "\n",
       "    .dataframe thead th {\n",
       "        text-align: right;\n",
       "    }\n",
       "</style>\n",
       "<table border=\"1\" class=\"dataframe\">\n",
       "  <thead>\n",
       "    <tr style=\"text-align: right;\">\n",
       "      <th></th>\n",
       "      <th>product_category_name</th>\n",
       "      <th>product_category_name_english</th>\n",
       "    </tr>\n",
       "  </thead>\n",
       "  <tbody>\n",
       "    <tr>\n",
       "      <th>0</th>\n",
       "      <td>beleza_saude</td>\n",
       "      <td>health_beauty</td>\n",
       "    </tr>\n",
       "    <tr>\n",
       "      <th>1</th>\n",
       "      <td>informatica_acessorios</td>\n",
       "      <td>computers_accessories</td>\n",
       "    </tr>\n",
       "    <tr>\n",
       "      <th>2</th>\n",
       "      <td>automotivo</td>\n",
       "      <td>auto</td>\n",
       "    </tr>\n",
       "    <tr>\n",
       "      <th>3</th>\n",
       "      <td>cama_mesa_banho</td>\n",
       "      <td>bed_bath_table</td>\n",
       "    </tr>\n",
       "    <tr>\n",
       "      <th>4</th>\n",
       "      <td>moveis_decoracao</td>\n",
       "      <td>furniture_decor</td>\n",
       "    </tr>\n",
       "  </tbody>\n",
       "</table>\n",
       "</div>"
      ],
      "text/plain": [
       "    product_category_name product_category_name_english\n",
       "0            beleza_saude                 health_beauty\n",
       "1  informatica_acessorios         computers_accessories\n",
       "2              automotivo                          auto\n",
       "3         cama_mesa_banho                bed_bath_table\n",
       "4        moveis_decoracao               furniture_decor"
      ]
     },
     "execution_count": 171,
     "metadata": {},
     "output_type": "execute_result"
    }
   ],
   "source": [
    "df7 = pd.read_csv(\"product_category_name_translation.csv\", engine='python') #veri setimizi çektik.\n",
    "df7.head()"
   ]
  },
  {
   "cell_type": "code",
   "execution_count": null,
   "metadata": {},
   "outputs": [
    {
     "data": {
      "text/html": [
       "<div>\n",
       "<style scoped>\n",
       "    .dataframe tbody tr th:only-of-type {\n",
       "        vertical-align: middle;\n",
       "    }\n",
       "\n",
       "    .dataframe tbody tr th {\n",
       "        vertical-align: top;\n",
       "    }\n",
       "\n",
       "    .dataframe thead th {\n",
       "        text-align: right;\n",
       "    }\n",
       "</style>\n",
       "<table border=\"1\" class=\"dataframe\">\n",
       "  <thead>\n",
       "    <tr style=\"text-align: right;\">\n",
       "      <th></th>\n",
       "      <th>UrunKategoriİsmi</th>\n",
       "      <th>UrunKategori_İngilizceİsmi</th>\n",
       "    </tr>\n",
       "  </thead>\n",
       "  <tbody>\n",
       "    <tr>\n",
       "      <th>0</th>\n",
       "      <td>beleza_saude</td>\n",
       "      <td>health_beauty</td>\n",
       "    </tr>\n",
       "    <tr>\n",
       "      <th>1</th>\n",
       "      <td>informatica_acessorios</td>\n",
       "      <td>computers_accessories</td>\n",
       "    </tr>\n",
       "    <tr>\n",
       "      <th>2</th>\n",
       "      <td>automotivo</td>\n",
       "      <td>auto</td>\n",
       "    </tr>\n",
       "    <tr>\n",
       "      <th>3</th>\n",
       "      <td>cama_mesa_banho</td>\n",
       "      <td>bed_bath_table</td>\n",
       "    </tr>\n",
       "    <tr>\n",
       "      <th>4</th>\n",
       "      <td>moveis_decoracao</td>\n",
       "      <td>furniture_decor</td>\n",
       "    </tr>\n",
       "  </tbody>\n",
       "</table>\n",
       "</div>"
      ],
      "text/plain": [
       "         UrunKategoriİsmi UrunKategori_İngilizceİsmi\n",
       "0            beleza_saude              health_beauty\n",
       "1  informatica_acessorios      computers_accessories\n",
       "2              automotivo                       auto\n",
       "3         cama_mesa_banho             bed_bath_table\n",
       "4        moveis_decoracao            furniture_decor"
      ]
     },
     "execution_count": 172,
     "metadata": {},
     "output_type": "execute_result"
    }
   ],
   "source": [
    "df7.rename(columns={ \"product_category_name\":\"UrunKategoriİsmi\",\n",
    "                    \"product_category_name_english\":\"UrunKategori_İngilizceİsmi\" }, inplace=True)\n",
    "df7.head()"
   ]
  },
  {
   "cell_type": "markdown",
   "metadata": {},
   "source": [
    "--------------------------------------------------**products_dataset_csv**---------------------------------------------"
   ]
  },
  {
   "cell_type": "code",
   "execution_count": null,
   "metadata": {},
   "outputs": [
    {
     "data": {
      "text/html": [
       "<div>\n",
       "<style scoped>\n",
       "    .dataframe tbody tr th:only-of-type {\n",
       "        vertical-align: middle;\n",
       "    }\n",
       "\n",
       "    .dataframe tbody tr th {\n",
       "        vertical-align: top;\n",
       "    }\n",
       "\n",
       "    .dataframe thead th {\n",
       "        text-align: right;\n",
       "    }\n",
       "</style>\n",
       "<table border=\"1\" class=\"dataframe\">\n",
       "  <thead>\n",
       "    <tr style=\"text-align: right;\">\n",
       "      <th></th>\n",
       "      <th>product_id</th>\n",
       "      <th>product_category_name</th>\n",
       "      <th>product_name_lenght</th>\n",
       "      <th>product_description_lenght</th>\n",
       "      <th>product_photos_qty</th>\n",
       "      <th>product_weight_g</th>\n",
       "      <th>product_length_cm</th>\n",
       "      <th>product_height_cm</th>\n",
       "      <th>product_width_cm</th>\n",
       "    </tr>\n",
       "  </thead>\n",
       "  <tbody>\n",
       "    <tr>\n",
       "      <th>0</th>\n",
       "      <td>1e9e8ef04dbcff4541ed26657ea517e5</td>\n",
       "      <td>perfumaria</td>\n",
       "      <td>40.0</td>\n",
       "      <td>287.0</td>\n",
       "      <td>1.0</td>\n",
       "      <td>225.0</td>\n",
       "      <td>16.0</td>\n",
       "      <td>10.0</td>\n",
       "      <td>14.0</td>\n",
       "    </tr>\n",
       "    <tr>\n",
       "      <th>1</th>\n",
       "      <td>3aa071139cb16b67ca9e5dea641aaa2f</td>\n",
       "      <td>artes</td>\n",
       "      <td>44.0</td>\n",
       "      <td>276.0</td>\n",
       "      <td>1.0</td>\n",
       "      <td>1000.0</td>\n",
       "      <td>30.0</td>\n",
       "      <td>18.0</td>\n",
       "      <td>20.0</td>\n",
       "    </tr>\n",
       "    <tr>\n",
       "      <th>2</th>\n",
       "      <td>96bd76ec8810374ed1b65e291975717f</td>\n",
       "      <td>esporte_lazer</td>\n",
       "      <td>46.0</td>\n",
       "      <td>250.0</td>\n",
       "      <td>1.0</td>\n",
       "      <td>154.0</td>\n",
       "      <td>18.0</td>\n",
       "      <td>9.0</td>\n",
       "      <td>15.0</td>\n",
       "    </tr>\n",
       "    <tr>\n",
       "      <th>3</th>\n",
       "      <td>cef67bcfe19066a932b7673e239eb23d</td>\n",
       "      <td>bebes</td>\n",
       "      <td>27.0</td>\n",
       "      <td>261.0</td>\n",
       "      <td>1.0</td>\n",
       "      <td>371.0</td>\n",
       "      <td>26.0</td>\n",
       "      <td>4.0</td>\n",
       "      <td>26.0</td>\n",
       "    </tr>\n",
       "    <tr>\n",
       "      <th>4</th>\n",
       "      <td>9dc1a7de274444849c219cff195d0b71</td>\n",
       "      <td>utilidades_domesticas</td>\n",
       "      <td>37.0</td>\n",
       "      <td>402.0</td>\n",
       "      <td>4.0</td>\n",
       "      <td>625.0</td>\n",
       "      <td>20.0</td>\n",
       "      <td>17.0</td>\n",
       "      <td>13.0</td>\n",
       "    </tr>\n",
       "  </tbody>\n",
       "</table>\n",
       "</div>"
      ],
      "text/plain": [
       "                         product_id  product_category_name  \\\n",
       "0  1e9e8ef04dbcff4541ed26657ea517e5             perfumaria   \n",
       "1  3aa071139cb16b67ca9e5dea641aaa2f                  artes   \n",
       "2  96bd76ec8810374ed1b65e291975717f          esporte_lazer   \n",
       "3  cef67bcfe19066a932b7673e239eb23d                  bebes   \n",
       "4  9dc1a7de274444849c219cff195d0b71  utilidades_domesticas   \n",
       "\n",
       "   product_name_lenght  product_description_lenght  product_photos_qty  \\\n",
       "0                 40.0                       287.0                 1.0   \n",
       "1                 44.0                       276.0                 1.0   \n",
       "2                 46.0                       250.0                 1.0   \n",
       "3                 27.0                       261.0                 1.0   \n",
       "4                 37.0                       402.0                 4.0   \n",
       "\n",
       "   product_weight_g  product_length_cm  product_height_cm  product_width_cm  \n",
       "0             225.0               16.0               10.0              14.0  \n",
       "1            1000.0               30.0               18.0              20.0  \n",
       "2             154.0               18.0                9.0              15.0  \n",
       "3             371.0               26.0                4.0              26.0  \n",
       "4             625.0               20.0               17.0              13.0  "
      ]
     },
     "execution_count": 173,
     "metadata": {},
     "output_type": "execute_result"
    }
   ],
   "source": [
    "df8 = pd.read_csv(\"products_dataset.csv\", engine='python') #veri setimizi çektik.\n",
    "df8.head()"
   ]
  },
  {
   "cell_type": "code",
   "execution_count": null,
   "metadata": {},
   "outputs": [
    {
     "data": {
      "text/html": [
       "<div>\n",
       "<style scoped>\n",
       "    .dataframe tbody tr th:only-of-type {\n",
       "        vertical-align: middle;\n",
       "    }\n",
       "\n",
       "    .dataframe tbody tr th {\n",
       "        vertical-align: top;\n",
       "    }\n",
       "\n",
       "    .dataframe thead th {\n",
       "        text-align: right;\n",
       "    }\n",
       "</style>\n",
       "<table border=\"1\" class=\"dataframe\">\n",
       "  <thead>\n",
       "    <tr style=\"text-align: right;\">\n",
       "      <th></th>\n",
       "      <th>UrunNo</th>\n",
       "      <th>UrunKategoriİsmi</th>\n",
       "      <th>UrunİsmiUzunlugu</th>\n",
       "      <th>UrunTanımıUzunlugu</th>\n",
       "      <th>UrunFotografKalitesi</th>\n",
       "      <th>UrunAgirligi(gram)</th>\n",
       "      <th>UrunUzunlugu(cm)</th>\n",
       "      <th>UrunYuksekligi(cm)</th>\n",
       "      <th>UrunGenisligi(cm)</th>\n",
       "    </tr>\n",
       "  </thead>\n",
       "  <tbody>\n",
       "    <tr>\n",
       "      <th>0</th>\n",
       "      <td>1e9e8ef04dbcff4541ed26657ea517e5</td>\n",
       "      <td>perfumaria</td>\n",
       "      <td>40.0</td>\n",
       "      <td>287.0</td>\n",
       "      <td>1.0</td>\n",
       "      <td>225.0</td>\n",
       "      <td>16.0</td>\n",
       "      <td>10.0</td>\n",
       "      <td>14.0</td>\n",
       "    </tr>\n",
       "    <tr>\n",
       "      <th>1</th>\n",
       "      <td>3aa071139cb16b67ca9e5dea641aaa2f</td>\n",
       "      <td>artes</td>\n",
       "      <td>44.0</td>\n",
       "      <td>276.0</td>\n",
       "      <td>1.0</td>\n",
       "      <td>1000.0</td>\n",
       "      <td>30.0</td>\n",
       "      <td>18.0</td>\n",
       "      <td>20.0</td>\n",
       "    </tr>\n",
       "    <tr>\n",
       "      <th>2</th>\n",
       "      <td>96bd76ec8810374ed1b65e291975717f</td>\n",
       "      <td>esporte_lazer</td>\n",
       "      <td>46.0</td>\n",
       "      <td>250.0</td>\n",
       "      <td>1.0</td>\n",
       "      <td>154.0</td>\n",
       "      <td>18.0</td>\n",
       "      <td>9.0</td>\n",
       "      <td>15.0</td>\n",
       "    </tr>\n",
       "    <tr>\n",
       "      <th>3</th>\n",
       "      <td>cef67bcfe19066a932b7673e239eb23d</td>\n",
       "      <td>bebes</td>\n",
       "      <td>27.0</td>\n",
       "      <td>261.0</td>\n",
       "      <td>1.0</td>\n",
       "      <td>371.0</td>\n",
       "      <td>26.0</td>\n",
       "      <td>4.0</td>\n",
       "      <td>26.0</td>\n",
       "    </tr>\n",
       "    <tr>\n",
       "      <th>4</th>\n",
       "      <td>9dc1a7de274444849c219cff195d0b71</td>\n",
       "      <td>utilidades_domesticas</td>\n",
       "      <td>37.0</td>\n",
       "      <td>402.0</td>\n",
       "      <td>4.0</td>\n",
       "      <td>625.0</td>\n",
       "      <td>20.0</td>\n",
       "      <td>17.0</td>\n",
       "      <td>13.0</td>\n",
       "    </tr>\n",
       "  </tbody>\n",
       "</table>\n",
       "</div>"
      ],
      "text/plain": [
       "                             UrunNo       UrunKategoriİsmi  UrunİsmiUzunlugu  \\\n",
       "0  1e9e8ef04dbcff4541ed26657ea517e5             perfumaria              40.0   \n",
       "1  3aa071139cb16b67ca9e5dea641aaa2f                  artes              44.0   \n",
       "2  96bd76ec8810374ed1b65e291975717f          esporte_lazer              46.0   \n",
       "3  cef67bcfe19066a932b7673e239eb23d                  bebes              27.0   \n",
       "4  9dc1a7de274444849c219cff195d0b71  utilidades_domesticas              37.0   \n",
       "\n",
       "   UrunTanımıUzunlugu  UrunFotografKalitesi  UrunAgirligi(gram)  \\\n",
       "0               287.0                   1.0               225.0   \n",
       "1               276.0                   1.0              1000.0   \n",
       "2               250.0                   1.0               154.0   \n",
       "3               261.0                   1.0               371.0   \n",
       "4               402.0                   4.0               625.0   \n",
       "\n",
       "   UrunUzunlugu(cm)  UrunYuksekligi(cm)  UrunGenisligi(cm)  \n",
       "0              16.0                10.0               14.0  \n",
       "1              30.0                18.0               20.0  \n",
       "2              18.0                 9.0               15.0  \n",
       "3              26.0                 4.0               26.0  \n",
       "4              20.0                17.0               13.0  "
      ]
     },
     "execution_count": 174,
     "metadata": {},
     "output_type": "execute_result"
    }
   ],
   "source": [
    "df8.rename(columns={\"product_id\" :\"UrunNo\", \n",
    "                    \"product_category_name\":\"UrunKategoriİsmi\",\n",
    "                    \"product_name_lenght\":\"UrunİsmiUzunlugu\",\n",
    "                    \"product_description_lenght\":\"UrunTanımıUzunlugu\",\n",
    "                    \"product_photos_qty\":\"UrunFotografKalitesi\",\n",
    "                    \"product_weight_g\":\"UrunAgirligi(gram)\",\n",
    "                    \"product_length_cm\":\"UrunUzunlugu(cm)\",\n",
    "                    \"product_height_cm\":\"UrunYuksekligi(cm)\",\n",
    "                    \"product_width_cm\":\"UrunGenisligi(cm)\"}, inplace=True)\n",
    "df8.head()"
   ]
  },
  {
   "cell_type": "code",
   "execution_count": null,
   "metadata": {},
   "outputs": [
    {
     "name": "stdout",
     "output_type": "stream",
     "text": [
      "<class 'pandas.core.frame.DataFrame'>\n",
      "RangeIndex: 32951 entries, 0 to 32950\n",
      "Data columns (total 9 columns):\n",
      " #   Column                Non-Null Count  Dtype  \n",
      "---  ------                --------------  -----  \n",
      " 0   UrunNo                32951 non-null  object \n",
      " 1   UrunKategoriİsmi      32341 non-null  object \n",
      " 2   UrunİsmiUzunlugu      32341 non-null  float64\n",
      " 3   UrunTanımıUzunlugu    32341 non-null  float64\n",
      " 4   UrunFotografKalitesi  32341 non-null  float64\n",
      " 5   UrunAgirligi(gram)    32949 non-null  float64\n",
      " 6   UrunUzunlugu(cm)      32949 non-null  float64\n",
      " 7   UrunYuksekligi(cm)    32949 non-null  float64\n",
      " 8   UrunGenisligi(cm)     32949 non-null  float64\n",
      "dtypes: float64(7), object(2)\n",
      "memory usage: 2.3+ MB\n"
     ]
    }
   ],
   "source": [
    "df8.info()"
   ]
  },
  {
   "cell_type": "code",
   "execution_count": null,
   "metadata": {},
   "outputs": [
    {
     "data": {
      "text/plain": [
       "UrunNo                    0\n",
       "UrunKategoriİsmi        610\n",
       "UrunİsmiUzunlugu        610\n",
       "UrunTanımıUzunlugu      610\n",
       "UrunFotografKalitesi    610\n",
       "UrunAgirligi(gram)        2\n",
       "UrunUzunlugu(cm)          2\n",
       "UrunYuksekligi(cm)        2\n",
       "UrunGenisligi(cm)         2\n",
       "dtype: int64"
      ]
     },
     "execution_count": 176,
     "metadata": {},
     "output_type": "execute_result"
    }
   ],
   "source": [
    "df8.isnull().sum()"
   ]
  },
  {
   "cell_type": "code",
   "execution_count": null,
   "metadata": {},
   "outputs": [
    {
     "data": {
      "text/plain": [
       "UrunNo                  0\n",
       "UrunKategoriİsmi        0\n",
       "UrunİsmiUzunlugu        0\n",
       "UrunTanımıUzunlugu      0\n",
       "UrunFotografKalitesi    0\n",
       "UrunAgirligi(gram)      0\n",
       "UrunUzunlugu(cm)        0\n",
       "UrunYuksekligi(cm)      0\n",
       "UrunGenisligi(cm)       0\n",
       "dtype: int64"
      ]
     },
     "execution_count": 177,
     "metadata": {},
     "output_type": "execute_result"
    }
   ],
   "source": [
    "df8.dropna(subset=[\"UrunKategoriİsmi\"], axis=0, inplace=True) #eksik değerlerimizi sildik.\n",
    "df8.dropna(subset=[\"UrunİsmiUzunlugu\"], axis=0, inplace=True) #eksik değerlerimizi sildik.\n",
    "df8.dropna(subset=[\"UrunTanımıUzunlugu\"], axis=0, inplace=True) #eksik değerlerimizi sildik.\n",
    "df8.dropna(subset=[\"UrunFotografKalitesi\"], axis=0, inplace=True) #eksik değerlerimizi sildik.\n",
    "df8.dropna(subset=[\"UrunAgirligi(gram)\"], axis=0, inplace=True) #eksik değerlerimizi sildik.\n",
    "df8.dropna(subset=[\"UrunUzunlugu(cm)\"], axis=0, inplace=True) #eksik değerlerimizi sildik.\n",
    "df8.dropna(subset=[\"UrunYuksekligi(cm)\"], axis=0, inplace=True) #eksik değerlerimizi sildik.\n",
    "df8.dropna(subset=[\"UrunGenisligi(cm)\"], axis=0, inplace=True) #eksik değerlerimizi sildik.\n",
    "\n",
    "df8.isnull().sum()"
   ]
  },
  {
   "cell_type": "code",
   "execution_count": null,
   "metadata": {},
   "outputs": [
    {
     "name": "stdout",
     "output_type": "stream",
     "text": [
      "0\n"
     ]
    }
   ],
   "source": [
    "print(sum(df8.duplicated(keep=\"first\"))) #dublicate veri \n"
   ]
  },
  {
   "cell_type": "code",
   "execution_count": null,
   "metadata": {},
   "outputs": [
    {
     "data": {
      "text/html": [
       "<div>\n",
       "<style scoped>\n",
       "    .dataframe tbody tr th:only-of-type {\n",
       "        vertical-align: middle;\n",
       "    }\n",
       "\n",
       "    .dataframe tbody tr th {\n",
       "        vertical-align: top;\n",
       "    }\n",
       "\n",
       "    .dataframe thead th {\n",
       "        text-align: right;\n",
       "    }\n",
       "</style>\n",
       "<table border=\"1\" class=\"dataframe\">\n",
       "  <thead>\n",
       "    <tr style=\"text-align: right;\">\n",
       "      <th></th>\n",
       "      <th>UrunNo</th>\n",
       "      <th>UrunKategoriİsmi</th>\n",
       "      <th>UrunİsmiUzunlugu</th>\n",
       "      <th>UrunTanımıUzunlugu</th>\n",
       "      <th>UrunFotografKalitesi</th>\n",
       "      <th>UrunAgirligi(gram)</th>\n",
       "      <th>UrunUzunlugu(cm)</th>\n",
       "      <th>UrunYuksekligi(cm)</th>\n",
       "      <th>UrunGenisligi(cm)</th>\n",
       "    </tr>\n",
       "  </thead>\n",
       "  <tbody>\n",
       "    <tr>\n",
       "      <th>0</th>\n",
       "      <td>1e9e8ef04dbcff4541ed26657ea517e5</td>\n",
       "      <td>perfumaria</td>\n",
       "      <td>40.0</td>\n",
       "      <td>287.0</td>\n",
       "      <td>1.0</td>\n",
       "      <td>225.0</td>\n",
       "      <td>16.0</td>\n",
       "      <td>10.0</td>\n",
       "      <td>14.0</td>\n",
       "    </tr>\n",
       "    <tr>\n",
       "      <th>2</th>\n",
       "      <td>96bd76ec8810374ed1b65e291975717f</td>\n",
       "      <td>esporte_lazer</td>\n",
       "      <td>46.0</td>\n",
       "      <td>250.0</td>\n",
       "      <td>1.0</td>\n",
       "      <td>154.0</td>\n",
       "      <td>18.0</td>\n",
       "      <td>9.0</td>\n",
       "      <td>15.0</td>\n",
       "    </tr>\n",
       "    <tr>\n",
       "      <th>3</th>\n",
       "      <td>cef67bcfe19066a932b7673e239eb23d</td>\n",
       "      <td>bebes</td>\n",
       "      <td>27.0</td>\n",
       "      <td>261.0</td>\n",
       "      <td>1.0</td>\n",
       "      <td>371.0</td>\n",
       "      <td>26.0</td>\n",
       "      <td>4.0</td>\n",
       "      <td>26.0</td>\n",
       "    </tr>\n",
       "    <tr>\n",
       "      <th>5</th>\n",
       "      <td>41d3672d4792049fa1779bb35283ed13</td>\n",
       "      <td>instrumentos_musicais</td>\n",
       "      <td>60.0</td>\n",
       "      <td>745.0</td>\n",
       "      <td>1.0</td>\n",
       "      <td>200.0</td>\n",
       "      <td>38.0</td>\n",
       "      <td>5.0</td>\n",
       "      <td>11.0</td>\n",
       "    </tr>\n",
       "    <tr>\n",
       "      <th>8</th>\n",
       "      <td>37cc742be07708b53a98702e77a21a02</td>\n",
       "      <td>eletrodomesticos</td>\n",
       "      <td>57.0</td>\n",
       "      <td>163.0</td>\n",
       "      <td>1.0</td>\n",
       "      <td>400.0</td>\n",
       "      <td>27.0</td>\n",
       "      <td>13.0</td>\n",
       "      <td>17.0</td>\n",
       "    </tr>\n",
       "    <tr>\n",
       "      <th>...</th>\n",
       "      <td>...</td>\n",
       "      <td>...</td>\n",
       "      <td>...</td>\n",
       "      <td>...</td>\n",
       "      <td>...</td>\n",
       "      <td>...</td>\n",
       "      <td>...</td>\n",
       "      <td>...</td>\n",
       "      <td>...</td>\n",
       "    </tr>\n",
       "    <tr>\n",
       "      <th>32936</th>\n",
       "      <td>4e1d2ef2974c85d82582edfe594a4f57</td>\n",
       "      <td>esporte_lazer</td>\n",
       "      <td>43.0</td>\n",
       "      <td>191.0</td>\n",
       "      <td>4.0</td>\n",
       "      <td>300.0</td>\n",
       "      <td>25.0</td>\n",
       "      <td>10.0</td>\n",
       "      <td>20.0</td>\n",
       "    </tr>\n",
       "    <tr>\n",
       "      <th>32937</th>\n",
       "      <td>d218a47759ef0d1db44044934909b88b</td>\n",
       "      <td>telefonia</td>\n",
       "      <td>50.0</td>\n",
       "      <td>778.0</td>\n",
       "      <td>1.0</td>\n",
       "      <td>350.0</td>\n",
       "      <td>17.0</td>\n",
       "      <td>11.0</td>\n",
       "      <td>11.0</td>\n",
       "    </tr>\n",
       "    <tr>\n",
       "      <th>32939</th>\n",
       "      <td>4508e088c4a07e0ad64f6fa3751e314a</td>\n",
       "      <td>esporte_lazer</td>\n",
       "      <td>45.0</td>\n",
       "      <td>1931.0</td>\n",
       "      <td>1.0</td>\n",
       "      <td>330.0</td>\n",
       "      <td>24.0</td>\n",
       "      <td>20.0</td>\n",
       "      <td>16.0</td>\n",
       "    </tr>\n",
       "    <tr>\n",
       "      <th>32944</th>\n",
       "      <td>1a14237ecc2fe3772b55c8d4e11ccb35</td>\n",
       "      <td>moveis_decoracao</td>\n",
       "      <td>58.0</td>\n",
       "      <td>1405.0</td>\n",
       "      <td>3.0</td>\n",
       "      <td>150.0</td>\n",
       "      <td>35.0</td>\n",
       "      <td>2.0</td>\n",
       "      <td>25.0</td>\n",
       "    </tr>\n",
       "    <tr>\n",
       "      <th>32945</th>\n",
       "      <td>c4e71b64511b959455e2107fe7859020</td>\n",
       "      <td>utilidades_domesticas</td>\n",
       "      <td>59.0</td>\n",
       "      <td>1371.0</td>\n",
       "      <td>2.0</td>\n",
       "      <td>200.0</td>\n",
       "      <td>18.0</td>\n",
       "      <td>15.0</td>\n",
       "      <td>15.0</td>\n",
       "    </tr>\n",
       "  </tbody>\n",
       "</table>\n",
       "<p>12223 rows × 9 columns</p>\n",
       "</div>"
      ],
      "text/plain": [
       "                                 UrunNo       UrunKategoriİsmi  \\\n",
       "0      1e9e8ef04dbcff4541ed26657ea517e5             perfumaria   \n",
       "2      96bd76ec8810374ed1b65e291975717f          esporte_lazer   \n",
       "3      cef67bcfe19066a932b7673e239eb23d                  bebes   \n",
       "5      41d3672d4792049fa1779bb35283ed13  instrumentos_musicais   \n",
       "8      37cc742be07708b53a98702e77a21a02       eletrodomesticos   \n",
       "...                                 ...                    ...   \n",
       "32936  4e1d2ef2974c85d82582edfe594a4f57          esporte_lazer   \n",
       "32937  d218a47759ef0d1db44044934909b88b              telefonia   \n",
       "32939  4508e088c4a07e0ad64f6fa3751e314a          esporte_lazer   \n",
       "32944  1a14237ecc2fe3772b55c8d4e11ccb35       moveis_decoracao   \n",
       "32945  c4e71b64511b959455e2107fe7859020  utilidades_domesticas   \n",
       "\n",
       "       UrunİsmiUzunlugu  UrunTanımıUzunlugu  UrunFotografKalitesi  \\\n",
       "0                  40.0               287.0                   1.0   \n",
       "2                  46.0               250.0                   1.0   \n",
       "3                  27.0               261.0                   1.0   \n",
       "5                  60.0               745.0                   1.0   \n",
       "8                  57.0               163.0                   1.0   \n",
       "...                 ...                 ...                   ...   \n",
       "32936              43.0               191.0                   4.0   \n",
       "32937              50.0               778.0                   1.0   \n",
       "32939              45.0              1931.0                   1.0   \n",
       "32944              58.0              1405.0                   3.0   \n",
       "32945              59.0              1371.0                   2.0   \n",
       "\n",
       "       UrunAgirligi(gram)  UrunUzunlugu(cm)  UrunYuksekligi(cm)  \\\n",
       "0                   225.0              16.0                10.0   \n",
       "2                   154.0              18.0                 9.0   \n",
       "3                   371.0              26.0                 4.0   \n",
       "5                   200.0              38.0                 5.0   \n",
       "8                   400.0              27.0                13.0   \n",
       "...                   ...               ...                 ...   \n",
       "32936               300.0              25.0                10.0   \n",
       "32937               350.0              17.0                11.0   \n",
       "32939               330.0              24.0                20.0   \n",
       "32944               150.0              35.0                 2.0   \n",
       "32945               200.0              18.0                15.0   \n",
       "\n",
       "       UrunGenisligi(cm)  \n",
       "0                   14.0  \n",
       "2                   15.0  \n",
       "3                   26.0  \n",
       "5                   11.0  \n",
       "8                   17.0  \n",
       "...                  ...  \n",
       "32936               20.0  \n",
       "32937               11.0  \n",
       "32939               16.0  \n",
       "32944               25.0  \n",
       "32945               15.0  \n",
       "\n",
       "[12223 rows x 9 columns]"
      ]
     },
     "execution_count": 178,
     "metadata": {},
     "output_type": "execute_result"
    }
   ],
   "source": [
    "df8[df8[\"UrunAgirligi(gram)\"] < 500] #ürün ağırlığı 500 gr dan küçük olan ürünler filtrelendi."
   ]
  },
  {
   "cell_type": "code",
   "execution_count": null,
   "metadata": {},
   "outputs": [
    {
     "data": {
      "text/html": [
       "<div>\n",
       "<style scoped>\n",
       "    .dataframe tbody tr th:only-of-type {\n",
       "        vertical-align: middle;\n",
       "    }\n",
       "\n",
       "    .dataframe tbody tr th {\n",
       "        vertical-align: top;\n",
       "    }\n",
       "\n",
       "    .dataframe thead th {\n",
       "        text-align: right;\n",
       "    }\n",
       "</style>\n",
       "<table border=\"1\" class=\"dataframe\">\n",
       "  <thead>\n",
       "    <tr style=\"text-align: right;\">\n",
       "      <th></th>\n",
       "      <th>UrunNo</th>\n",
       "      <th>UrunKategoriİsmi</th>\n",
       "      <th>UrunİsmiUzunlugu</th>\n",
       "      <th>UrunTanımıUzunlugu</th>\n",
       "      <th>UrunFotografKalitesi</th>\n",
       "      <th>UrunAgirligi(gram)</th>\n",
       "      <th>UrunUzunlugu(cm)</th>\n",
       "      <th>UrunYuksekligi(cm)</th>\n",
       "      <th>UrunGenisligi(cm)</th>\n",
       "    </tr>\n",
       "  </thead>\n",
       "  <tbody>\n",
       "    <tr>\n",
       "      <th>3</th>\n",
       "      <td>cef67bcfe19066a932b7673e239eb23d</td>\n",
       "      <td>bebes</td>\n",
       "      <td>27.0</td>\n",
       "      <td>261.0</td>\n",
       "      <td>1.0</td>\n",
       "      <td>371.0</td>\n",
       "      <td>26.0</td>\n",
       "      <td>4.0</td>\n",
       "      <td>26.0</td>\n",
       "    </tr>\n",
       "    <tr>\n",
       "      <th>11</th>\n",
       "      <td>03b63c5fc16691530586ae020c345514</td>\n",
       "      <td>bebes</td>\n",
       "      <td>49.0</td>\n",
       "      <td>728.0</td>\n",
       "      <td>4.0</td>\n",
       "      <td>7150.0</td>\n",
       "      <td>50.0</td>\n",
       "      <td>19.0</td>\n",
       "      <td>45.0</td>\n",
       "    </tr>\n",
       "    <tr>\n",
       "      <th>23</th>\n",
       "      <td>8b41fbc2b984a12030090112324d1bc4</td>\n",
       "      <td>bebes</td>\n",
       "      <td>55.0</td>\n",
       "      <td>1627.0</td>\n",
       "      <td>1.0</td>\n",
       "      <td>500.0</td>\n",
       "      <td>20.0</td>\n",
       "      <td>13.0</td>\n",
       "      <td>13.0</td>\n",
       "    </tr>\n",
       "    <tr>\n",
       "      <th>35</th>\n",
       "      <td>5370b82a213393979691c98074265584</td>\n",
       "      <td>bebes</td>\n",
       "      <td>52.0</td>\n",
       "      <td>708.0</td>\n",
       "      <td>9.0</td>\n",
       "      <td>7950.0</td>\n",
       "      <td>33.0</td>\n",
       "      <td>30.0</td>\n",
       "      <td>44.0</td>\n",
       "    </tr>\n",
       "    <tr>\n",
       "      <th>43</th>\n",
       "      <td>b864b103180d5a6a3f830e67f93e8735</td>\n",
       "      <td>bebes</td>\n",
       "      <td>47.0</td>\n",
       "      <td>980.0</td>\n",
       "      <td>4.0</td>\n",
       "      <td>600.0</td>\n",
       "      <td>70.0</td>\n",
       "      <td>11.0</td>\n",
       "      <td>11.0</td>\n",
       "    </tr>\n",
       "    <tr>\n",
       "      <th>...</th>\n",
       "      <td>...</td>\n",
       "      <td>...</td>\n",
       "      <td>...</td>\n",
       "      <td>...</td>\n",
       "      <td>...</td>\n",
       "      <td>...</td>\n",
       "      <td>...</td>\n",
       "      <td>...</td>\n",
       "      <td>...</td>\n",
       "    </tr>\n",
       "    <tr>\n",
       "      <th>32823</th>\n",
       "      <td>cba32576375902a87170bedaed045b71</td>\n",
       "      <td>bebes</td>\n",
       "      <td>58.0</td>\n",
       "      <td>1882.0</td>\n",
       "      <td>4.0</td>\n",
       "      <td>11467.0</td>\n",
       "      <td>35.0</td>\n",
       "      <td>57.0</td>\n",
       "      <td>52.0</td>\n",
       "    </tr>\n",
       "    <tr>\n",
       "      <th>32851</th>\n",
       "      <td>026311ea0b72ef8c80ebf91efd36b499</td>\n",
       "      <td>bebes</td>\n",
       "      <td>52.0</td>\n",
       "      <td>708.0</td>\n",
       "      <td>1.0</td>\n",
       "      <td>300.0</td>\n",
       "      <td>18.0</td>\n",
       "      <td>8.0</td>\n",
       "      <td>24.0</td>\n",
       "    </tr>\n",
       "    <tr>\n",
       "      <th>32853</th>\n",
       "      <td>34c84b2e246f5904a5b3597b00240ea2</td>\n",
       "      <td>bebes</td>\n",
       "      <td>55.0</td>\n",
       "      <td>1636.0</td>\n",
       "      <td>1.0</td>\n",
       "      <td>600.0</td>\n",
       "      <td>20.0</td>\n",
       "      <td>13.0</td>\n",
       "      <td>13.0</td>\n",
       "    </tr>\n",
       "    <tr>\n",
       "      <th>32935</th>\n",
       "      <td>d4484cc239fbd0ac671ab04d931edc66</td>\n",
       "      <td>bebes</td>\n",
       "      <td>42.0</td>\n",
       "      <td>414.0</td>\n",
       "      <td>2.0</td>\n",
       "      <td>150.0</td>\n",
       "      <td>23.0</td>\n",
       "      <td>15.0</td>\n",
       "      <td>15.0</td>\n",
       "    </tr>\n",
       "    <tr>\n",
       "      <th>32941</th>\n",
       "      <td>6ec96c91757fad0aecafc0ee7f262dcc</td>\n",
       "      <td>bebes</td>\n",
       "      <td>62.0</td>\n",
       "      <td>1417.0</td>\n",
       "      <td>1.0</td>\n",
       "      <td>9550.0</td>\n",
       "      <td>36.0</td>\n",
       "      <td>35.0</td>\n",
       "      <td>35.0</td>\n",
       "    </tr>\n",
       "  </tbody>\n",
       "</table>\n",
       "<p>918 rows × 9 columns</p>\n",
       "</div>"
      ],
      "text/plain": [
       "                                 UrunNo UrunKategoriİsmi  UrunİsmiUzunlugu  \\\n",
       "3      cef67bcfe19066a932b7673e239eb23d            bebes              27.0   \n",
       "11     03b63c5fc16691530586ae020c345514            bebes              49.0   \n",
       "23     8b41fbc2b984a12030090112324d1bc4            bebes              55.0   \n",
       "35     5370b82a213393979691c98074265584            bebes              52.0   \n",
       "43     b864b103180d5a6a3f830e67f93e8735            bebes              47.0   \n",
       "...                                 ...              ...               ...   \n",
       "32823  cba32576375902a87170bedaed045b71            bebes              58.0   \n",
       "32851  026311ea0b72ef8c80ebf91efd36b499            bebes              52.0   \n",
       "32853  34c84b2e246f5904a5b3597b00240ea2            bebes              55.0   \n",
       "32935  d4484cc239fbd0ac671ab04d931edc66            bebes              42.0   \n",
       "32941  6ec96c91757fad0aecafc0ee7f262dcc            bebes              62.0   \n",
       "\n",
       "       UrunTanımıUzunlugu  UrunFotografKalitesi  UrunAgirligi(gram)  \\\n",
       "3                   261.0                   1.0               371.0   \n",
       "11                  728.0                   4.0              7150.0   \n",
       "23                 1627.0                   1.0               500.0   \n",
       "35                  708.0                   9.0              7950.0   \n",
       "43                  980.0                   4.0               600.0   \n",
       "...                   ...                   ...                 ...   \n",
       "32823              1882.0                   4.0             11467.0   \n",
       "32851               708.0                   1.0               300.0   \n",
       "32853              1636.0                   1.0               600.0   \n",
       "32935               414.0                   2.0               150.0   \n",
       "32941              1417.0                   1.0              9550.0   \n",
       "\n",
       "       UrunUzunlugu(cm)  UrunYuksekligi(cm)  UrunGenisligi(cm)  \n",
       "3                  26.0                 4.0               26.0  \n",
       "11                 50.0                19.0               45.0  \n",
       "23                 20.0                13.0               13.0  \n",
       "35                 33.0                30.0               44.0  \n",
       "43                 70.0                11.0               11.0  \n",
       "...                 ...                 ...                ...  \n",
       "32823              35.0                57.0               52.0  \n",
       "32851              18.0                 8.0               24.0  \n",
       "32853              20.0                13.0               13.0  \n",
       "32935              23.0                15.0               15.0  \n",
       "32941              36.0                35.0               35.0  \n",
       "\n",
       "[918 rows x 9 columns]"
      ]
     },
     "execution_count": 185,
     "metadata": {},
     "output_type": "execute_result"
    }
   ],
   "source": [
    "df8[df8[\"UrunKategoriİsmi\"] == \"bebes\"]"
   ]
  },
  {
   "cell_type": "code",
   "execution_count": null,
   "metadata": {},
   "outputs": [
    {
     "data": {
      "text/plain": [
       "23.208596165739024"
      ]
     },
     "execution_count": 180,
     "metadata": {},
     "output_type": "execute_result"
    }
   ],
   "source": [
    "\n",
    "df8[\"UrunGenisligi(cm)\"].mean() #ürünlerin ortalama genişliği "
   ]
  },
  {
   "cell_type": "code",
   "execution_count": null,
   "metadata": {},
   "outputs": [
    {
     "data": {
      "text/plain": [
       "30.854545454545455"
      ]
     },
     "execution_count": 181,
     "metadata": {},
     "output_type": "execute_result"
    }
   ],
   "source": [
    "\n",
    "df8[\"UrunUzunlugu(cm)\"].mean() #ürünlerin ortalama uzunluğu"
   ]
  },
  {
   "cell_type": "code",
   "execution_count": null,
   "metadata": {},
   "outputs": [
    {
     "name": "stderr",
     "output_type": "stream",
     "text": [
      "c:\\Users\\BEYZA ASLAN\\AppData\\Local\\Programs\\Python\\Python310\\lib\\site-packages\\seaborn\\_oldcore.py:1599: UserWarning: Vertical orientation ignored with only `x` specified.\n",
      "  warnings.warn(single_var_warning.format(\"Vertical\", \"x\"))\n"
     ]
    },
    {
     "data": {
      "text/plain": [
       "<AxesSubplot: xlabel='UrunAgirligi(gram)'>"
      ]
     },
     "execution_count": 183,
     "metadata": {},
     "output_type": "execute_result"
    },
    {
     "data": {
      "image/png": "[encoded data removed]",
      "text/plain": [
       "<Figure size 640x480 with 1 Axes>"
      ]
     },
     "metadata": {},
     "output_type": "display_data"
    }
   ],
   "source": [
    "sns.boxplot(x = df8[\"UrunAgirligi(gram)\"], orient = \"v\") #aykırı değer tespiti"
   ]
  },
  {
   "cell_type": "code",
   "execution_count": null,
   "metadata": {},
   "outputs": [
    {
     "data": {
      "text/plain": [
       "UrunNo                            UrunKategoriİsmi           \n",
       "00066f42aeeb9f3007548bb9d3f33c38  perfumaria                     1\n",
       "00088930e925c41fd95ebfe695fd2655  automotivo                     1\n",
       "0009406fd7479715e4bef61dd91f2462  cama_mesa_banho                1\n",
       "000b8f95fcb9e0096488278317764d19  utilidades_domesticas          1\n",
       "000d9be29b5207b54e86aa1b1ac54872  relogios_presentes             1\n",
       "                                                                ..\n",
       "fff6177642830a9a94a0f2cba5e476d1  cool_stuff                     1\n",
       "fff81cc3158d2725c0655ab9ba0f712c  beleza_saude                   1\n",
       "fff9553ac224cec9d15d49f5a263411f  fashion_bolsas_e_acessorios    1\n",
       "fffdb2d0ec8d6a61f0a0a0db3f25b441  informatica_acessorios         1\n",
       "fffe9eeff12fcbd74a2f2b007dde0c58  brinquedos                     1\n",
       "Name: UrunKategoriİsmi, Length: 32341, dtype: int64"
      ]
     },
     "execution_count": 138,
     "metadata": {},
     "output_type": "execute_result"
    }
   ],
   "source": [
    "df8.groupby(\"UrunNo\")[\"UrunKategoriİsmi\"].value_counts() \n"
   ]
  },
  {
   "cell_type": "code",
   "execution_count": null,
   "metadata": {},
   "outputs": [
    {
     "data": {
      "text/plain": [
       "UrunKategoriİsmi\n",
       "agro_industria_e_comercio      74\n",
       "alimentos                      82\n",
       "alimentos_bebidas             104\n",
       "artes                          55\n",
       "artes_e_artesanato             19\n",
       "                             ... \n",
       "sinalizacao_e_seguranca        93\n",
       "tablets_impressao_imagem        9\n",
       "telefonia                    1134\n",
       "telefonia_fixa                116\n",
       "utilidades_domesticas        2335\n",
       "Length: 73, dtype: int64"
      ]
     },
     "execution_count": 139,
     "metadata": {},
     "output_type": "execute_result"
    }
   ],
   "source": [
    "df8.groupby(\"UrunKategoriİsmi\").size()"
   ]
  },
  {
   "cell_type": "markdown",
   "metadata": {},
   "source": [
    "-----------------------------------------------**sellers_dataset**-----------------------------------------------------"
   ]
  },
  {
   "cell_type": "code",
   "execution_count": null,
   "metadata": {},
   "outputs": [
    {
     "data": {
      "text/html": [
       "<div>\n",
       "<style scoped>\n",
       "    .dataframe tbody tr th:only-of-type {\n",
       "        vertical-align: middle;\n",
       "    }\n",
       "\n",
       "    .dataframe tbody tr th {\n",
       "        vertical-align: top;\n",
       "    }\n",
       "\n",
       "    .dataframe thead th {\n",
       "        text-align: right;\n",
       "    }\n",
       "</style>\n",
       "<table border=\"1\" class=\"dataframe\">\n",
       "  <thead>\n",
       "    <tr style=\"text-align: right;\">\n",
       "      <th></th>\n",
       "      <th>seller_id</th>\n",
       "      <th>seller_zip_code_prefix</th>\n",
       "      <th>seller_city</th>\n",
       "      <th>seller_state</th>\n",
       "    </tr>\n",
       "  </thead>\n",
       "  <tbody>\n",
       "    <tr>\n",
       "      <th>0</th>\n",
       "      <td>3442f8959a84dea7ee197c632cb2df15</td>\n",
       "      <td>13023</td>\n",
       "      <td>campinas</td>\n",
       "      <td>SP</td>\n",
       "    </tr>\n",
       "    <tr>\n",
       "      <th>1</th>\n",
       "      <td>d1b65fc7debc3361ea86b5f14c68d2e2</td>\n",
       "      <td>13844</td>\n",
       "      <td>mogi guacu</td>\n",
       "      <td>SP</td>\n",
       "    </tr>\n",
       "    <tr>\n",
       "      <th>2</th>\n",
       "      <td>ce3ad9de960102d0677a81f5d0bb7b2d</td>\n",
       "      <td>20031</td>\n",
       "      <td>rio de janeiro</td>\n",
       "      <td>RJ</td>\n",
       "    </tr>\n",
       "    <tr>\n",
       "      <th>3</th>\n",
       "      <td>c0f3eea2e14555b6faeea3dd58c1b1c3</td>\n",
       "      <td>4195</td>\n",
       "      <td>sao paulo</td>\n",
       "      <td>SP</td>\n",
       "    </tr>\n",
       "    <tr>\n",
       "      <th>4</th>\n",
       "      <td>51a04a8a6bdcb23deccc82b0b80742cf</td>\n",
       "      <td>12914</td>\n",
       "      <td>braganca paulista</td>\n",
       "      <td>SP</td>\n",
       "    </tr>\n",
       "  </tbody>\n",
       "</table>\n",
       "</div>"
      ],
      "text/plain": [
       "                          seller_id  seller_zip_code_prefix  \\\n",
       "0  3442f8959a84dea7ee197c632cb2df15                   13023   \n",
       "1  d1b65fc7debc3361ea86b5f14c68d2e2                   13844   \n",
       "2  ce3ad9de960102d0677a81f5d0bb7b2d                   20031   \n",
       "3  c0f3eea2e14555b6faeea3dd58c1b1c3                    4195   \n",
       "4  51a04a8a6bdcb23deccc82b0b80742cf                   12914   \n",
       "\n",
       "         seller_city seller_state  \n",
       "0           campinas           SP  \n",
       "1         mogi guacu           SP  \n",
       "2     rio de janeiro           RJ  \n",
       "3          sao paulo           SP  \n",
       "4  braganca paulista           SP  "
      ]
     },
     "execution_count": 144,
     "metadata": {},
     "output_type": "execute_result"
    }
   ],
   "source": [
    "df9 = pd.read_csv(\"sellers_dataset.csv\", engine='python') #veri setimizi çektik.\n",
    "df9.head()"
   ]
  },
  {
   "cell_type": "code",
   "execution_count": null,
   "metadata": {},
   "outputs": [
    {
     "data": {
      "text/html": [
       "<div>\n",
       "<style scoped>\n",
       "    .dataframe tbody tr th:only-of-type {\n",
       "        vertical-align: middle;\n",
       "    }\n",
       "\n",
       "    .dataframe tbody tr th {\n",
       "        vertical-align: top;\n",
       "    }\n",
       "\n",
       "    .dataframe thead th {\n",
       "        text-align: right;\n",
       "    }\n",
       "</style>\n",
       "<table border=\"1\" class=\"dataframe\">\n",
       "  <thead>\n",
       "    <tr style=\"text-align: right;\">\n",
       "      <th></th>\n",
       "      <th>SaticiNo</th>\n",
       "      <th>SaticiPostaKodu</th>\n",
       "      <th>SaticiSehri</th>\n",
       "      <th>SaticiUlke</th>\n",
       "    </tr>\n",
       "  </thead>\n",
       "  <tbody>\n",
       "    <tr>\n",
       "      <th>0</th>\n",
       "      <td>3442f8959a84dea7ee197c632cb2df15</td>\n",
       "      <td>13023</td>\n",
       "      <td>campinas</td>\n",
       "      <td>SP</td>\n",
       "    </tr>\n",
       "    <tr>\n",
       "      <th>1</th>\n",
       "      <td>d1b65fc7debc3361ea86b5f14c68d2e2</td>\n",
       "      <td>13844</td>\n",
       "      <td>mogi guacu</td>\n",
       "      <td>SP</td>\n",
       "    </tr>\n",
       "    <tr>\n",
       "      <th>2</th>\n",
       "      <td>ce3ad9de960102d0677a81f5d0bb7b2d</td>\n",
       "      <td>20031</td>\n",
       "      <td>rio de janeiro</td>\n",
       "      <td>RJ</td>\n",
       "    </tr>\n",
       "    <tr>\n",
       "      <th>3</th>\n",
       "      <td>c0f3eea2e14555b6faeea3dd58c1b1c3</td>\n",
       "      <td>4195</td>\n",
       "      <td>sao paulo</td>\n",
       "      <td>SP</td>\n",
       "    </tr>\n",
       "    <tr>\n",
       "      <th>4</th>\n",
       "      <td>51a04a8a6bdcb23deccc82b0b80742cf</td>\n",
       "      <td>12914</td>\n",
       "      <td>braganca paulista</td>\n",
       "      <td>SP</td>\n",
       "    </tr>\n",
       "  </tbody>\n",
       "</table>\n",
       "</div>"
      ],
      "text/plain": [
       "                           SaticiNo  SaticiPostaKodu        SaticiSehri  \\\n",
       "0  3442f8959a84dea7ee197c632cb2df15            13023           campinas   \n",
       "1  d1b65fc7debc3361ea86b5f14c68d2e2            13844         mogi guacu   \n",
       "2  ce3ad9de960102d0677a81f5d0bb7b2d            20031     rio de janeiro   \n",
       "3  c0f3eea2e14555b6faeea3dd58c1b1c3             4195          sao paulo   \n",
       "4  51a04a8a6bdcb23deccc82b0b80742cf            12914  braganca paulista   \n",
       "\n",
       "  SaticiUlke  \n",
       "0         SP  \n",
       "1         SP  \n",
       "2         RJ  \n",
       "3         SP  \n",
       "4         SP  "
      ]
     },
     "execution_count": 146,
     "metadata": {},
     "output_type": "execute_result"
    }
   ],
   "source": [
    "df9.rename(columns={\"seller_id\" :\"SaticiNo\", \n",
    "                    \"seller_zip_code_prefix\":\"SaticiPostaKodu\",\n",
    "                    \"seller_city\":\"SaticiSehri\",\n",
    "                    \"seller_state\":\"SaticiUlke\",\n",
    "                    }, inplace=True)\n",
    "df9.head()"
   ]
  },
  {
   "cell_type": "code",
   "execution_count": null,
   "metadata": {},
   "outputs": [
    {
     "data": {
      "text/html": [
       "<div>\n",
       "<style scoped>\n",
       "    .dataframe tbody tr th:only-of-type {\n",
       "        vertical-align: middle;\n",
       "    }\n",
       "\n",
       "    .dataframe tbody tr th {\n",
       "        vertical-align: top;\n",
       "    }\n",
       "\n",
       "    .dataframe thead th {\n",
       "        text-align: right;\n",
       "    }\n",
       "</style>\n",
       "<table border=\"1\" class=\"dataframe\">\n",
       "  <thead>\n",
       "    <tr style=\"text-align: right;\">\n",
       "      <th></th>\n",
       "      <th>SaticiNo</th>\n",
       "      <th>SaticiPostaKodu</th>\n",
       "      <th>SaticiSehri</th>\n",
       "      <th>SaticiUlke</th>\n",
       "    </tr>\n",
       "  </thead>\n",
       "  <tbody>\n",
       "    <tr>\n",
       "      <th>0</th>\n",
       "      <td>3442f8959a84dea7ee197c632cb2df15</td>\n",
       "      <td>13023</td>\n",
       "      <td>campinas</td>\n",
       "      <td>SP</td>\n",
       "    </tr>\n",
       "    <tr>\n",
       "      <th>1</th>\n",
       "      <td>d1b65fc7debc3361ea86b5f14c68d2e2</td>\n",
       "      <td>13844</td>\n",
       "      <td>mogi guacu</td>\n",
       "      <td>SP</td>\n",
       "    </tr>\n",
       "    <tr>\n",
       "      <th>3</th>\n",
       "      <td>c0f3eea2e14555b6faeea3dd58c1b1c3</td>\n",
       "      <td>4195</td>\n",
       "      <td>sao paulo</td>\n",
       "      <td>SP</td>\n",
       "    </tr>\n",
       "    <tr>\n",
       "      <th>4</th>\n",
       "      <td>51a04a8a6bdcb23deccc82b0b80742cf</td>\n",
       "      <td>12914</td>\n",
       "      <td>braganca paulista</td>\n",
       "      <td>SP</td>\n",
       "    </tr>\n",
       "    <tr>\n",
       "      <th>7</th>\n",
       "      <td>1b938a7ec6ac5061a66a3766e0e75f90</td>\n",
       "      <td>16304</td>\n",
       "      <td>penapolis</td>\n",
       "      <td>SP</td>\n",
       "    </tr>\n",
       "    <tr>\n",
       "      <th>...</th>\n",
       "      <td>...</td>\n",
       "      <td>...</td>\n",
       "      <td>...</td>\n",
       "      <td>...</td>\n",
       "    </tr>\n",
       "    <tr>\n",
       "      <th>3087</th>\n",
       "      <td>f00f5b35d0abcacbdd863672f4bb2c1a</td>\n",
       "      <td>1238</td>\n",
       "      <td>sao paulo</td>\n",
       "      <td>SP</td>\n",
       "    </tr>\n",
       "    <tr>\n",
       "      <th>3088</th>\n",
       "      <td>7bac63f6603d382cc8d0832eb6c100a8</td>\n",
       "      <td>5713</td>\n",
       "      <td>sao paulo</td>\n",
       "      <td>SP</td>\n",
       "    </tr>\n",
       "    <tr>\n",
       "      <th>3089</th>\n",
       "      <td>f1fdf2d13186575751aa25876536d85c</td>\n",
       "      <td>5314</td>\n",
       "      <td>sao paulo</td>\n",
       "      <td>SP</td>\n",
       "    </tr>\n",
       "    <tr>\n",
       "      <th>3092</th>\n",
       "      <td>74871d19219c7d518d0090283e03c137</td>\n",
       "      <td>4650</td>\n",
       "      <td>sao paulo</td>\n",
       "      <td>SP</td>\n",
       "    </tr>\n",
       "    <tr>\n",
       "      <th>3094</th>\n",
       "      <td>9e25199f6ef7e7c347120ff175652c3b</td>\n",
       "      <td>12051</td>\n",
       "      <td>taubate</td>\n",
       "      <td>SP</td>\n",
       "    </tr>\n",
       "  </tbody>\n",
       "</table>\n",
       "<p>1849 rows × 4 columns</p>\n",
       "</div>"
      ],
      "text/plain": [
       "                              SaticiNo  SaticiPostaKodu        SaticiSehri  \\\n",
       "0     3442f8959a84dea7ee197c632cb2df15            13023           campinas   \n",
       "1     d1b65fc7debc3361ea86b5f14c68d2e2            13844         mogi guacu   \n",
       "3     c0f3eea2e14555b6faeea3dd58c1b1c3             4195          sao paulo   \n",
       "4     51a04a8a6bdcb23deccc82b0b80742cf            12914  braganca paulista   \n",
       "7     1b938a7ec6ac5061a66a3766e0e75f90            16304          penapolis   \n",
       "...                                ...              ...                ...   \n",
       "3087  f00f5b35d0abcacbdd863672f4bb2c1a             1238          sao paulo   \n",
       "3088  7bac63f6603d382cc8d0832eb6c100a8             5713          sao paulo   \n",
       "3089  f1fdf2d13186575751aa25876536d85c             5314          sao paulo   \n",
       "3092  74871d19219c7d518d0090283e03c137             4650          sao paulo   \n",
       "3094  9e25199f6ef7e7c347120ff175652c3b            12051            taubate   \n",
       "\n",
       "     SaticiUlke  \n",
       "0            SP  \n",
       "1            SP  \n",
       "3            SP  \n",
       "4            SP  \n",
       "7            SP  \n",
       "...         ...  \n",
       "3087         SP  \n",
       "3088         SP  \n",
       "3089         SP  \n",
       "3092         SP  \n",
       "3094         SP  \n",
       "\n",
       "[1849 rows x 4 columns]"
      ]
     },
     "execution_count": 147,
     "metadata": {},
     "output_type": "execute_result"
    }
   ],
   "source": [
    "df9[df9[\"SaticiUlke\"]==\"SP\"]"
   ]
  },
  {
   "cell_type": "code",
   "execution_count": null,
   "metadata": {},
   "outputs": [
    {
     "name": "stdout",
     "output_type": "stream",
     "text": [
      "<class 'pandas.core.frame.DataFrame'>\n",
      "RangeIndex: 3095 entries, 0 to 3094\n",
      "Data columns (total 4 columns):\n",
      " #   Column           Non-Null Count  Dtype \n",
      "---  ------           --------------  ----- \n",
      " 0   SaticiNo         3095 non-null   object\n",
      " 1   SaticiPostaKodu  3095 non-null   int64 \n",
      " 2   SaticiSehri      3095 non-null   object\n",
      " 3   SaticiUlke       3095 non-null   object\n",
      "dtypes: int64(1), object(3)\n",
      "memory usage: 96.8+ KB\n"
     ]
    }
   ],
   "source": [
    "df9.info()"
   ]
  },
  {
   "cell_type": "code",
   "execution_count": null,
   "metadata": {},
   "outputs": [
    {
     "data": {
      "text/plain": [
       "(3095, 4)"
      ]
     },
     "execution_count": 73,
     "metadata": {},
     "output_type": "execute_result"
    }
   ],
   "source": [
    "df9.shape"
   ]
  },
  {
   "cell_type": "code",
   "execution_count": null,
   "metadata": {},
   "outputs": [
    {
     "data": {
      "text/html": [
       "<div>\n",
       "<style scoped>\n",
       "    .dataframe tbody tr th:only-of-type {\n",
       "        vertical-align: middle;\n",
       "    }\n",
       "\n",
       "    .dataframe tbody tr th {\n",
       "        vertical-align: top;\n",
       "    }\n",
       "\n",
       "    .dataframe thead th {\n",
       "        text-align: right;\n",
       "    }\n",
       "</style>\n",
       "<table border=\"1\" class=\"dataframe\">\n",
       "  <thead>\n",
       "    <tr style=\"text-align: right;\">\n",
       "      <th></th>\n",
       "      <th>SaticiNo</th>\n",
       "      <th>SaticiPostaKodu</th>\n",
       "      <th>SaticiSehri</th>\n",
       "      <th>SaticiUlke</th>\n",
       "    </tr>\n",
       "  </thead>\n",
       "  <tbody>\n",
       "    <tr>\n",
       "      <th>0</th>\n",
       "      <td>3442f8959a84dea7ee197c632cb2df15</td>\n",
       "      <td>13023</td>\n",
       "      <td>campinas</td>\n",
       "      <td>SP</td>\n",
       "    </tr>\n",
       "    <tr>\n",
       "      <th>1</th>\n",
       "      <td>d1b65fc7debc3361ea86b5f14c68d2e2</td>\n",
       "      <td>13844</td>\n",
       "      <td>mogi guacu</td>\n",
       "      <td>SP</td>\n",
       "    </tr>\n",
       "    <tr>\n",
       "      <th>2</th>\n",
       "      <td>ce3ad9de960102d0677a81f5d0bb7b2d</td>\n",
       "      <td>20031</td>\n",
       "      <td>rio de janeiro</td>\n",
       "      <td>RJ</td>\n",
       "    </tr>\n",
       "    <tr>\n",
       "      <th>3</th>\n",
       "      <td>c0f3eea2e14555b6faeea3dd58c1b1c3</td>\n",
       "      <td>4195</td>\n",
       "      <td>sao paulo</td>\n",
       "      <td>SP</td>\n",
       "    </tr>\n",
       "    <tr>\n",
       "      <th>4</th>\n",
       "      <td>51a04a8a6bdcb23deccc82b0b80742cf</td>\n",
       "      <td>12914</td>\n",
       "      <td>braganca paulista</td>\n",
       "      <td>SP</td>\n",
       "    </tr>\n",
       "  </tbody>\n",
       "</table>\n",
       "</div>"
      ],
      "text/plain": [
       "                           SaticiNo  SaticiPostaKodu        SaticiSehri  \\\n",
       "0  3442f8959a84dea7ee197c632cb2df15            13023           campinas   \n",
       "1  d1b65fc7debc3361ea86b5f14c68d2e2            13844         mogi guacu   \n",
       "2  ce3ad9de960102d0677a81f5d0bb7b2d            20031     rio de janeiro   \n",
       "3  c0f3eea2e14555b6faeea3dd58c1b1c3             4195          sao paulo   \n",
       "4  51a04a8a6bdcb23deccc82b0b80742cf            12914  braganca paulista   \n",
       "\n",
       "  SaticiUlke  \n",
       "0         SP  \n",
       "1         SP  \n",
       "2         RJ  \n",
       "3         SP  \n",
       "4         SP  "
      ]
     },
     "execution_count": 74,
     "metadata": {},
     "output_type": "execute_result"
    }
   ],
   "source": [
    "df9.head()"
   ]
  },
  {
   "cell_type": "code",
   "execution_count": null,
   "metadata": {},
   "outputs": [
    {
     "data": {
      "text/html": [
       "<div>\n",
       "<style scoped>\n",
       "    .dataframe tbody tr th:only-of-type {\n",
       "        vertical-align: middle;\n",
       "    }\n",
       "\n",
       "    .dataframe tbody tr th {\n",
       "        vertical-align: top;\n",
       "    }\n",
       "\n",
       "    .dataframe thead th {\n",
       "        text-align: right;\n",
       "    }\n",
       "</style>\n",
       "<table border=\"1\" class=\"dataframe\">\n",
       "  <thead>\n",
       "    <tr style=\"text-align: right;\">\n",
       "      <th></th>\n",
       "      <th>SaticiNo</th>\n",
       "      <th>SaticiPostaKodu</th>\n",
       "      <th>SaticiSehri</th>\n",
       "      <th>SaticiUlke</th>\n",
       "    </tr>\n",
       "  </thead>\n",
       "  <tbody>\n",
       "    <tr>\n",
       "      <th>3090</th>\n",
       "      <td>98dddbc4601dd4443ca174359b237166</td>\n",
       "      <td>87111</td>\n",
       "      <td>sarandi</td>\n",
       "      <td>PR</td>\n",
       "    </tr>\n",
       "    <tr>\n",
       "      <th>3091</th>\n",
       "      <td>f8201cab383e484733266d1906e2fdfa</td>\n",
       "      <td>88137</td>\n",
       "      <td>palhoca</td>\n",
       "      <td>SC</td>\n",
       "    </tr>\n",
       "    <tr>\n",
       "      <th>3092</th>\n",
       "      <td>74871d19219c7d518d0090283e03c137</td>\n",
       "      <td>4650</td>\n",
       "      <td>sao paulo</td>\n",
       "      <td>SP</td>\n",
       "    </tr>\n",
       "    <tr>\n",
       "      <th>3093</th>\n",
       "      <td>e603cf3fec55f8697c9059638d6c8eb5</td>\n",
       "      <td>96080</td>\n",
       "      <td>pelotas</td>\n",
       "      <td>RS</td>\n",
       "    </tr>\n",
       "    <tr>\n",
       "      <th>3094</th>\n",
       "      <td>9e25199f6ef7e7c347120ff175652c3b</td>\n",
       "      <td>12051</td>\n",
       "      <td>taubate</td>\n",
       "      <td>SP</td>\n",
       "    </tr>\n",
       "  </tbody>\n",
       "</table>\n",
       "</div>"
      ],
      "text/plain": [
       "                              SaticiNo  SaticiPostaKodu SaticiSehri SaticiUlke\n",
       "3090  98dddbc4601dd4443ca174359b237166            87111     sarandi         PR\n",
       "3091  f8201cab383e484733266d1906e2fdfa            88137     palhoca         SC\n",
       "3092  74871d19219c7d518d0090283e03c137             4650   sao paulo         SP\n",
       "3093  e603cf3fec55f8697c9059638d6c8eb5            96080     pelotas         RS\n",
       "3094  9e25199f6ef7e7c347120ff175652c3b            12051     taubate         SP"
      ]
     },
     "execution_count": 75,
     "metadata": {},
     "output_type": "execute_result"
    }
   ],
   "source": [
    "df9.tail()"
   ]
  },
  {
   "cell_type": "code",
   "execution_count": null,
   "metadata": {},
   "outputs": [
    {
     "data": {
      "text/plain": [
       "SaticiNo           0\n",
       "SaticiPostaKodu    0\n",
       "SaticiSehri        0\n",
       "SaticiUlke         0\n",
       "dtype: int64"
      ]
     },
     "execution_count": 186,
     "metadata": {},
     "output_type": "execute_result"
    }
   ],
   "source": [
    "df9.isnull().sum()"
   ]
  },
  {
   "cell_type": "code",
   "execution_count": null,
   "metadata": {},
   "outputs": [
    {
     "name": "stdout",
     "output_type": "stream",
     "text": [
      "0\n"
     ]
    }
   ],
   "source": [
    "print(sum(df9.duplicated(keep=\"first\"))) #dublicate veri kontrolü\n"
   ]
  },
  {
   "cell_type": "code",
   "execution_count": null,
   "metadata": {},
   "outputs": [
    {
     "data": {
      "text/plain": [
       "SaticiNo                          SaticiSehri\n",
       "0015a82c2db000af6aaaf3ae2ecb0532  santo andre    1\n",
       "001cca7ae9ae17fb1caed9dfb1094831  cariacica      1\n",
       "001e6ad469a905060d959994f1b41e4f  sao goncalo    1\n",
       "002100f778ceb8431b7a1020ff7ab48f  franca         1\n",
       "003554e2dce176b5555353e4f3555ac8  goiania        1\n",
       "                                                ..\n",
       "ffcfefa19b08742c5d315f2791395ee5  curitiba       1\n",
       "ffdd9f82b9a447f6f8d4b91554cc7dd3  curitiba       1\n",
       "ffeee66ac5d5a62fe688b9d26f83f534  mirassol       1\n",
       "fffd5413c0700ac820c7069d66d98c89  amparo         1\n",
       "ffff564a4f9085cd26170f4732393726  campinas       1\n",
       "Name: SaticiSehri, Length: 3095, dtype: int64"
      ]
     },
     "execution_count": 189,
     "metadata": {},
     "output_type": "execute_result"
    }
   ],
   "source": [
    "df9.groupby(\"SaticiNo\")[\"SaticiSehri\"].value_counts() "
   ]
  },
  {
   "cell_type": "code",
   "execution_count": null,
   "metadata": {},
   "outputs": [
    {
     "name": "stderr",
     "output_type": "stream",
     "text": [
      "C:\\Users\\BEYZA ASLAN\\AppData\\Local\\Temp\\ipykernel_13104\\1329956118.py:2: UserWarning: \n",
      "\n",
      "`distplot` is a deprecated function and will be removed in seaborn v0.14.0.\n",
      "\n",
      "Please adapt your code to use either `displot` (a figure-level function with\n",
      "similar flexibility) or `histplot` (an axes-level function for histograms).\n",
      "\n",
      "For a guide to updating your code to use the new functions, please see\n",
      "https://gist.github.com/mwaskom/de44147ed2974457ad6372750bbe5751\n",
      "\n",
      "  sns.distplot(df9['SaticiPostaKodu'], kde=False)\n"
     ]
    },
    {
     "data": {
      "image/png": "[encoded data removed]",
      "text/plain": [
       "<Figure size 700x700 with 1 Axes>"
      ]
     },
     "metadata": {},
     "output_type": "display_data"
    }
   ],
   "source": [
    "plt.figure(figsize=(7,7))\n",
    "sns.distplot(df9['SaticiPostaKodu'], kde=False)\n",
    "plt.show()\n"
   ]
  },
  {
   "cell_type": "code",
   "execution_count": null,
   "metadata": {},
   "outputs": [
    {
     "data": {
      "text/html": [
       "<div>\n",
       "<style scoped>\n",
       "    .dataframe tbody tr th:only-of-type {\n",
       "        vertical-align: middle;\n",
       "    }\n",
       "\n",
       "    .dataframe tbody tr th {\n",
       "        vertical-align: top;\n",
       "    }\n",
       "\n",
       "    .dataframe thead th {\n",
       "        text-align: right;\n",
       "    }\n",
       "</style>\n",
       "<table border=\"1\" class=\"dataframe\">\n",
       "  <thead>\n",
       "    <tr style=\"text-align: right;\">\n",
       "      <th></th>\n",
       "      <th>SaticiNo</th>\n",
       "      <th>SaticiPostaKodu</th>\n",
       "      <th>SaticiSehri</th>\n",
       "      <th>SaticiUlke</th>\n",
       "    </tr>\n",
       "  </thead>\n",
       "  <tbody>\n",
       "    <tr>\n",
       "      <th>0</th>\n",
       "      <td>3442f8959a84dea7ee197c632cb2df15</td>\n",
       "      <td>13023</td>\n",
       "      <td>campinas</td>\n",
       "      <td>SP</td>\n",
       "    </tr>\n",
       "    <tr>\n",
       "      <th>1</th>\n",
       "      <td>d1b65fc7debc3361ea86b5f14c68d2e2</td>\n",
       "      <td>13844</td>\n",
       "      <td>mogi guacu</td>\n",
       "      <td>SP</td>\n",
       "    </tr>\n",
       "    <tr>\n",
       "      <th>2</th>\n",
       "      <td>ce3ad9de960102d0677a81f5d0bb7b2d</td>\n",
       "      <td>20031</td>\n",
       "      <td>rio de janeiro</td>\n",
       "      <td>RJ</td>\n",
       "    </tr>\n",
       "    <tr>\n",
       "      <th>4</th>\n",
       "      <td>51a04a8a6bdcb23deccc82b0b80742cf</td>\n",
       "      <td>12914</td>\n",
       "      <td>braganca paulista</td>\n",
       "      <td>SP</td>\n",
       "    </tr>\n",
       "    <tr>\n",
       "      <th>5</th>\n",
       "      <td>c240c4061717ac1806ae6ee72be3533b</td>\n",
       "      <td>20920</td>\n",
       "      <td>rio de janeiro</td>\n",
       "      <td>RJ</td>\n",
       "    </tr>\n",
       "    <tr>\n",
       "      <th>...</th>\n",
       "      <td>...</td>\n",
       "      <td>...</td>\n",
       "      <td>...</td>\n",
       "      <td>...</td>\n",
       "    </tr>\n",
       "    <tr>\n",
       "      <th>3086</th>\n",
       "      <td>725af026f869236a8dd0ceb98564d156</td>\n",
       "      <td>35530</td>\n",
       "      <td>claudio</td>\n",
       "      <td>MG</td>\n",
       "    </tr>\n",
       "    <tr>\n",
       "      <th>3090</th>\n",
       "      <td>98dddbc4601dd4443ca174359b237166</td>\n",
       "      <td>87111</td>\n",
       "      <td>sarandi</td>\n",
       "      <td>PR</td>\n",
       "    </tr>\n",
       "    <tr>\n",
       "      <th>3091</th>\n",
       "      <td>f8201cab383e484733266d1906e2fdfa</td>\n",
       "      <td>88137</td>\n",
       "      <td>palhoca</td>\n",
       "      <td>SC</td>\n",
       "    </tr>\n",
       "    <tr>\n",
       "      <th>3093</th>\n",
       "      <td>e603cf3fec55f8697c9059638d6c8eb5</td>\n",
       "      <td>96080</td>\n",
       "      <td>pelotas</td>\n",
       "      <td>RS</td>\n",
       "    </tr>\n",
       "    <tr>\n",
       "      <th>3094</th>\n",
       "      <td>9e25199f6ef7e7c347120ff175652c3b</td>\n",
       "      <td>12051</td>\n",
       "      <td>taubate</td>\n",
       "      <td>SP</td>\n",
       "    </tr>\n",
       "  </tbody>\n",
       "</table>\n",
       "<p>2068 rows × 4 columns</p>\n",
       "</div>"
      ],
      "text/plain": [
       "                              SaticiNo  SaticiPostaKodu        SaticiSehri  \\\n",
       "0     3442f8959a84dea7ee197c632cb2df15            13023           campinas   \n",
       "1     d1b65fc7debc3361ea86b5f14c68d2e2            13844         mogi guacu   \n",
       "2     ce3ad9de960102d0677a81f5d0bb7b2d            20031     rio de janeiro   \n",
       "4     51a04a8a6bdcb23deccc82b0b80742cf            12914  braganca paulista   \n",
       "5     c240c4061717ac1806ae6ee72be3533b            20920     rio de janeiro   \n",
       "...                                ...              ...                ...   \n",
       "3086  725af026f869236a8dd0ceb98564d156            35530            claudio   \n",
       "3090  98dddbc4601dd4443ca174359b237166            87111            sarandi   \n",
       "3091  f8201cab383e484733266d1906e2fdfa            88137            palhoca   \n",
       "3093  e603cf3fec55f8697c9059638d6c8eb5            96080            pelotas   \n",
       "3094  9e25199f6ef7e7c347120ff175652c3b            12051            taubate   \n",
       "\n",
       "     SaticiUlke  \n",
       "0            SP  \n",
       "1            SP  \n",
       "2            RJ  \n",
       "4            SP  \n",
       "5            RJ  \n",
       "...         ...  \n",
       "3086         MG  \n",
       "3090         PR  \n",
       "3091         SC  \n",
       "3093         RS  \n",
       "3094         SP  \n",
       "\n",
       "[2068 rows x 4 columns]"
      ]
     },
     "execution_count": 193,
     "metadata": {},
     "output_type": "execute_result"
    }
   ],
   "source": [
    "df9[df9[\"SaticiPostaKodu\"]>10000]"
   ]
  },
  {
   "cell_type": "markdown",
   "metadata": {},
   "source": [
    "**Merge İşlemleri**"
   ]
  },
  {
   "cell_type": "markdown",
   "metadata": {},
   "source": [
    "--------------------**order_items_dataset ile seller_dataset birleşimi (Satıcı numarasına göre)**-----------------------"
   ]
  },
  {
   "cell_type": "code",
   "execution_count": null,
   "metadata": {},
   "outputs": [
    {
     "data": {
      "text/html": [
       "<div>\n",
       "<style scoped>\n",
       "    .dataframe tbody tr th:only-of-type {\n",
       "        vertical-align: middle;\n",
       "    }\n",
       "\n",
       "    .dataframe tbody tr th {\n",
       "        vertical-align: top;\n",
       "    }\n",
       "\n",
       "    .dataframe thead th {\n",
       "        text-align: right;\n",
       "    }\n",
       "</style>\n",
       "<table border=\"1\" class=\"dataframe\">\n",
       "  <thead>\n",
       "    <tr style=\"text-align: right;\">\n",
       "      <th></th>\n",
       "      <th>SiparisNo</th>\n",
       "      <th>SiparisTurNo</th>\n",
       "      <th>UrunNo</th>\n",
       "      <th>SaticiNo</th>\n",
       "      <th>NakliyeTarihi</th>\n",
       "      <th>Fiyat</th>\n",
       "      <th>NakliyeUcreti</th>\n",
       "      <th>SaticiPostaKodu</th>\n",
       "      <th>SaticiSehri</th>\n",
       "      <th>SaticiUlke</th>\n",
       "    </tr>\n",
       "  </thead>\n",
       "  <tbody>\n",
       "    <tr>\n",
       "      <th>0</th>\n",
       "      <td>00010242fe8c5a6d1ba2dd792cb16214</td>\n",
       "      <td>1</td>\n",
       "      <td>4244733e06e7ecb4970a6e2683c13e61</td>\n",
       "      <td>48436dade18ac8b2bce089ec2a041202</td>\n",
       "      <td>2017-09-19 09:45:35</td>\n",
       "      <td>58.90</td>\n",
       "      <td>13.29</td>\n",
       "      <td>27277</td>\n",
       "      <td>volta redonda</td>\n",
       "      <td>SP</td>\n",
       "    </tr>\n",
       "    <tr>\n",
       "      <th>1</th>\n",
       "      <td>0188777fe321843a18be24a6e9aa1e53</td>\n",
       "      <td>1</td>\n",
       "      <td>436c8d57ff8d4aa254318e9bd9b48c83</td>\n",
       "      <td>48436dade18ac8b2bce089ec2a041202</td>\n",
       "      <td>2017-07-31 14:35:11</td>\n",
       "      <td>55.90</td>\n",
       "      <td>9.94</td>\n",
       "      <td>27277</td>\n",
       "      <td>volta redonda</td>\n",
       "      <td>SP</td>\n",
       "    </tr>\n",
       "    <tr>\n",
       "      <th>2</th>\n",
       "      <td>0191bbb5166d4b9a68df11797d5acfa9</td>\n",
       "      <td>1</td>\n",
       "      <td>ec02a5d380128f7a188e9ce8f3ddd832</td>\n",
       "      <td>48436dade18ac8b2bce089ec2a041202</td>\n",
       "      <td>2017-08-16 12:30:15</td>\n",
       "      <td>132.90</td>\n",
       "      <td>20.17</td>\n",
       "      <td>27277</td>\n",
       "      <td>volta redonda</td>\n",
       "      <td>SP</td>\n",
       "    </tr>\n",
       "    <tr>\n",
       "      <th>3</th>\n",
       "      <td>03054d8a8eefc2981cfad06f58e27979</td>\n",
       "      <td>1</td>\n",
       "      <td>3e31fd1419cc4cd6adad1925e72e3a03</td>\n",
       "      <td>48436dade18ac8b2bce089ec2a041202</td>\n",
       "      <td>2017-10-09 10:35:11</td>\n",
       "      <td>58.90</td>\n",
       "      <td>15.16</td>\n",
       "      <td>27277</td>\n",
       "      <td>volta redonda</td>\n",
       "      <td>SP</td>\n",
       "    </tr>\n",
       "    <tr>\n",
       "      <th>4</th>\n",
       "      <td>0c325ea6925de749e1420be0cf43587c</td>\n",
       "      <td>1</td>\n",
       "      <td>3a135477bf41350a0b1d8afdf616d446</td>\n",
       "      <td>48436dade18ac8b2bce089ec2a041202</td>\n",
       "      <td>2017-07-06 15:43:50</td>\n",
       "      <td>139.90</td>\n",
       "      <td>16.74</td>\n",
       "      <td>27277</td>\n",
       "      <td>volta redonda</td>\n",
       "      <td>SP</td>\n",
       "    </tr>\n",
       "    <tr>\n",
       "      <th>...</th>\n",
       "      <td>...</td>\n",
       "      <td>...</td>\n",
       "      <td>...</td>\n",
       "      <td>...</td>\n",
       "      <td>...</td>\n",
       "      <td>...</td>\n",
       "      <td>...</td>\n",
       "      <td>...</td>\n",
       "      <td>...</td>\n",
       "      <td>...</td>\n",
       "    </tr>\n",
       "    <tr>\n",
       "      <th>112645</th>\n",
       "      <td>fdfeec75aa07c1d2a88b17b8fbfc7b8f</td>\n",
       "      <td>1</td>\n",
       "      <td>11059273f4bc1a293777e98c89807c62</td>\n",
       "      <td>dbc51f5e45d654ecc16cb68e6817ecea</td>\n",
       "      <td>2017-03-01 22:42:22</td>\n",
       "      <td>199.99</td>\n",
       "      <td>18.14</td>\n",
       "      <td>14402</td>\n",
       "      <td>franca</td>\n",
       "      <td>SP</td>\n",
       "    </tr>\n",
       "    <tr>\n",
       "      <th>112646</th>\n",
       "      <td>fe68b52db13993f58175fa589125d345</td>\n",
       "      <td>1</td>\n",
       "      <td>f4135cbdece8245560f7be179533797a</td>\n",
       "      <td>3fefda3299e6dfaea3466ef346a3571a</td>\n",
       "      <td>2017-08-17 02:55:27</td>\n",
       "      <td>209.00</td>\n",
       "      <td>16.21</td>\n",
       "      <td>82620</td>\n",
       "      <td>curitiba</td>\n",
       "      <td>PR</td>\n",
       "    </tr>\n",
       "    <tr>\n",
       "      <th>112647</th>\n",
       "      <td>fefacc66af859508bf1a7934eab1e97f</td>\n",
       "      <td>1</td>\n",
       "      <td>69c590f7ffc7bf8db97190b6cb6ed62e</td>\n",
       "      <td>80ceebb4ee9b31afb6c6a916a574a1e2</td>\n",
       "      <td>2018-08-02 04:05:13</td>\n",
       "      <td>6729.00</td>\n",
       "      <td>193.21</td>\n",
       "      <td>86026</td>\n",
       "      <td>londrina</td>\n",
       "      <td>PR</td>\n",
       "    </tr>\n",
       "    <tr>\n",
       "      <th>112648</th>\n",
       "      <td>ff701a7c869ad21de22a6994237c8a00</td>\n",
       "      <td>1</td>\n",
       "      <td>5ff4076c0f01eeba4f728c9e3fa2653c</td>\n",
       "      <td>3e35a8bb43569389d3cebef0ce820f69</td>\n",
       "      <td>2018-04-18 20:10:33</td>\n",
       "      <td>27.90</td>\n",
       "      <td>14.44</td>\n",
       "      <td>3124</td>\n",
       "      <td>sao paulo</td>\n",
       "      <td>SP</td>\n",
       "    </tr>\n",
       "    <tr>\n",
       "      <th>112649</th>\n",
       "      <td>ff701a7c869ad21de22a6994237c8a00</td>\n",
       "      <td>2</td>\n",
       "      <td>5ff4076c0f01eeba4f728c9e3fa2653c</td>\n",
       "      <td>3e35a8bb43569389d3cebef0ce820f69</td>\n",
       "      <td>2018-04-18 20:10:33</td>\n",
       "      <td>27.90</td>\n",
       "      <td>14.44</td>\n",
       "      <td>3124</td>\n",
       "      <td>sao paulo</td>\n",
       "      <td>SP</td>\n",
       "    </tr>\n",
       "  </tbody>\n",
       "</table>\n",
       "<p>112650 rows × 10 columns</p>\n",
       "</div>"
      ],
      "text/plain": [
       "                               SiparisNo  SiparisTurNo  \\\n",
       "0       00010242fe8c5a6d1ba2dd792cb16214             1   \n",
       "1       0188777fe321843a18be24a6e9aa1e53             1   \n",
       "2       0191bbb5166d4b9a68df11797d5acfa9             1   \n",
       "3       03054d8a8eefc2981cfad06f58e27979             1   \n",
       "4       0c325ea6925de749e1420be0cf43587c             1   \n",
       "...                                  ...           ...   \n",
       "112645  fdfeec75aa07c1d2a88b17b8fbfc7b8f             1   \n",
       "112646  fe68b52db13993f58175fa589125d345             1   \n",
       "112647  fefacc66af859508bf1a7934eab1e97f             1   \n",
       "112648  ff701a7c869ad21de22a6994237c8a00             1   \n",
       "112649  ff701a7c869ad21de22a6994237c8a00             2   \n",
       "\n",
       "                                  UrunNo                          SaticiNo  \\\n",
       "0       4244733e06e7ecb4970a6e2683c13e61  48436dade18ac8b2bce089ec2a041202   \n",
       "1       436c8d57ff8d4aa254318e9bd9b48c83  48436dade18ac8b2bce089ec2a041202   \n",
       "2       ec02a5d380128f7a188e9ce8f3ddd832  48436dade18ac8b2bce089ec2a041202   \n",
       "3       3e31fd1419cc4cd6adad1925e72e3a03  48436dade18ac8b2bce089ec2a041202   \n",
       "4       3a135477bf41350a0b1d8afdf616d446  48436dade18ac8b2bce089ec2a041202   \n",
       "...                                  ...                               ...   \n",
       "112645  11059273f4bc1a293777e98c89807c62  dbc51f5e45d654ecc16cb68e6817ecea   \n",
       "112646  f4135cbdece8245560f7be179533797a  3fefda3299e6dfaea3466ef346a3571a   \n",
       "112647  69c590f7ffc7bf8db97190b6cb6ed62e  80ceebb4ee9b31afb6c6a916a574a1e2   \n",
       "112648  5ff4076c0f01eeba4f728c9e3fa2653c  3e35a8bb43569389d3cebef0ce820f69   \n",
       "112649  5ff4076c0f01eeba4f728c9e3fa2653c  3e35a8bb43569389d3cebef0ce820f69   \n",
       "\n",
       "              NakliyeTarihi   Fiyat   NakliyeUcreti  SaticiPostaKodu  \\\n",
       "0       2017-09-19 09:45:35    58.90          13.29            27277   \n",
       "1       2017-07-31 14:35:11    55.90           9.94            27277   \n",
       "2       2017-08-16 12:30:15   132.90          20.17            27277   \n",
       "3       2017-10-09 10:35:11    58.90          15.16            27277   \n",
       "4       2017-07-06 15:43:50   139.90          16.74            27277   \n",
       "...                     ...      ...            ...              ...   \n",
       "112645  2017-03-01 22:42:22   199.99          18.14            14402   \n",
       "112646  2017-08-17 02:55:27   209.00          16.21            82620   \n",
       "112647  2018-08-02 04:05:13  6729.00         193.21            86026   \n",
       "112648  2018-04-18 20:10:33    27.90          14.44             3124   \n",
       "112649  2018-04-18 20:10:33    27.90          14.44             3124   \n",
       "\n",
       "          SaticiSehri SaticiUlke  \n",
       "0       volta redonda         SP  \n",
       "1       volta redonda         SP  \n",
       "2       volta redonda         SP  \n",
       "3       volta redonda         SP  \n",
       "4       volta redonda         SP  \n",
       "...               ...        ...  \n",
       "112645         franca         SP  \n",
       "112646       curitiba         PR  \n",
       "112647       londrina         PR  \n",
       "112648      sao paulo         SP  \n",
       "112649      sao paulo         SP  \n",
       "\n",
       "[112650 rows x 10 columns]"
      ]
     },
     "execution_count": 76,
     "metadata": {},
     "output_type": "execute_result"
    }
   ],
   "source": [
    "satici_siparis = df3.merge(df9, how='inner', on= \"SaticiNo\")\n",
    "satici_siparis"
   ]
  },
  {
   "cell_type": "code",
   "execution_count": null,
   "metadata": {},
   "outputs": [
    {
     "data": {
      "text/plain": [
       "Index(['SiparisNo', 'SiparisTurNo', 'UrunNo', 'SaticiNo', 'NakliyeTarihi',\n",
       "       'Fiyat ', 'NakliyeUcreti', 'SaticiPostaKodu', 'SaticiSehri',\n",
       "       'SaticiUlke'],\n",
       "      dtype='object')"
      ]
     },
     "execution_count": 77,
     "metadata": {},
     "output_type": "execute_result"
    }
   ],
   "source": [
    "satici_siparis.columns"
   ]
  },
  {
   "cell_type": "code",
   "execution_count": null,
   "metadata": {},
   "outputs": [
    {
     "name": "stdout",
     "output_type": "stream",
     "text": [
      "0\n"
     ]
    },
    {
     "data": {
      "text/plain": [
       "SiparisNo           object\n",
       "SiparisTurNo         int64\n",
       "UrunNo              object\n",
       "SaticiNo            object\n",
       "NakliyeTarihi       object\n",
       "Fiyat              float64\n",
       "NakliyeUcreti      float64\n",
       "SaticiPostaKodu      int64\n",
       "SaticiSehri         object\n",
       "SaticiUlke          object\n",
       "dtype: object"
      ]
     },
     "execution_count": 78,
     "metadata": {},
     "output_type": "execute_result"
    }
   ],
   "source": [
    "print(sum(satici_siparis.duplicated(keep=\"first\"))) #dublicate veri kontrolü\n",
    "satici_siparis.dtypes"
   ]
  },
  {
   "cell_type": "markdown",
   "metadata": {},
   "source": [
    "-----------------------------**order_payments_dataset ile orders_dataset birleşimi**-------------------------------"
   ]
  },
  {
   "cell_type": "code",
   "execution_count": null,
   "metadata": {},
   "outputs": [
    {
     "data": {
      "text/html": [
       "<div>\n",
       "<style scoped>\n",
       "    .dataframe tbody tr th:only-of-type {\n",
       "        vertical-align: middle;\n",
       "    }\n",
       "\n",
       "    .dataframe tbody tr th {\n",
       "        vertical-align: top;\n",
       "    }\n",
       "\n",
       "    .dataframe thead th {\n",
       "        text-align: right;\n",
       "    }\n",
       "</style>\n",
       "<table border=\"1\" class=\"dataframe\">\n",
       "  <thead>\n",
       "    <tr style=\"text-align: right;\">\n",
       "      <th></th>\n",
       "      <th>SiparisNo</th>\n",
       "      <th>OdemeSirasi</th>\n",
       "      <th>OdemeTipi</th>\n",
       "      <th>OdemeTaksidi</th>\n",
       "      <th>OdenecekTutar</th>\n",
       "      <th>MusteriNo</th>\n",
       "      <th>SiparisDurumu</th>\n",
       "      <th>SiparisAlinmaZamani</th>\n",
       "      <th>SiparisKabulZamani</th>\n",
       "      <th>SiparisKargoZamani</th>\n",
       "      <th>SiparisMusteriTeslimZamani</th>\n",
       "      <th>TahminiSiparisMusteriTeslimTarihi</th>\n",
       "    </tr>\n",
       "  </thead>\n",
       "  <tbody>\n",
       "    <tr>\n",
       "      <th>0</th>\n",
       "      <td>b81ef226f3fe1789b1e8b2acac839d17</td>\n",
       "      <td>1</td>\n",
       "      <td>credit_card</td>\n",
       "      <td>8</td>\n",
       "      <td>99.33</td>\n",
       "      <td>0a8556ac6be836b46b3e89920d59291c</td>\n",
       "      <td>delivered</td>\n",
       "      <td>2018-04-25 22:01:49</td>\n",
       "      <td>2018-04-25 22:15:09</td>\n",
       "      <td>2018-05-02 15:20:00</td>\n",
       "      <td>2018-05-09 17:36:51</td>\n",
       "      <td>2018-05-22 00:00:00</td>\n",
       "    </tr>\n",
       "    <tr>\n",
       "      <th>1</th>\n",
       "      <td>a9810da82917af2d9aefd1278f1dcfa0</td>\n",
       "      <td>1</td>\n",
       "      <td>credit_card</td>\n",
       "      <td>1</td>\n",
       "      <td>24.39</td>\n",
       "      <td>f2c7fc58a9de810828715166c672f10a</td>\n",
       "      <td>delivered</td>\n",
       "      <td>2018-06-26 11:01:38</td>\n",
       "      <td>2018-06-26 11:18:58</td>\n",
       "      <td>2018-06-28 14:18:00</td>\n",
       "      <td>2018-06-29 20:32:09</td>\n",
       "      <td>2018-07-16 00:00:00</td>\n",
       "    </tr>\n",
       "    <tr>\n",
       "      <th>2</th>\n",
       "      <td>25e8ea4e93396b6fa0d3dd708e76c1bd</td>\n",
       "      <td>1</td>\n",
       "      <td>credit_card</td>\n",
       "      <td>1</td>\n",
       "      <td>65.71</td>\n",
       "      <td>25b14b69de0b6e184ae6fe2755e478f9</td>\n",
       "      <td>delivered</td>\n",
       "      <td>2017-12-12 11:19:55</td>\n",
       "      <td>2017-12-14 09:52:34</td>\n",
       "      <td>2017-12-15 20:13:22</td>\n",
       "      <td>2017-12-18 17:24:41</td>\n",
       "      <td>2018-01-04 00:00:00</td>\n",
       "    </tr>\n",
       "    <tr>\n",
       "      <th>3</th>\n",
       "      <td>ba78997921bbcdc1373bb41e913ab953</td>\n",
       "      <td>1</td>\n",
       "      <td>credit_card</td>\n",
       "      <td>8</td>\n",
       "      <td>107.78</td>\n",
       "      <td>7a5d8efaaa1081f800628c30d2b0728f</td>\n",
       "      <td>delivered</td>\n",
       "      <td>2017-12-06 12:04:06</td>\n",
       "      <td>2017-12-06 12:13:20</td>\n",
       "      <td>2017-12-07 20:28:28</td>\n",
       "      <td>2017-12-21 01:35:51</td>\n",
       "      <td>2018-01-04 00:00:00</td>\n",
       "    </tr>\n",
       "    <tr>\n",
       "      <th>4</th>\n",
       "      <td>42fdf880ba16b47b59251dd489d4441a</td>\n",
       "      <td>1</td>\n",
       "      <td>credit_card</td>\n",
       "      <td>2</td>\n",
       "      <td>128.45</td>\n",
       "      <td>15fd6fb8f8312dbb4674e4518d6fa3b3</td>\n",
       "      <td>delivered</td>\n",
       "      <td>2018-05-21 13:59:17</td>\n",
       "      <td>2018-05-21 16:14:41</td>\n",
       "      <td>2018-05-22 11:46:00</td>\n",
       "      <td>2018-06-01 21:44:53</td>\n",
       "      <td>2018-06-13 00:00:00</td>\n",
       "    </tr>\n",
       "    <tr>\n",
       "      <th>...</th>\n",
       "      <td>...</td>\n",
       "      <td>...</td>\n",
       "      <td>...</td>\n",
       "      <td>...</td>\n",
       "      <td>...</td>\n",
       "      <td>...</td>\n",
       "      <td>...</td>\n",
       "      <td>...</td>\n",
       "      <td>...</td>\n",
       "      <td>...</td>\n",
       "      <td>...</td>\n",
       "      <td>...</td>\n",
       "    </tr>\n",
       "    <tr>\n",
       "      <th>103881</th>\n",
       "      <td>0406037ad97740d563a178ecc7a2075c</td>\n",
       "      <td>1</td>\n",
       "      <td>boleto</td>\n",
       "      <td>1</td>\n",
       "      <td>363.31</td>\n",
       "      <td>5d576cb2dfa3bc05612c392a1ee9c654</td>\n",
       "      <td>delivered</td>\n",
       "      <td>2018-03-08 16:57:23</td>\n",
       "      <td>2018-03-10 03:55:25</td>\n",
       "      <td>2018-03-12 18:19:36</td>\n",
       "      <td>2018-03-16 13:09:51</td>\n",
       "      <td>2018-04-04 00:00:00</td>\n",
       "    </tr>\n",
       "    <tr>\n",
       "      <th>103882</th>\n",
       "      <td>7b905861d7c825891d6347454ea7863f</td>\n",
       "      <td>1</td>\n",
       "      <td>credit_card</td>\n",
       "      <td>2</td>\n",
       "      <td>96.80</td>\n",
       "      <td>2079230c765a88530822a34a4cec2aa0</td>\n",
       "      <td>delivered</td>\n",
       "      <td>2017-08-18 09:45:35</td>\n",
       "      <td>2017-08-18 10:04:56</td>\n",
       "      <td>2017-08-18 18:04:24</td>\n",
       "      <td>2017-08-23 22:25:56</td>\n",
       "      <td>2017-09-12 00:00:00</td>\n",
       "    </tr>\n",
       "    <tr>\n",
       "      <th>103883</th>\n",
       "      <td>32609bbb3dd69b3c066a6860554a77bf</td>\n",
       "      <td>1</td>\n",
       "      <td>credit_card</td>\n",
       "      <td>1</td>\n",
       "      <td>47.77</td>\n",
       "      <td>e4abb5057ec8cfda9759c0dc415a8188</td>\n",
       "      <td>invoiced</td>\n",
       "      <td>2017-11-18 17:27:14</td>\n",
       "      <td>2017-11-18 17:46:05</td>\n",
       "      <td>0</td>\n",
       "      <td>0</td>\n",
       "      <td>2017-12-05 00:00:00</td>\n",
       "    </tr>\n",
       "    <tr>\n",
       "      <th>103884</th>\n",
       "      <td>b8b61059626efa996a60be9bb9320e10</td>\n",
       "      <td>1</td>\n",
       "      <td>credit_card</td>\n",
       "      <td>5</td>\n",
       "      <td>369.54</td>\n",
       "      <td>5d719b0d300663188169c6560e243f27</td>\n",
       "      <td>delivered</td>\n",
       "      <td>2018-08-07 23:26:13</td>\n",
       "      <td>2018-08-07 23:45:00</td>\n",
       "      <td>2018-08-09 11:46:00</td>\n",
       "      <td>2018-08-21 22:41:46</td>\n",
       "      <td>2018-08-24 00:00:00</td>\n",
       "    </tr>\n",
       "    <tr>\n",
       "      <th>103885</th>\n",
       "      <td>28bbae6599b09d39ca406b747b6632b1</td>\n",
       "      <td>1</td>\n",
       "      <td>boleto</td>\n",
       "      <td>1</td>\n",
       "      <td>191.58</td>\n",
       "      <td>4c7f868f43b5cff577b0becb8c8b7860</td>\n",
       "      <td>delivered</td>\n",
       "      <td>2017-12-05 08:18:35</td>\n",
       "      <td>2017-12-06 02:50:09</td>\n",
       "      <td>2017-12-08 00:51:47</td>\n",
       "      <td>2018-02-05 14:59:09</td>\n",
       "      <td>2017-12-29 00:00:00</td>\n",
       "    </tr>\n",
       "  </tbody>\n",
       "</table>\n",
       "<p>103886 rows × 12 columns</p>\n",
       "</div>"
      ],
      "text/plain": [
       "                               SiparisNo  OdemeSirasi    OdemeTipi  \\\n",
       "0       b81ef226f3fe1789b1e8b2acac839d17            1  credit_card   \n",
       "1       a9810da82917af2d9aefd1278f1dcfa0            1  credit_card   \n",
       "2       25e8ea4e93396b6fa0d3dd708e76c1bd            1  credit_card   \n",
       "3       ba78997921bbcdc1373bb41e913ab953            1  credit_card   \n",
       "4       42fdf880ba16b47b59251dd489d4441a            1  credit_card   \n",
       "...                                  ...          ...          ...   \n",
       "103881  0406037ad97740d563a178ecc7a2075c            1       boleto   \n",
       "103882  7b905861d7c825891d6347454ea7863f            1  credit_card   \n",
       "103883  32609bbb3dd69b3c066a6860554a77bf            1  credit_card   \n",
       "103884  b8b61059626efa996a60be9bb9320e10            1  credit_card   \n",
       "103885  28bbae6599b09d39ca406b747b6632b1            1       boleto   \n",
       "\n",
       "        OdemeTaksidi  OdenecekTutar                         MusteriNo  \\\n",
       "0                  8          99.33  0a8556ac6be836b46b3e89920d59291c   \n",
       "1                  1          24.39  f2c7fc58a9de810828715166c672f10a   \n",
       "2                  1          65.71  25b14b69de0b6e184ae6fe2755e478f9   \n",
       "3                  8         107.78  7a5d8efaaa1081f800628c30d2b0728f   \n",
       "4                  2         128.45  15fd6fb8f8312dbb4674e4518d6fa3b3   \n",
       "...              ...            ...                               ...   \n",
       "103881             1         363.31  5d576cb2dfa3bc05612c392a1ee9c654   \n",
       "103882             2          96.80  2079230c765a88530822a34a4cec2aa0   \n",
       "103883             1          47.77  e4abb5057ec8cfda9759c0dc415a8188   \n",
       "103884             5         369.54  5d719b0d300663188169c6560e243f27   \n",
       "103885             1         191.58  4c7f868f43b5cff577b0becb8c8b7860   \n",
       "\n",
       "       SiparisDurumu  SiparisAlinmaZamani   SiparisKabulZamani  \\\n",
       "0          delivered  2018-04-25 22:01:49  2018-04-25 22:15:09   \n",
       "1          delivered  2018-06-26 11:01:38  2018-06-26 11:18:58   \n",
       "2          delivered  2017-12-12 11:19:55  2017-12-14 09:52:34   \n",
       "3          delivered  2017-12-06 12:04:06  2017-12-06 12:13:20   \n",
       "4          delivered  2018-05-21 13:59:17  2018-05-21 16:14:41   \n",
       "...              ...                  ...                  ...   \n",
       "103881     delivered  2018-03-08 16:57:23  2018-03-10 03:55:25   \n",
       "103882     delivered  2017-08-18 09:45:35  2017-08-18 10:04:56   \n",
       "103883      invoiced  2017-11-18 17:27:14  2017-11-18 17:46:05   \n",
       "103884     delivered  2018-08-07 23:26:13  2018-08-07 23:45:00   \n",
       "103885     delivered  2017-12-05 08:18:35  2017-12-06 02:50:09   \n",
       "\n",
       "         SiparisKargoZamani SiparisMusteriTeslimZamani  \\\n",
       "0       2018-05-02 15:20:00        2018-05-09 17:36:51   \n",
       "1       2018-06-28 14:18:00        2018-06-29 20:32:09   \n",
       "2       2017-12-15 20:13:22        2017-12-18 17:24:41   \n",
       "3       2017-12-07 20:28:28        2017-12-21 01:35:51   \n",
       "4       2018-05-22 11:46:00        2018-06-01 21:44:53   \n",
       "...                     ...                        ...   \n",
       "103881  2018-03-12 18:19:36        2018-03-16 13:09:51   \n",
       "103882  2017-08-18 18:04:24        2017-08-23 22:25:56   \n",
       "103883                    0                          0   \n",
       "103884  2018-08-09 11:46:00        2018-08-21 22:41:46   \n",
       "103885  2017-12-08 00:51:47        2018-02-05 14:59:09   \n",
       "\n",
       "       TahminiSiparisMusteriTeslimTarihi  \n",
       "0                    2018-05-22 00:00:00  \n",
       "1                    2018-07-16 00:00:00  \n",
       "2                    2018-01-04 00:00:00  \n",
       "3                    2018-01-04 00:00:00  \n",
       "4                    2018-06-13 00:00:00  \n",
       "...                                  ...  \n",
       "103881               2018-04-04 00:00:00  \n",
       "103882               2017-09-12 00:00:00  \n",
       "103883               2017-12-05 00:00:00  \n",
       "103884               2018-08-24 00:00:00  \n",
       "103885               2017-12-29 00:00:00  \n",
       "\n",
       "[103886 rows x 12 columns]"
      ]
     },
     "execution_count": 79,
     "metadata": {},
     "output_type": "execute_result"
    }
   ],
   "source": [
    "siparis = df4.merge(df6, how='inner', on= \"SiparisNo\")\n",
    "siparis"
   ]
  },
  {
   "cell_type": "code",
   "execution_count": null,
   "metadata": {},
   "outputs": [
    {
     "data": {
      "text/plain": [
       "Index(['SiparisNo', 'OdemeSirasi', 'OdemeTipi', 'OdemeTaksidi',\n",
       "       'OdenecekTutar', 'MusteriNo', 'SiparisDurumu', 'SiparisAlinmaZamani',\n",
       "       'SiparisKabulZamani', 'SiparisKargoZamani',\n",
       "       'SiparisMusteriTeslimZamani', 'TahminiSiparisMusteriTeslimTarihi'],\n",
       "      dtype='object')"
      ]
     },
     "execution_count": 80,
     "metadata": {},
     "output_type": "execute_result"
    }
   ],
   "source": [
    "siparis.columns"
   ]
  },
  {
   "cell_type": "code",
   "execution_count": null,
   "metadata": {},
   "outputs": [
    {
     "data": {
      "text/plain": [
       "SiparisNo                             object\n",
       "OdemeSirasi                            int64\n",
       "OdemeTipi                             object\n",
       "OdemeTaksidi                           int64\n",
       "OdenecekTutar                        float64\n",
       "MusteriNo                             object\n",
       "SiparisDurumu                         object\n",
       "SiparisAlinmaZamani                   object\n",
       "SiparisKabulZamani                    object\n",
       "SiparisKargoZamani                    object\n",
       "SiparisMusteriTeslimZamani            object\n",
       "TahminiSiparisMusteriTeslimTarihi     object\n",
       "dtype: object"
      ]
     },
     "execution_count": 215,
     "metadata": {},
     "output_type": "execute_result"
    }
   ],
   "source": [
    "siparis.dtypes"
   ]
  },
  {
   "cell_type": "code",
   "execution_count": null,
   "metadata": {},
   "outputs": [
    {
     "name": "stderr",
     "output_type": "stream",
     "text": [
      "c:\\Users\\BEYZA ASLAN\\AppData\\Local\\Programs\\Python\\Python310\\lib\\site-packages\\seaborn\\_oldcore.py:1599: UserWarning: Vertical orientation ignored with only `x` specified.\n",
      "  warnings.warn(single_var_warning.format(\"Vertical\", \"x\"))\n"
     ]
    },
    {
     "data": {
      "text/plain": [
       "<AxesSubplot: xlabel='OdenecekTutar'>"
      ]
     },
     "execution_count": 81,
     "metadata": {},
     "output_type": "execute_result"
    },
    {
     "data": {
      "image/png": "[encoded data removed]",
      "text/plain": [
       "<Figure size 640x480 with 1 Axes>"
      ]
     },
     "metadata": {},
     "output_type": "display_data"
    }
   ],
   "source": [
    "sns.boxplot(x = siparis[\"OdenecekTutar\"], orient = \"v\") #aykırı değer tespiti"
   ]
  },
  {
   "cell_type": "code",
   "execution_count": null,
   "metadata": {},
   "outputs": [
    {
     "name": "stderr",
     "output_type": "stream",
     "text": [
      "C:\\Users\\BEYZA ASLAN\\AppData\\Local\\Temp\\ipykernel_13104\\4187354595.py:1: FutureWarning: The default value of numeric_only in DataFrame.mean is deprecated. In a future version, it will default to False. In addition, specifying 'numeric_only=None' is deprecated. Select only valid columns or specify the value of numeric_only to silence this warning.\n",
      "  siparis.mean()\n"
     ]
    },
    {
     "data": {
      "text/plain": [
       "OdemeSirasi        1.092679\n",
       "OdemeTaksidi       2.853349\n",
       "OdenecekTutar    154.100380\n",
       "dtype: float64"
      ]
     },
     "execution_count": 82,
     "metadata": {},
     "output_type": "execute_result"
    }
   ],
   "source": [
    "siparis.mean()"
   ]
  },
  {
   "cell_type": "code",
   "execution_count": null,
   "metadata": {},
   "outputs": [
    {
     "name": "stdout",
     "output_type": "stream",
     "text": [
      "0\n"
     ]
    },
    {
     "data": {
      "text/plain": [
       "SiparisNo                             object\n",
       "OdemeSirasi                            int64\n",
       "OdemeTipi                             object\n",
       "OdemeTaksidi                           int64\n",
       "OdenecekTutar                        float64\n",
       "MusteriNo                             object\n",
       "SiparisDurumu                         object\n",
       "SiparisAlinmaZamani                   object\n",
       "SiparisKabulZamani                    object\n",
       "SiparisKargoZamani                    object\n",
       "SiparisMusteriTeslimZamani            object\n",
       "TahminiSiparisMusteriTeslimTarihi     object\n",
       "dtype: object"
      ]
     },
     "execution_count": 83,
     "metadata": {},
     "output_type": "execute_result"
    }
   ],
   "source": [
    "print(sum(siparis.duplicated(keep=\"first\"))) #dublicate veri kontrolü\n",
    "siparis.dtypes"
   ]
  },
  {
   "cell_type": "code",
   "execution_count": 302,
   "metadata": {},
   "outputs": [
    {
     "data": {
      "text/html": [
       "<div>\n",
       "<style scoped>\n",
       "    .dataframe tbody tr th:only-of-type {\n",
       "        vertical-align: middle;\n",
       "    }\n",
       "\n",
       "    .dataframe tbody tr th {\n",
       "        vertical-align: top;\n",
       "    }\n",
       "\n",
       "    .dataframe thead th {\n",
       "        text-align: right;\n",
       "    }\n",
       "</style>\n",
       "<table border=\"1\" class=\"dataframe\">\n",
       "  <thead>\n",
       "    <tr style=\"text-align: right;\">\n",
       "      <th></th>\n",
       "      <th>SiparisNo</th>\n",
       "      <th>OdemeSirasi</th>\n",
       "      <th>OdemeTipi</th>\n",
       "      <th>OdemeTaksidi</th>\n",
       "      <th>OdenecekTutar</th>\n",
       "      <th>MusteriNo</th>\n",
       "      <th>SiparisDurumu</th>\n",
       "      <th>SiparisAlinmaZamani</th>\n",
       "      <th>SiparisKabulZamani</th>\n",
       "      <th>SiparisKargoZamani</th>\n",
       "      <th>SiparisMusteriTeslimZamani</th>\n",
       "      <th>TahminiSiparisMusteriTeslimTarihi</th>\n",
       "      <th>Toplam_Fiyat</th>\n",
       "    </tr>\n",
       "  </thead>\n",
       "  <tbody>\n",
       "    <tr>\n",
       "      <th>0</th>\n",
       "      <td>b81ef226f3fe1789b1e8b2acac839d17</td>\n",
       "      <td>1</td>\n",
       "      <td>credit_card</td>\n",
       "      <td>8</td>\n",
       "      <td>99.33</td>\n",
       "      <td>0a8556ac6be836b46b3e89920d59291c</td>\n",
       "      <td>delivered</td>\n",
       "      <td>2018-04-25 22:01:49</td>\n",
       "      <td>2018-04-25 22:15:09</td>\n",
       "      <td>2018-05-02 15:20:00</td>\n",
       "      <td>2018-05-09 17:36:51</td>\n",
       "      <td>2018-05-22 00:00:00</td>\n",
       "      <td>794.64</td>\n",
       "    </tr>\n",
       "    <tr>\n",
       "      <th>1</th>\n",
       "      <td>a9810da82917af2d9aefd1278f1dcfa0</td>\n",
       "      <td>1</td>\n",
       "      <td>credit_card</td>\n",
       "      <td>1</td>\n",
       "      <td>24.39</td>\n",
       "      <td>f2c7fc58a9de810828715166c672f10a</td>\n",
       "      <td>delivered</td>\n",
       "      <td>2018-06-26 11:01:38</td>\n",
       "      <td>2018-06-26 11:18:58</td>\n",
       "      <td>2018-06-28 14:18:00</td>\n",
       "      <td>2018-06-29 20:32:09</td>\n",
       "      <td>2018-07-16 00:00:00</td>\n",
       "      <td>24.39</td>\n",
       "    </tr>\n",
       "    <tr>\n",
       "      <th>2</th>\n",
       "      <td>25e8ea4e93396b6fa0d3dd708e76c1bd</td>\n",
       "      <td>1</td>\n",
       "      <td>credit_card</td>\n",
       "      <td>1</td>\n",
       "      <td>65.71</td>\n",
       "      <td>25b14b69de0b6e184ae6fe2755e478f9</td>\n",
       "      <td>delivered</td>\n",
       "      <td>2017-12-12 11:19:55</td>\n",
       "      <td>2017-12-14 09:52:34</td>\n",
       "      <td>2017-12-15 20:13:22</td>\n",
       "      <td>2017-12-18 17:24:41</td>\n",
       "      <td>2018-01-04 00:00:00</td>\n",
       "      <td>65.71</td>\n",
       "    </tr>\n",
       "    <tr>\n",
       "      <th>3</th>\n",
       "      <td>ba78997921bbcdc1373bb41e913ab953</td>\n",
       "      <td>1</td>\n",
       "      <td>credit_card</td>\n",
       "      <td>8</td>\n",
       "      <td>107.78</td>\n",
       "      <td>7a5d8efaaa1081f800628c30d2b0728f</td>\n",
       "      <td>delivered</td>\n",
       "      <td>2017-12-06 12:04:06</td>\n",
       "      <td>2017-12-06 12:13:20</td>\n",
       "      <td>2017-12-07 20:28:28</td>\n",
       "      <td>2017-12-21 01:35:51</td>\n",
       "      <td>2018-01-04 00:00:00</td>\n",
       "      <td>862.24</td>\n",
       "    </tr>\n",
       "    <tr>\n",
       "      <th>4</th>\n",
       "      <td>42fdf880ba16b47b59251dd489d4441a</td>\n",
       "      <td>1</td>\n",
       "      <td>credit_card</td>\n",
       "      <td>2</td>\n",
       "      <td>128.45</td>\n",
       "      <td>15fd6fb8f8312dbb4674e4518d6fa3b3</td>\n",
       "      <td>delivered</td>\n",
       "      <td>2018-05-21 13:59:17</td>\n",
       "      <td>2018-05-21 16:14:41</td>\n",
       "      <td>2018-05-22 11:46:00</td>\n",
       "      <td>2018-06-01 21:44:53</td>\n",
       "      <td>2018-06-13 00:00:00</td>\n",
       "      <td>256.90</td>\n",
       "    </tr>\n",
       "  </tbody>\n",
       "</table>\n",
       "</div>"
      ],
      "text/plain": [
       "                          SiparisNo  OdemeSirasi    OdemeTipi  OdemeTaksidi  \\\n",
       "0  b81ef226f3fe1789b1e8b2acac839d17            1  credit_card             8   \n",
       "1  a9810da82917af2d9aefd1278f1dcfa0            1  credit_card             1   \n",
       "2  25e8ea4e93396b6fa0d3dd708e76c1bd            1  credit_card             1   \n",
       "3  ba78997921bbcdc1373bb41e913ab953            1  credit_card             8   \n",
       "4  42fdf880ba16b47b59251dd489d4441a            1  credit_card             2   \n",
       "\n",
       "   OdenecekTutar                         MusteriNo SiparisDurumu  \\\n",
       "0          99.33  0a8556ac6be836b46b3e89920d59291c     delivered   \n",
       "1          24.39  f2c7fc58a9de810828715166c672f10a     delivered   \n",
       "2          65.71  25b14b69de0b6e184ae6fe2755e478f9     delivered   \n",
       "3         107.78  7a5d8efaaa1081f800628c30d2b0728f     delivered   \n",
       "4         128.45  15fd6fb8f8312dbb4674e4518d6fa3b3     delivered   \n",
       "\n",
       "   SiparisAlinmaZamani   SiparisKabulZamani   SiparisKargoZamani  \\\n",
       "0  2018-04-25 22:01:49  2018-04-25 22:15:09  2018-05-02 15:20:00   \n",
       "1  2018-06-26 11:01:38  2018-06-26 11:18:58  2018-06-28 14:18:00   \n",
       "2  2017-12-12 11:19:55  2017-12-14 09:52:34  2017-12-15 20:13:22   \n",
       "3  2017-12-06 12:04:06  2017-12-06 12:13:20  2017-12-07 20:28:28   \n",
       "4  2018-05-21 13:59:17  2018-05-21 16:14:41  2018-05-22 11:46:00   \n",
       "\n",
       "  SiparisMusteriTeslimZamani TahminiSiparisMusteriTeslimTarihi  Toplam_Fiyat  \n",
       "0        2018-05-09 17:36:51               2018-05-22 00:00:00        794.64  \n",
       "1        2018-06-29 20:32:09               2018-07-16 00:00:00         24.39  \n",
       "2        2017-12-18 17:24:41               2018-01-04 00:00:00         65.71  \n",
       "3        2017-12-21 01:35:51               2018-01-04 00:00:00        862.24  \n",
       "4        2018-06-01 21:44:53               2018-06-13 00:00:00        256.90  "
      ]
     },
     "execution_count": 302,
     "metadata": {},
     "output_type": "execute_result"
    }
   ],
   "source": [
    "siparis['Toplam_Fiyat'] = siparis['OdemeTaksidi']*siparis['OdenecekTutar'] \n",
    "#bir ürüne ödenecek toplam fiyat\n",
    "siparis.head()"
   ]
  },
  {
   "cell_type": "code",
   "execution_count": 303,
   "metadata": {},
   "outputs": [
    {
     "data": {
      "text/html": [
       "<div>\n",
       "<style scoped>\n",
       "    .dataframe tbody tr th:only-of-type {\n",
       "        vertical-align: middle;\n",
       "    }\n",
       "\n",
       "    .dataframe tbody tr th {\n",
       "        vertical-align: top;\n",
       "    }\n",
       "\n",
       "    .dataframe thead th {\n",
       "        text-align: right;\n",
       "    }\n",
       "</style>\n",
       "<table border=\"1\" class=\"dataframe\">\n",
       "  <thead>\n",
       "    <tr style=\"text-align: right;\">\n",
       "      <th></th>\n",
       "      <th>MusteriNo</th>\n",
       "      <th>Toplam_Fiyat</th>\n",
       "    </tr>\n",
       "  </thead>\n",
       "  <tbody>\n",
       "    <tr>\n",
       "      <th>0</th>\n",
       "      <td>00012a2ce6f8dcda20d059ce98491703</td>\n",
       "      <td>917.92</td>\n",
       "    </tr>\n",
       "    <tr>\n",
       "      <th>1</th>\n",
       "      <td>000161a058600d5901f007fab4c27140</td>\n",
       "      <td>337.05</td>\n",
       "    </tr>\n",
       "    <tr>\n",
       "      <th>2</th>\n",
       "      <td>0001fd6190edaaf884bcaf3d49edf079</td>\n",
       "      <td>1954.20</td>\n",
       "    </tr>\n",
       "    <tr>\n",
       "      <th>3</th>\n",
       "      <td>0002414f95344307404f0ace7a26f1d5</td>\n",
       "      <td>179.35</td>\n",
       "    </tr>\n",
       "    <tr>\n",
       "      <th>4</th>\n",
       "      <td>000379cdec625522490c315e70c7a9fb</td>\n",
       "      <td>107.01</td>\n",
       "    </tr>\n",
       "  </tbody>\n",
       "</table>\n",
       "</div>"
      ],
      "text/plain": [
       "                          MusteriNo  Toplam_Fiyat\n",
       "0  00012a2ce6f8dcda20d059ce98491703        917.92\n",
       "1  000161a058600d5901f007fab4c27140        337.05\n",
       "2  0001fd6190edaaf884bcaf3d49edf079       1954.20\n",
       "3  0002414f95344307404f0ace7a26f1d5        179.35\n",
       "4  000379cdec625522490c315e70c7a9fb        107.01"
      ]
     },
     "execution_count": 303,
     "metadata": {},
     "output_type": "execute_result"
    }
   ],
   "source": [
    "siparis.groupby(by=['MusteriNo'], as_index=False)['Toplam_Fiyat'].sum().head()\n",
    "#bir müşterinin toplam harcaması \n"
   ]
  },
  {
   "cell_type": "code",
   "execution_count": 305,
   "metadata": {},
   "outputs": [
    {
     "data": {
      "text/plain": [
       "2017-04-20 12:45:34    29\n",
       "2017-06-07 12:05:10    26\n",
       "2017-12-08 12:00:04    22\n",
       "2017-08-08 20:26:31    21\n",
       "2017-05-12 16:24:51    19\n",
       "                       ..\n",
       "2017-05-31 17:06:39     1\n",
       "2017-11-15 17:32:32     1\n",
       "2017-02-21 16:17:51     1\n",
       "2018-07-21 01:22:16     1\n",
       "2017-12-05 08:18:35     1\n",
       "Name: SiparisAlinmaZamani, Length: 98874, dtype: int64"
      ]
     },
     "execution_count": 305,
     "metadata": {},
     "output_type": "execute_result"
    }
   ],
   "source": [
    "siparis[\"SiparisAlinmaZamani\"].value_counts()"
   ]
  },
  {
   "cell_type": "code",
   "execution_count": 308,
   "metadata": {},
   "outputs": [
    {
     "data": {
      "text/plain": [
       "1                                   151908\n",
       "delivered                           100756\n",
       "credit_card                          76795\n",
       "boleto                               19784\n",
       "2                                    15458\n",
       "                                     ...  \n",
       "2018-06-03 23:56:23                      1\n",
       "b4284429dbdcf5d197a909adf3362caf         1\n",
       "fcdd373db44c238886a0ecf5ec332b95         1\n",
       "2018-04-19 21:08:51                      1\n",
       "2018-02-05 14:59:09                      1\n",
       "Length: 618200, dtype: int64"
      ]
     },
     "execution_count": 308,
     "metadata": {},
     "output_type": "execute_result"
    }
   ],
   "source": [
    "pd.value_counts(siparis.values.flatten())"
   ]
  },
  {
   "cell_type": "code",
   "execution_count": 309,
   "metadata": {},
   "outputs": [
    {
     "ename": "AttributeError",
     "evalue": "'DataFrame' object has no attribute 'InvoiceDate'",
     "output_type": "error",
     "traceback": [
      "\u001b[1;31m---------------------------------------------------------------------------\u001b[0m",
      "\u001b[1;31mAttributeError\u001b[0m                            Traceback (most recent call last)",
      "Cell \u001b[1;32mIn [309], line 1\u001b[0m\n\u001b[1;32m----> 1\u001b[0m siparis[\u001b[39m'\u001b[39m\u001b[39mSiparisAlinmaZamani\u001b[39m\u001b[39m'\u001b[39m] \u001b[39m=\u001b[39m siparis\u001b[39m.\u001b[39;49mInvoiceDate\u001b[39m.\u001b[39mdt\u001b[39m.\u001b[39mto_period(\u001b[39m'\u001b[39m\u001b[39mM\u001b[39m\u001b[39m'\u001b[39m)\u001b[39m.\u001b[39mastype(\u001b[39mstr\u001b[39m)\n\u001b[0;32m      2\u001b[0m order_per_month \u001b[39m=\u001b[39m siparis\u001b[39m.\u001b[39mgroupby(\u001b[39m'\u001b[39m\u001b[39mSiparisAlinmaZamani\u001b[39m\u001b[39m'\u001b[39m, as_index\u001b[39m=\u001b[39m\u001b[39mFalse\u001b[39;00m)\u001b[39m.\u001b[39mTotalPrice\u001b[39m.\u001b[39msum()\n\u001b[0;32m      3\u001b[0m ax \u001b[39m=\u001b[39m sns\u001b[39m.\u001b[39mlineplot(x\u001b[39m=\u001b[39m\u001b[39m\"\u001b[39m\u001b[39mAylık Sipariş\u001b[39m\u001b[39m\"\u001b[39m, y\u001b[39m=\u001b[39m\u001b[39m\"\u001b[39m\u001b[39mToplam Fiyat\u001b[39m\u001b[39m\"\u001b[39m, data\u001b[39m=\u001b[39morder_per_month)\n",
      "File \u001b[1;32mc:\\Users\\BEYZA ASLAN\\AppData\\Local\\Programs\\Python\\Python310\\lib\\site-packages\\pandas\\core\\generic.py:5902\u001b[0m, in \u001b[0;36mNDFrame.__getattr__\u001b[1;34m(self, name)\u001b[0m\n\u001b[0;32m   5895\u001b[0m \u001b[39mif\u001b[39;00m (\n\u001b[0;32m   5896\u001b[0m     name \u001b[39mnot\u001b[39;00m \u001b[39min\u001b[39;00m \u001b[39mself\u001b[39m\u001b[39m.\u001b[39m_internal_names_set\n\u001b[0;32m   5897\u001b[0m     \u001b[39mand\u001b[39;00m name \u001b[39mnot\u001b[39;00m \u001b[39min\u001b[39;00m \u001b[39mself\u001b[39m\u001b[39m.\u001b[39m_metadata\n\u001b[0;32m   5898\u001b[0m     \u001b[39mand\u001b[39;00m name \u001b[39mnot\u001b[39;00m \u001b[39min\u001b[39;00m \u001b[39mself\u001b[39m\u001b[39m.\u001b[39m_accessors\n\u001b[0;32m   5899\u001b[0m     \u001b[39mand\u001b[39;00m \u001b[39mself\u001b[39m\u001b[39m.\u001b[39m_info_axis\u001b[39m.\u001b[39m_can_hold_identifiers_and_holds_name(name)\n\u001b[0;32m   5900\u001b[0m ):\n\u001b[0;32m   5901\u001b[0m     \u001b[39mreturn\u001b[39;00m \u001b[39mself\u001b[39m[name]\n\u001b[1;32m-> 5902\u001b[0m \u001b[39mreturn\u001b[39;00m \u001b[39mobject\u001b[39;49m\u001b[39m.\u001b[39;49m\u001b[39m__getattribute__\u001b[39;49m(\u001b[39mself\u001b[39;49m, name)\n",
      "\u001b[1;31mAttributeError\u001b[0m: 'DataFrame' object has no attribute 'InvoiceDate'"
     ]
    }
   ],
   "source": [
    "siparis['SiparisAlinmaZamani'] = siparis.InvoiceDate.dt.to_period('M').astype(str)\n",
    "order_per_month = siparis.groupby('SiparisAlinmaZamani', as_index=False).TotalPrice.sum()\n",
    "ax = sns.lineplot(x=\"Aylık Sipariş\", y=\"Toplam Fiyat\", data=order_per_month)\n",
    "ax.set_title('Aylık Sipariş')\n"
   ]
  },
  {
   "cell_type": "markdown",
   "metadata": {},
   "source": [
    "------------------------------**customers_dataset ile orders_dataset birleşimi**------------------------------------"
   ]
  },
  {
   "cell_type": "code",
   "execution_count": null,
   "metadata": {},
   "outputs": [
    {
     "data": {
      "text/html": [
       "<div>\n",
       "<style scoped>\n",
       "    .dataframe tbody tr th:only-of-type {\n",
       "        vertical-align: middle;\n",
       "    }\n",
       "\n",
       "    .dataframe tbody tr th {\n",
       "        vertical-align: top;\n",
       "    }\n",
       "\n",
       "    .dataframe thead th {\n",
       "        text-align: right;\n",
       "    }\n",
       "</style>\n",
       "<table border=\"1\" class=\"dataframe\">\n",
       "  <thead>\n",
       "    <tr style=\"text-align: right;\">\n",
       "      <th></th>\n",
       "      <th>MusteriNo</th>\n",
       "      <th>BenzersizMusteriNo</th>\n",
       "      <th>MusteriPostaKodu</th>\n",
       "      <th>MusteriSehri</th>\n",
       "      <th>MusteriUlke</th>\n",
       "      <th>SiparisNo</th>\n",
       "      <th>SiparisDurumu</th>\n",
       "      <th>SiparisAlinmaZamani</th>\n",
       "      <th>SiparisKabulZamani</th>\n",
       "      <th>SiparisKargoZamani</th>\n",
       "      <th>SiparisMusteriTeslimZamani</th>\n",
       "      <th>TahminiSiparisMusteriTeslimTarihi</th>\n",
       "    </tr>\n",
       "  </thead>\n",
       "  <tbody>\n",
       "    <tr>\n",
       "      <th>0</th>\n",
       "      <td>06b8999e2fba1a1fbc88172c00ba8bc7</td>\n",
       "      <td>861eff4711a542e4b93843c6dd7febb0</td>\n",
       "      <td>14409</td>\n",
       "      <td>franca</td>\n",
       "      <td>SP</td>\n",
       "      <td>00e7ee1b050b8499577073aeb2a297a1</td>\n",
       "      <td>delivered</td>\n",
       "      <td>2017-05-16 15:05:35</td>\n",
       "      <td>2017-05-16 15:22:12</td>\n",
       "      <td>2017-05-23 10:47:57</td>\n",
       "      <td>2017-05-25 10:35:35</td>\n",
       "      <td>2017-06-05 00:00:00</td>\n",
       "    </tr>\n",
       "    <tr>\n",
       "      <th>1</th>\n",
       "      <td>18955e83d337fd6b2def6b18a428ac77</td>\n",
       "      <td>290c77bc529b7ac935b93aa66c333dc3</td>\n",
       "      <td>9790</td>\n",
       "      <td>sao bernardo do campo</td>\n",
       "      <td>SP</td>\n",
       "      <td>29150127e6685892b6eab3eec79f59c7</td>\n",
       "      <td>delivered</td>\n",
       "      <td>2018-01-12 20:48:24</td>\n",
       "      <td>2018-01-12 20:58:32</td>\n",
       "      <td>2018-01-15 17:14:59</td>\n",
       "      <td>2018-01-29 12:41:19</td>\n",
       "      <td>2018-02-06 00:00:00</td>\n",
       "    </tr>\n",
       "    <tr>\n",
       "      <th>2</th>\n",
       "      <td>4e7b3e00288586ebd08712fdd0374a03</td>\n",
       "      <td>060e732b5b29e8181a18229c7b0b2b5e</td>\n",
       "      <td>1151</td>\n",
       "      <td>sao paulo</td>\n",
       "      <td>SP</td>\n",
       "      <td>b2059ed67ce144a36e2aa97d2c9e9ad2</td>\n",
       "      <td>delivered</td>\n",
       "      <td>2018-05-19 16:07:45</td>\n",
       "      <td>2018-05-20 16:19:10</td>\n",
       "      <td>2018-06-11 14:31:00</td>\n",
       "      <td>2018-06-14 17:58:51</td>\n",
       "      <td>2018-06-13 00:00:00</td>\n",
       "    </tr>\n",
       "    <tr>\n",
       "      <th>3</th>\n",
       "      <td>b2b6027bc5c5109e529d4dc6358b12c3</td>\n",
       "      <td>259dac757896d24d7702b9acbbff3f3c</td>\n",
       "      <td>8775</td>\n",
       "      <td>mogi das cruzes</td>\n",
       "      <td>SP</td>\n",
       "      <td>951670f92359f4fe4a63112aa7306eba</td>\n",
       "      <td>delivered</td>\n",
       "      <td>2018-03-13 16:06:38</td>\n",
       "      <td>2018-03-13 17:29:19</td>\n",
       "      <td>2018-03-27 23:22:42</td>\n",
       "      <td>2018-03-28 16:04:25</td>\n",
       "      <td>2018-04-10 00:00:00</td>\n",
       "    </tr>\n",
       "    <tr>\n",
       "      <th>4</th>\n",
       "      <td>4f2d8ab171c80ec8364f7c12e35b23ad</td>\n",
       "      <td>345ecd01c38d18a9036ed96c73b8d066</td>\n",
       "      <td>13056</td>\n",
       "      <td>campinas</td>\n",
       "      <td>SP</td>\n",
       "      <td>6b7d50bd145f6fc7f33cebabd7e49d0f</td>\n",
       "      <td>delivered</td>\n",
       "      <td>2018-07-29 09:51:30</td>\n",
       "      <td>2018-07-29 10:10:09</td>\n",
       "      <td>2018-07-30 15:16:00</td>\n",
       "      <td>2018-08-09 20:55:48</td>\n",
       "      <td>2018-08-15 00:00:00</td>\n",
       "    </tr>\n",
       "    <tr>\n",
       "      <th>...</th>\n",
       "      <td>...</td>\n",
       "      <td>...</td>\n",
       "      <td>...</td>\n",
       "      <td>...</td>\n",
       "      <td>...</td>\n",
       "      <td>...</td>\n",
       "      <td>...</td>\n",
       "      <td>...</td>\n",
       "      <td>...</td>\n",
       "      <td>...</td>\n",
       "      <td>...</td>\n",
       "      <td>...</td>\n",
       "    </tr>\n",
       "    <tr>\n",
       "      <th>99436</th>\n",
       "      <td>17ddf5dd5d51696bb3d7c6291687be6f</td>\n",
       "      <td>1a29b476fee25c95fbafc67c5ac95cf8</td>\n",
       "      <td>3937</td>\n",
       "      <td>sao paulo</td>\n",
       "      <td>SP</td>\n",
       "      <td>6760e20addcf0121e9d58f2f1ff14298</td>\n",
       "      <td>delivered</td>\n",
       "      <td>2018-04-07 15:48:17</td>\n",
       "      <td>2018-04-07 16:08:45</td>\n",
       "      <td>2018-04-11 02:08:36</td>\n",
       "      <td>2018-04-13 20:06:37</td>\n",
       "      <td>2018-04-25 00:00:00</td>\n",
       "    </tr>\n",
       "    <tr>\n",
       "      <th>99437</th>\n",
       "      <td>e7b71a9017aa05c9a7fd292d714858e8</td>\n",
       "      <td>d52a67c98be1cf6a5c84435bd38d095d</td>\n",
       "      <td>6764</td>\n",
       "      <td>taboao da serra</td>\n",
       "      <td>SP</td>\n",
       "      <td>9ec0c8947d973db4f4e8dcf1fbfa8f1b</td>\n",
       "      <td>delivered</td>\n",
       "      <td>2018-04-04 08:20:22</td>\n",
       "      <td>2018-04-04 08:35:12</td>\n",
       "      <td>2018-04-05 18:42:35</td>\n",
       "      <td>2018-04-11 18:54:45</td>\n",
       "      <td>2018-04-20 00:00:00</td>\n",
       "    </tr>\n",
       "    <tr>\n",
       "      <th>99438</th>\n",
       "      <td>5e28dfe12db7fb50a4b2f691faecea5e</td>\n",
       "      <td>e9f50caf99f032f0bf3c55141f019d99</td>\n",
       "      <td>60115</td>\n",
       "      <td>fortaleza</td>\n",
       "      <td>CE</td>\n",
       "      <td>fed4434add09a6f332ea398efd656a5c</td>\n",
       "      <td>delivered</td>\n",
       "      <td>2018-04-08 20:11:50</td>\n",
       "      <td>2018-04-08 20:30:03</td>\n",
       "      <td>2018-04-09 17:52:17</td>\n",
       "      <td>2018-05-09 19:03:15</td>\n",
       "      <td>2018-05-02 00:00:00</td>\n",
       "    </tr>\n",
       "    <tr>\n",
       "      <th>99439</th>\n",
       "      <td>56b18e2166679b8a959d72dd06da27f9</td>\n",
       "      <td>73c2643a0a458b49f58cea58833b192e</td>\n",
       "      <td>92120</td>\n",
       "      <td>canoas</td>\n",
       "      <td>RS</td>\n",
       "      <td>e31ec91cea1ecf97797787471f98a8c2</td>\n",
       "      <td>delivered</td>\n",
       "      <td>2017-11-03 21:08:33</td>\n",
       "      <td>2017-11-03 21:31:20</td>\n",
       "      <td>2017-11-06 18:24:41</td>\n",
       "      <td>2017-11-16 19:58:39</td>\n",
       "      <td>2017-12-05 00:00:00</td>\n",
       "    </tr>\n",
       "    <tr>\n",
       "      <th>99440</th>\n",
       "      <td>274fa6071e5e17fe303b9748641082c8</td>\n",
       "      <td>84732c5050c01db9b23e19ba39899398</td>\n",
       "      <td>6703</td>\n",
       "      <td>cotia</td>\n",
       "      <td>SP</td>\n",
       "      <td>28db69209a75e59f20ccbb5c36a20b90</td>\n",
       "      <td>delivered</td>\n",
       "      <td>2017-12-19 14:27:23</td>\n",
       "      <td>2017-12-19 18:50:39</td>\n",
       "      <td>2017-12-21 19:17:21</td>\n",
       "      <td>2017-12-26 18:42:36</td>\n",
       "      <td>2018-01-08 00:00:00</td>\n",
       "    </tr>\n",
       "  </tbody>\n",
       "</table>\n",
       "<p>99441 rows × 12 columns</p>\n",
       "</div>"
      ],
      "text/plain": [
       "                              MusteriNo                BenzersizMusteriNo  \\\n",
       "0      06b8999e2fba1a1fbc88172c00ba8bc7  861eff4711a542e4b93843c6dd7febb0   \n",
       "1      18955e83d337fd6b2def6b18a428ac77  290c77bc529b7ac935b93aa66c333dc3   \n",
       "2      4e7b3e00288586ebd08712fdd0374a03  060e732b5b29e8181a18229c7b0b2b5e   \n",
       "3      b2b6027bc5c5109e529d4dc6358b12c3  259dac757896d24d7702b9acbbff3f3c   \n",
       "4      4f2d8ab171c80ec8364f7c12e35b23ad  345ecd01c38d18a9036ed96c73b8d066   \n",
       "...                                 ...                               ...   \n",
       "99436  17ddf5dd5d51696bb3d7c6291687be6f  1a29b476fee25c95fbafc67c5ac95cf8   \n",
       "99437  e7b71a9017aa05c9a7fd292d714858e8  d52a67c98be1cf6a5c84435bd38d095d   \n",
       "99438  5e28dfe12db7fb50a4b2f691faecea5e  e9f50caf99f032f0bf3c55141f019d99   \n",
       "99439  56b18e2166679b8a959d72dd06da27f9  73c2643a0a458b49f58cea58833b192e   \n",
       "99440  274fa6071e5e17fe303b9748641082c8  84732c5050c01db9b23e19ba39899398   \n",
       "\n",
       "       MusteriPostaKodu           MusteriSehri MusteriUlke  \\\n",
       "0                 14409                 franca          SP   \n",
       "1                  9790  sao bernardo do campo          SP   \n",
       "2                  1151              sao paulo          SP   \n",
       "3                  8775        mogi das cruzes          SP   \n",
       "4                 13056               campinas          SP   \n",
       "...                 ...                    ...         ...   \n",
       "99436              3937              sao paulo          SP   \n",
       "99437              6764        taboao da serra          SP   \n",
       "99438             60115              fortaleza          CE   \n",
       "99439             92120                 canoas          RS   \n",
       "99440              6703                  cotia          SP   \n",
       "\n",
       "                              SiparisNo SiparisDurumu  SiparisAlinmaZamani  \\\n",
       "0      00e7ee1b050b8499577073aeb2a297a1     delivered  2017-05-16 15:05:35   \n",
       "1      29150127e6685892b6eab3eec79f59c7     delivered  2018-01-12 20:48:24   \n",
       "2      b2059ed67ce144a36e2aa97d2c9e9ad2     delivered  2018-05-19 16:07:45   \n",
       "3      951670f92359f4fe4a63112aa7306eba     delivered  2018-03-13 16:06:38   \n",
       "4      6b7d50bd145f6fc7f33cebabd7e49d0f     delivered  2018-07-29 09:51:30   \n",
       "...                                 ...           ...                  ...   \n",
       "99436  6760e20addcf0121e9d58f2f1ff14298     delivered  2018-04-07 15:48:17   \n",
       "99437  9ec0c8947d973db4f4e8dcf1fbfa8f1b     delivered  2018-04-04 08:20:22   \n",
       "99438  fed4434add09a6f332ea398efd656a5c     delivered  2018-04-08 20:11:50   \n",
       "99439  e31ec91cea1ecf97797787471f98a8c2     delivered  2017-11-03 21:08:33   \n",
       "99440  28db69209a75e59f20ccbb5c36a20b90     delivered  2017-12-19 14:27:23   \n",
       "\n",
       "        SiparisKabulZamani   SiparisKargoZamani SiparisMusteriTeslimZamani  \\\n",
       "0      2017-05-16 15:22:12  2017-05-23 10:47:57        2017-05-25 10:35:35   \n",
       "1      2018-01-12 20:58:32  2018-01-15 17:14:59        2018-01-29 12:41:19   \n",
       "2      2018-05-20 16:19:10  2018-06-11 14:31:00        2018-06-14 17:58:51   \n",
       "3      2018-03-13 17:29:19  2018-03-27 23:22:42        2018-03-28 16:04:25   \n",
       "4      2018-07-29 10:10:09  2018-07-30 15:16:00        2018-08-09 20:55:48   \n",
       "...                    ...                  ...                        ...   \n",
       "99436  2018-04-07 16:08:45  2018-04-11 02:08:36        2018-04-13 20:06:37   \n",
       "99437  2018-04-04 08:35:12  2018-04-05 18:42:35        2018-04-11 18:54:45   \n",
       "99438  2018-04-08 20:30:03  2018-04-09 17:52:17        2018-05-09 19:03:15   \n",
       "99439  2017-11-03 21:31:20  2017-11-06 18:24:41        2017-11-16 19:58:39   \n",
       "99440  2017-12-19 18:50:39  2017-12-21 19:17:21        2017-12-26 18:42:36   \n",
       "\n",
       "      TahminiSiparisMusteriTeslimTarihi  \n",
       "0                   2017-06-05 00:00:00  \n",
       "1                   2018-02-06 00:00:00  \n",
       "2                   2018-06-13 00:00:00  \n",
       "3                   2018-04-10 00:00:00  \n",
       "4                   2018-08-15 00:00:00  \n",
       "...                                 ...  \n",
       "99436               2018-04-25 00:00:00  \n",
       "99437               2018-04-20 00:00:00  \n",
       "99438               2018-05-02 00:00:00  \n",
       "99439               2017-12-05 00:00:00  \n",
       "99440               2018-01-08 00:00:00  \n",
       "\n",
       "[99441 rows x 12 columns]"
      ]
     },
     "execution_count": 84,
     "metadata": {},
     "output_type": "execute_result"
    }
   ],
   "source": [
    "musteri_siparis=df1.merge(df6, how='inner', on= \"MusteriNo\")\n",
    "musteri_siparis\n"
   ]
  },
  {
   "cell_type": "code",
   "execution_count": null,
   "metadata": {},
   "outputs": [
    {
     "data": {
      "text/plain": [
       "<AxesSubplot: >"
      ]
     },
     "execution_count": 85,
     "metadata": {},
     "output_type": "execute_result"
    },
    {
     "data": {
      "image/png": "[encoded data removed]",
      "text/plain": [
       "<Figure size 640x480 with 1 Axes>"
      ]
     },
     "metadata": {},
     "output_type": "display_data"
    }
   ],
   "source": [
    "sns.boxplot(musteri_siparis)"
   ]
  },
  {
   "cell_type": "code",
   "execution_count": null,
   "metadata": {},
   "outputs": [
    {
     "data": {
      "text/plain": [
       "Index(['MusteriNo', 'BenzersizMusteriNo', 'MusteriPostaKodu', 'MusteriSehri',\n",
       "       'MusteriUlke', 'SiparisNo', 'SiparisDurumu', 'SiparisAlinmaZamani',\n",
       "       'SiparisKabulZamani', 'SiparisKargoZamani',\n",
       "       'SiparisMusteriTeslimZamani', 'TahminiSiparisMusteriTeslimTarihi'],\n",
       "      dtype='object')"
      ]
     },
     "execution_count": 86,
     "metadata": {},
     "output_type": "execute_result"
    }
   ],
   "source": [
    "musteri_siparis.columns"
   ]
  },
  {
   "cell_type": "code",
   "execution_count": 299,
   "metadata": {},
   "outputs": [
    {
     "data": {
      "text/plain": [
       "MusteriNo                         MusteriUlke\n",
       "00012a2ce6f8dcda20d059ce98491703  SP             1\n",
       "000161a058600d5901f007fab4c27140  MG             1\n",
       "0001fd6190edaaf884bcaf3d49edf079  ES             1\n",
       "0002414f95344307404f0ace7a26f1d5  MG             1\n",
       "000379cdec625522490c315e70c7a9fb  SP             1\n",
       "Name: SiparisNo, dtype: int64"
      ]
     },
     "execution_count": 299,
     "metadata": {},
     "output_type": "execute_result"
    }
   ],
   "source": [
    "musteri_siparis.groupby(by=['MusteriNo','MusteriUlke'])['SiparisNo'].count().head() \n",
    "#müşterilerin ülke bazında ne kadar siperiş verdikleri\n"
   ]
  },
  {
   "cell_type": "code",
   "execution_count": null,
   "metadata": {},
   "outputs": [
    {
     "name": "stdout",
     "output_type": "stream",
     "text": [
      "0\n"
     ]
    },
    {
     "data": {
      "text/plain": [
       "MusteriNo                            object\n",
       "BenzersizMusteriNo                   object\n",
       "MusteriPostaKodu                      int64\n",
       "MusteriSehri                         object\n",
       "MusteriUlke                          object\n",
       "SiparisNo                            object\n",
       "SiparisDurumu                        object\n",
       "SiparisAlinmaZamani                  object\n",
       "SiparisKabulZamani                   object\n",
       "SiparisKargoZamani                   object\n",
       "SiparisMusteriTeslimZamani           object\n",
       "TahminiSiparisMusteriTeslimTarihi    object\n",
       "dtype: object"
      ]
     },
     "execution_count": 87,
     "metadata": {},
     "output_type": "execute_result"
    }
   ],
   "source": [
    "print(sum(musteri_siparis.duplicated(keep=\"first\"))) #dublicate veri kontrolü\n",
    "musteri_siparis.dtypes"
   ]
  },
  {
   "cell_type": "code",
   "execution_count": 311,
   "metadata": {},
   "outputs": [
    {
     "data": {
      "text/plain": [
       "delivered      96478\n",
       "shipped         1107\n",
       "canceled         625\n",
       "unavailable      609\n",
       "invoiced         314\n",
       "processing       301\n",
       "created            5\n",
       "approved           2\n",
       "Name: SiparisDurumu, dtype: int64"
      ]
     },
     "execution_count": 311,
     "metadata": {},
     "output_type": "execute_result"
    }
   ],
   "source": [
    "musteri_siparis[\"SiparisDurumu\"].value_counts()"
   ]
  },
  {
   "cell_type": "code",
   "execution_count": 316,
   "metadata": {},
   "outputs": [
    {
     "data": {
      "text/plain": [
       "SiparisNo                         TahminiSiparisMusteriTeslimTarihi\n",
       "00010242fe8c5a6d1ba2dd792cb16214  2017-09-29 00:00:00                  1\n",
       "00018f77f2f0320c557190d7a144bdd3  2017-05-15 00:00:00                  1\n",
       "000229ec398224ef6ca0657da4fc703e  2018-02-05 00:00:00                  1\n",
       "00024acbcdf0a6daa1e931b038114c75  2018-08-20 00:00:00                  1\n",
       "00042b26cf59d7ce69dfabb4e55b4fd9  2017-03-17 00:00:00                  1\n",
       "                                                                      ..\n",
       "fffc94f6ce00a00581880bf54a75a037  2018-05-18 00:00:00                  1\n",
       "fffcd46ef2263f404302a634eb57f7eb  2018-08-01 00:00:00                  1\n",
       "fffce4705a9662cd70adb13d4a31832d  2017-11-10 00:00:00                  1\n",
       "fffe18544ffabc95dfada21779c9644f  2017-08-25 00:00:00                  1\n",
       "fffe41c64501cc87c801fd61db3f6244  2018-06-28 00:00:00                  1\n",
       "Name: TahminiSiparisMusteriTeslimTarihi, Length: 99441, dtype: int64"
      ]
     },
     "execution_count": 316,
     "metadata": {},
     "output_type": "execute_result"
    }
   ],
   "source": [
    "musteri_siparis.groupby(\"SiparisNo\")[\"TahminiSiparisMusteriTeslimTarihi\"].value_counts() \n",
    "#sipariş numarasına göre tahmini teslim tarihi"
   ]
  },
  {
   "cell_type": "code",
   "execution_count": 312,
   "metadata": {},
   "outputs": [
    {
     "data": {
      "text/plain": [
       "SiparisDurumu  MusteriUlke\n",
       "approved       MG               1\n",
       "               SP               1\n",
       "canceled       SP             327\n",
       "               RJ              86\n",
       "               MG              64\n",
       "                             ... \n",
       "unavailable    PA               2\n",
       "               AL               1\n",
       "               AM               1\n",
       "               PI               1\n",
       "               TO               1\n",
       "Name: MusteriUlke, Length: 149, dtype: int64"
      ]
     },
     "execution_count": 312,
     "metadata": {},
     "output_type": "execute_result"
    }
   ],
   "source": [
    "musteri_siparis.groupby(\"SiparisDurumu\")[\"MusteriUlke\"].value_counts() \n",
    "#siparislerin ülkelere göre durumu"
   ]
  },
  {
   "cell_type": "code",
   "execution_count": 314,
   "metadata": {},
   "outputs": [
    {
     "data": {
      "text/plain": [
       "SiparisDurumu  SiparisMusteriTeslimZamani\n",
       "approved       0                                2\n",
       "canceled       0                              619\n",
       "               2016-10-14 15:07:11              1\n",
       "               2016-10-16 14:36:59              1\n",
       "               2016-10-19 18:47:43              1\n",
       "                                             ... \n",
       "delivered      2018-10-17 13:22:46              1\n",
       "invoiced       0                              314\n",
       "processing     0                              301\n",
       "shipped        0                             1107\n",
       "unavailable    0                              609\n",
       "Name: SiparisMusteriTeslimZamani, Length: 95672, dtype: int64"
      ]
     },
     "execution_count": 314,
     "metadata": {},
     "output_type": "execute_result"
    }
   ],
   "source": [
    "musteri_siparis.groupby(\"SiparisDurumu\")[\"SiparisMusteriTeslimZamani\"].value_counts() \n",
    "#sipariş durumuna göre teslim zamanı\n"
   ]
  }
 ],
 "metadata": {
  "kernelspec": {
   "display_name": "Python 3.10.7 64-bit",
   "language": "python",
   "name": "python3"
  },
  "language_info": {
   "codemirror_mode": {
    "name": "ipython",
    "version": 3
   },
   "file_extension": ".py",
   "mimetype": "text/x-python",
   "name": "python",
   "nbconvert_exporter": "python",
   "pygments_lexer": "ipython3",
   "version": "3.10.7"
  },
  "orig_nbformat": 4,
  "vscode": {
   "interpreter": {
    "hash": "1d8047cf9a3fb5d39b90451c85057b3ab99e4664a0128e29f03111a30f920c3d"
   }
  }
 },
 "nbformat": 4,
 "nbformat_minor": 2
}
